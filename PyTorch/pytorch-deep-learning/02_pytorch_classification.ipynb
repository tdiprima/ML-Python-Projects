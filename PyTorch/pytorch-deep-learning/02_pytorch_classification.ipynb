{
 "cells": [
  {
   "cell_type": "markdown",
   "metadata": {
    "button": false,
    "deletable": true,
    "id": "BZ0Xn7qVenp8",
    "new_sheet": false,
    "run_control": {
     "read_only": false
    }
   },
   "source": [
    "# 02. Neural Network classification with PyTorch\n",
    "\n",
    "Classification is a problem of predicting whether something is one thing or another (there can be multiple things as the options).\n",
    "\n",
    "* Book version of this notebook - https://www.learnpytorch.io/02_pytorch_classification/\n",
    "* All other resources - https://github.com/mrdbourke/pytorch-deep-learning\n",
    "* Stuck? Ask a question - https://github.com/mrdbourke/pytorch-deep-learning/discussions"
   ]
  },
  {
   "cell_type": "markdown",
   "metadata": {
    "button": false,
    "deletable": true,
    "id": "0exlIszJfBFB",
    "new_sheet": false,
    "run_control": {
     "read_only": false
    }
   },
   "source": [
    "## 1. Make classification data and get it ready"
   ]
  },
  {
   "cell_type": "code",
   "execution_count": 1,
   "metadata": {
    "button": false,
    "collapsed": true,
    "deletable": true,
    "id": "ywkhYun3fW3a",
    "new_sheet": false,
    "run_control": {
     "read_only": false
    }
   },
   "outputs": [],
   "source": [
    "import sklearn"
   ]
  },
  {
   "cell_type": "code",
   "execution_count": 2,
   "metadata": {
    "button": false,
    "collapsed": true,
    "deletable": true,
    "id": "o5ssZfgjfUC2",
    "new_sheet": false,
    "run_control": {
     "read_only": false
    }
   },
   "outputs": [],
   "source": [
    "from sklearn.datasets import make_circles\n",
    "\n",
    "# Make 1000 samples\n",
    "n_samples = 1000\n",
    "\n",
    "# Create circles\n",
    "X, y = make_circles(n_samples,\n",
    "                    noise=0.03,\n",
    "                    random_state=42)"
   ]
  },
  {
   "cell_type": "code",
   "execution_count": 3,
   "metadata": {
    "button": false,
    "colab": {
     "base_uri": "https://localhost:8080/"
    },
    "collapsed": false,
    "deletable": true,
    "id": "96fM0MUYfrhg",
    "new_sheet": false,
    "outputId": "35d3f186-290a-42da-99ca-1747985b0646",
    "run_control": {
     "read_only": false
    }
   },
   "outputs": [
    {
     "data": {
      "text/plain": [
       "(1000, 1000)"
      ]
     },
     "execution_count": 3,
     "metadata": {},
     "output_type": "execute_result"
    }
   ],
   "source": [
    "len(X), len(y)"
   ]
  },
  {
   "cell_type": "code",
   "execution_count": 4,
   "metadata": {
    "button": false,
    "colab": {
     "base_uri": "https://localhost:8080/"
    },
    "collapsed": false,
    "deletable": true,
    "id": "ew1Hds-dftUS",
    "new_sheet": false,
    "outputId": "d2096102-3d78-4c00-cb38-b0a7c7ac20f4",
    "run_control": {
     "read_only": false
    }
   },
   "outputs": [
    {
     "name": "stdout",
     "output_type": "stream",
     "text": [
      "First 5 samples of X:\n",
      " [[ 0.75424625  0.23148074]\n",
      " [-0.75615888  0.15325888]\n",
      " [-0.81539193  0.17328203]\n",
      " [-0.39373073  0.69288277]\n",
      " [ 0.44220765 -0.89672343]]\n",
      "First 5 samples of y:\n",
      " [1 1 1 1 0]\n"
     ]
    }
   ],
   "source": [
    "print(f\"First 5 samples of X:\\n {X[:5]}\")\n",
    "print(f\"First 5 samples of y:\\n {y[:5]}\")"
   ]
  },
  {
   "cell_type": "code",
   "execution_count": 5,
   "metadata": {
    "button": false,
    "colab": {
     "base_uri": "https://localhost:8080/",
     "height": 363
    },
    "collapsed": false,
    "deletable": true,
    "id": "yCU7lYZ9gFAf",
    "new_sheet": false,
    "outputId": "a87ead48-2b4e-409f-eec1-bb3cfdb26ffb",
    "run_control": {
     "read_only": false
    }
   },
   "outputs": [
    {
     "data": {
      "text/html": [
       "\n",
       "  <div id=\"df-cf582955-0725-4873-8b0e-e0fc272c18f2\">\n",
       "    <div class=\"colab-df-container\">\n",
       "      <div>\n",
       "<style scoped>\n",
       "    .dataframe tbody tr th:only-of-type {\n",
       "        vertical-align: middle;\n",
       "    }\n",
       "\n",
       "    .dataframe tbody tr th {\n",
       "        vertical-align: top;\n",
       "    }\n",
       "\n",
       "    .dataframe thead th {\n",
       "        text-align: right;\n",
       "    }\n",
       "</style>\n",
       "<table border=\"1\" class=\"dataframe\">\n",
       "  <thead>\n",
       "    <tr style=\"text-align: right;\">\n",
       "      <th></th>\n",
       "      <th>X1</th>\n",
       "      <th>X2</th>\n",
       "      <th>label</th>\n",
       "    </tr>\n",
       "  </thead>\n",
       "  <tbody>\n",
       "    <tr>\n",
       "      <th>0</th>\n",
       "      <td>0.754246</td>\n",
       "      <td>0.231481</td>\n",
       "      <td>1</td>\n",
       "    </tr>\n",
       "    <tr>\n",
       "      <th>1</th>\n",
       "      <td>-0.756159</td>\n",
       "      <td>0.153259</td>\n",
       "      <td>1</td>\n",
       "    </tr>\n",
       "    <tr>\n",
       "      <th>2</th>\n",
       "      <td>-0.815392</td>\n",
       "      <td>0.173282</td>\n",
       "      <td>1</td>\n",
       "    </tr>\n",
       "    <tr>\n",
       "      <th>3</th>\n",
       "      <td>-0.393731</td>\n",
       "      <td>0.692883</td>\n",
       "      <td>1</td>\n",
       "    </tr>\n",
       "    <tr>\n",
       "      <th>4</th>\n",
       "      <td>0.442208</td>\n",
       "      <td>-0.896723</td>\n",
       "      <td>0</td>\n",
       "    </tr>\n",
       "    <tr>\n",
       "      <th>5</th>\n",
       "      <td>-0.479646</td>\n",
       "      <td>0.676435</td>\n",
       "      <td>1</td>\n",
       "    </tr>\n",
       "    <tr>\n",
       "      <th>6</th>\n",
       "      <td>-0.013648</td>\n",
       "      <td>0.803349</td>\n",
       "      <td>1</td>\n",
       "    </tr>\n",
       "    <tr>\n",
       "      <th>7</th>\n",
       "      <td>0.771513</td>\n",
       "      <td>0.147760</td>\n",
       "      <td>1</td>\n",
       "    </tr>\n",
       "    <tr>\n",
       "      <th>8</th>\n",
       "      <td>-0.169322</td>\n",
       "      <td>-0.793456</td>\n",
       "      <td>1</td>\n",
       "    </tr>\n",
       "    <tr>\n",
       "      <th>9</th>\n",
       "      <td>-0.121486</td>\n",
       "      <td>1.021509</td>\n",
       "      <td>0</td>\n",
       "    </tr>\n",
       "  </tbody>\n",
       "</table>\n",
       "</div>\n",
       "      <button class=\"colab-df-convert\" onclick=\"convertToInteractive('df-cf582955-0725-4873-8b0e-e0fc272c18f2')\"\n",
       "              title=\"Convert this dataframe to an interactive table.\"\n",
       "              style=\"display:none;\">\n",
       "        \n",
       "  <svg xmlns=\"http://www.w3.org/2000/svg\" height=\"24px\"viewBox=\"0 0 24 24\"\n",
       "       width=\"24px\">\n",
       "    <path d=\"M0 0h24v24H0V0z\" fill=\"none\"/>\n",
       "    <path d=\"M18.56 5.44l.94 2.06.94-2.06 2.06-.94-2.06-.94-.94-2.06-.94 2.06-2.06.94zm-11 1L8.5 8.5l.94-2.06 2.06-.94-2.06-.94L8.5 2.5l-.94 2.06-2.06.94zm10 10l.94 2.06.94-2.06 2.06-.94-2.06-.94-.94-2.06-.94 2.06-2.06.94z\"/><path d=\"M17.41 7.96l-1.37-1.37c-.4-.4-.92-.59-1.43-.59-.52 0-1.04.2-1.43.59L10.3 9.45l-7.72 7.72c-.78.78-.78 2.05 0 2.83L4 21.41c.39.39.9.59 1.41.59.51 0 1.02-.2 1.41-.59l7.78-7.78 2.81-2.81c.8-.78.8-2.07 0-2.86zM5.41 20L4 18.59l7.72-7.72 1.47 1.35L5.41 20z\"/>\n",
       "  </svg>\n",
       "      </button>\n",
       "      \n",
       "  <style>\n",
       "    .colab-df-container {\n",
       "      display:flex;\n",
       "      flex-wrap:wrap;\n",
       "      gap: 12px;\n",
       "    }\n",
       "\n",
       "    .colab-df-convert {\n",
       "      background-color: #E8F0FE;\n",
       "      border: none;\n",
       "      border-radius: 50%;\n",
       "      cursor: pointer;\n",
       "      display: none;\n",
       "      fill: #1967D2;\n",
       "      height: 32px;\n",
       "      padding: 0 0 0 0;\n",
       "      width: 32px;\n",
       "    }\n",
       "\n",
       "    .colab-df-convert:hover {\n",
       "      background-color: #E2EBFA;\n",
       "      box-shadow: 0px 1px 2px rgba(60, 64, 67, 0.3), 0px 1px 3px 1px rgba(60, 64, 67, 0.15);\n",
       "      fill: #174EA6;\n",
       "    }\n",
       "\n",
       "    [theme=dark] .colab-df-convert {\n",
       "      background-color: #3B4455;\n",
       "      fill: #D2E3FC;\n",
       "    }\n",
       "\n",
       "    [theme=dark] .colab-df-convert:hover {\n",
       "      background-color: #434B5C;\n",
       "      box-shadow: 0px 1px 3px 1px rgba(0, 0, 0, 0.15);\n",
       "      filter: drop-shadow(0px 1px 2px rgba(0, 0, 0, 0.3));\n",
       "      fill: #FFFFFF;\n",
       "    }\n",
       "  </style>\n",
       "\n",
       "      <script>\n",
       "        const buttonEl =\n",
       "          document.querySelector('#df-cf582955-0725-4873-8b0e-e0fc272c18f2 button.colab-df-convert');\n",
       "        buttonEl.style.display =\n",
       "          google.colab.kernel.accessAllowed ? 'block' : 'none';\n",
       "\n",
       "        async function convertToInteractive(key) {\n",
       "          const element = document.querySelector('#df-cf582955-0725-4873-8b0e-e0fc272c18f2');\n",
       "          const dataTable =\n",
       "            await google.colab.kernel.invokeFunction('convertToInteractive',\n",
       "                                                     [key], {});\n",
       "          if (!dataTable) return;\n",
       "\n",
       "          const docLinkHtml = 'Like what you see? Visit the ' +\n",
       "            '<a target=\"_blank\" href=https://colab.research.google.com/notebooks/data_table.ipynb>data table notebook</a>'\n",
       "            + ' to learn more about interactive tables.';\n",
       "          element.innerHTML = '';\n",
       "          dataTable['output_type'] = 'display_data';\n",
       "          await google.colab.output.renderOutput(dataTable, element);\n",
       "          const docLink = document.createElement('div');\n",
       "          docLink.innerHTML = docLinkHtml;\n",
       "          element.appendChild(docLink);\n",
       "        }\n",
       "      </script>\n",
       "    </div>\n",
       "  </div>\n",
       "  "
      ],
      "text/plain": [
       "         X1        X2  label\n",
       "0  0.754246  0.231481      1\n",
       "1 -0.756159  0.153259      1\n",
       "2 -0.815392  0.173282      1\n",
       "3 -0.393731  0.692883      1\n",
       "4  0.442208 -0.896723      0\n",
       "5 -0.479646  0.676435      1\n",
       "6 -0.013648  0.803349      1\n",
       "7  0.771513  0.147760      1\n",
       "8 -0.169322 -0.793456      1\n",
       "9 -0.121486  1.021509      0"
      ]
     },
     "execution_count": 5,
     "metadata": {},
     "output_type": "execute_result"
    }
   ],
   "source": [
    "# Make DataFrame of circle data\n",
    "import pandas as pd\n",
    "circles = pd.DataFrame({\"X1\": X[:, 0], \n",
    "                        \"X2\": X[:, 1],\n",
    "                        \"label\": y})\n",
    "circles.head(10)"
   ]
  },
  {
   "cell_type": "code",
   "execution_count": 6,
   "metadata": {
    "button": false,
    "colab": {
     "base_uri": "https://localhost:8080/"
    },
    "collapsed": false,
    "deletable": true,
    "id": "SBq9yzBj6rOH",
    "new_sheet": false,
    "outputId": "55ec0cef-4ed6-4343-ac71-89c4587565e5",
    "run_control": {
     "read_only": false
    }
   },
   "outputs": [
    {
     "data": {
      "text/plain": [
       "1    500\n",
       "0    500\n",
       "Name: label, dtype: int64"
      ]
     },
     "execution_count": 6,
     "metadata": {},
     "output_type": "execute_result"
    }
   ],
   "source": [
    "circles.label.value_counts() "
   ]
  },
  {
   "cell_type": "code",
   "execution_count": 7,
   "metadata": {
    "button": false,
    "colab": {
     "base_uri": "https://localhost:8080/",
     "height": 265
    },
    "collapsed": false,
    "deletable": true,
    "id": "ACyUNaFlglL0",
    "new_sheet": false,
    "outputId": "290de48f-725f-471f-b274-6a408e6e5e34",
    "run_control": {
     "read_only": false
    }
   },
   "outputs": [
    {
     "data": {
      "image/png": "[encoded data removed]",
      "text/plain": [
       "<Figure size 432x288 with 1 Axes>"
      ]
     },
     "metadata": {
      "needs_background": "light"
     },
     "output_type": "display_data"
    }
   ],
   "source": [
    "# Visualize, visualize, visualize\n",
    "import matplotlib.pyplot as plt\n",
    "plt.scatter(x=X[:, 0],\n",
    "            y=X[:, 1],\n",
    "            c=y,\n",
    "            cmap=plt.cm.RdYlBu);"
   ]
  },
  {
   "cell_type": "markdown",
   "metadata": {
    "button": false,
    "deletable": true,
    "id": "nTdbfhlehI9x",
    "new_sheet": false,
    "run_control": {
     "read_only": false
    }
   },
   "source": [
    "**Note:** The data we're working with is often referred to as a toy dataset, a dataset that is small enough to experiment but still sizeable enough to practice the fundamentals."
   ]
  },
  {
   "cell_type": "markdown",
   "metadata": {
    "button": false,
    "deletable": true,
    "id": "08jHXdIKgyPF",
    "new_sheet": false,
    "run_control": {
     "read_only": false
    }
   },
   "source": [
    "### 1.1 Check input and output shapes"
   ]
  },
  {
   "cell_type": "code",
   "execution_count": 8,
   "metadata": {
    "button": false,
    "colab": {
     "base_uri": "https://localhost:8080/"
    },
    "collapsed": false,
    "deletable": true,
    "id": "8gOiNSewgyMo",
    "new_sheet": false,
    "outputId": "84ae5caf-4667-4d00-d0ed-a12823e49865",
    "run_control": {
     "read_only": false
    }
   },
   "outputs": [
    {
     "data": {
      "text/plain": [
       "((1000, 2), (1000,))"
      ]
     },
     "execution_count": 8,
     "metadata": {},
     "output_type": "execute_result"
    }
   ],
   "source": [
    "X.shape, y.shape"
   ]
  },
  {
   "cell_type": "code",
   "execution_count": 9,
   "metadata": {
    "button": false,
    "colab": {
     "base_uri": "https://localhost:8080/"
    },
    "collapsed": false,
    "deletable": true,
    "id": "g_cR6eofgyKV",
    "new_sheet": false,
    "outputId": "74fee6da-7593-448e-bc2f-537f8b4bbd31",
    "run_control": {
     "read_only": false
    }
   },
   "outputs": [
    {
     "data": {
      "text/plain": [
       "array([[ 0.75424625,  0.23148074],\n",
       "       [-0.75615888,  0.15325888],\n",
       "       [-0.81539193,  0.17328203],\n",
       "       ...,\n",
       "       [-0.13690036, -0.81001183],\n",
       "       [ 0.67036156, -0.76750154],\n",
       "       [ 0.28105665,  0.96382443]])"
      ]
     },
     "execution_count": 9,
     "metadata": {},
     "output_type": "execute_result"
    }
   ],
   "source": [
    "X"
   ]
  },
  {
   "cell_type": "code",
   "execution_count": 10,
   "metadata": {
    "button": false,
    "colab": {
     "base_uri": "https://localhost:8080/"
    },
    "collapsed": false,
    "deletable": true,
    "id": "qtCuPtJqgyID",
    "new_sheet": false,
    "outputId": "2e85bbcb-f5b3-42e6-983a-a9a3086919a7",
    "run_control": {
     "read_only": false
    }
   },
   "outputs": [
    {
     "name": "stdout",
     "output_type": "stream",
     "text": [
      "Values for one sample of X: [0.75424625 0.23148074] and the same for y: 1\n",
      "Shapes for one sample of X: (2,) and the same for y: ()\n"
     ]
    }
   ],
   "source": [
    "# View the first example of features and labels\n",
    "X_sample = X[0]\n",
    "y_sample = y[0]\n",
    "\n",
    "print(f\"Values for one sample of X: {X_sample} and the same for y: {y_sample}\")\n",
    "print(f\"Shapes for one sample of X: {X_sample.shape} and the same for y: {y_sample.shape}\")"
   ]
  },
  {
   "cell_type": "markdown",
   "metadata": {
    "button": false,
    "deletable": true,
    "id": "XJHKlEnBgx4a",
    "new_sheet": false,
    "run_control": {
     "read_only": false
    }
   },
   "source": [
    "### 1.2 Turn data into tensors and create train and test splits"
   ]
  },
  {
   "cell_type": "code",
   "execution_count": 11,
   "metadata": {
    "button": false,
    "colab": {
     "base_uri": "https://localhost:8080/",
     "height": 36
    },
    "collapsed": false,
    "deletable": true,
    "id": "uR42UiPSgx1E",
    "new_sheet": false,
    "outputId": "8655a833-efdd-4131-a956-869146b902be",
    "run_control": {
     "read_only": false
    }
   },
   "outputs": [
    {
     "data": {
      "application/vnd.google.colaboratory.intrinsic+json": {
       "type": "string"
      },
      "text/plain": [
       "'1.13.1+cu116'"
      ]
     },
     "execution_count": 11,
     "metadata": {},
     "output_type": "execute_result"
    }
   ],
   "source": [
    "import torch\n",
    "torch.__version__"
   ]
  },
  {
   "cell_type": "code",
   "execution_count": 12,
   "metadata": {
    "button": false,
    "colab": {
     "base_uri": "https://localhost:8080/"
    },
    "collapsed": false,
    "deletable": true,
    "id": "VM9Hw2wljGEm",
    "new_sheet": false,
    "outputId": "ab63186e-b9a4-43fb-b6db-7aff64246983",
    "run_control": {
     "read_only": false
    }
   },
   "outputs": [
    {
     "data": {
      "text/plain": [
       "(numpy.ndarray, dtype('float64'))"
      ]
     },
     "execution_count": 12,
     "metadata": {},
     "output_type": "execute_result"
    }
   ],
   "source": [
    "type(X), X.dtype"
   ]
  },
  {
   "cell_type": "code",
   "execution_count": 13,
   "metadata": {
    "button": false,
    "colab": {
     "base_uri": "https://localhost:8080/"
    },
    "collapsed": false,
    "deletable": true,
    "id": "3v5Q3sIQgxuk",
    "new_sheet": false,
    "outputId": "f7787b1e-bf2b-47a5-9433-723c84986105",
    "run_control": {
     "read_only": false
    }
   },
   "outputs": [
    {
     "data": {
      "text/plain": [
       "(tensor([[ 0.7542,  0.2315],\n",
       "         [-0.7562,  0.1533],\n",
       "         [-0.8154,  0.1733],\n",
       "         [-0.3937,  0.6929],\n",
       "         [ 0.4422, -0.8967]]), tensor([1., 1., 1., 1., 0.]))"
      ]
     },
     "execution_count": 13,
     "metadata": {},
     "output_type": "execute_result"
    }
   ],
   "source": [
    "# Turn data into tensors\n",
    "X = torch.from_numpy(X).type(torch.float)\n",
    "y = torch.from_numpy(y).type(torch.float)\n",
    "\n",
    "X[:5], y[:5]"
   ]
  },
  {
   "cell_type": "code",
   "execution_count": 14,
   "metadata": {
    "button": false,
    "colab": {
     "base_uri": "https://localhost:8080/"
    },
    "collapsed": false,
    "deletable": true,
    "id": "QpttifEogxpI",
    "new_sheet": false,
    "outputId": "f9c02ca3-4489-40f7-9385-3d10b99e2c11",
    "run_control": {
     "read_only": false
    }
   },
   "outputs": [
    {
     "data": {
      "text/plain": [
       "(torch.Tensor, torch.float32, torch.float32)"
      ]
     },
     "execution_count": 14,
     "metadata": {},
     "output_type": "execute_result"
    }
   ],
   "source": [
    "type(X), X.dtype, y.dtype"
   ]
  },
  {
   "cell_type": "code",
   "execution_count": 15,
   "metadata": {
    "button": false,
    "collapsed": true,
    "deletable": true,
    "id": "cSDhwhz4i7mg",
    "new_sheet": false,
    "run_control": {
     "read_only": false
    }
   },
   "outputs": [],
   "source": [
    "# Split data into training and test sets\n",
    "from sklearn.model_selection import train_test_split\n",
    "\n",
    "X_train, X_test, y_train, y_test = train_test_split(X, \n",
    "                                                    y,\n",
    "                                                    test_size=0.2, # 0.2 = 20% of data will be test & 80% will be train\n",
    "                                                    random_state=42) "
   ]
  },
  {
   "cell_type": "code",
   "execution_count": 16,
   "metadata": {
    "button": false,
    "colab": {
     "base_uri": "https://localhost:8080/"
    },
    "collapsed": false,
    "deletable": true,
    "id": "4x1fQVaVi7jW",
    "new_sheet": false,
    "outputId": "fd709933-b967-4e86-f3a2-7bb5dfa1a88c",
    "run_control": {
     "read_only": false
    }
   },
   "outputs": [
    {
     "data": {
      "text/plain": [
       "(800, 200, 800, 200)"
      ]
     },
     "execution_count": 16,
     "metadata": {},
     "output_type": "execute_result"
    }
   ],
   "source": [
    "len(X_train), len(X_test), len(y_train), len(y_test)"
   ]
  },
  {
   "cell_type": "code",
   "execution_count": 17,
   "metadata": {
    "button": false,
    "colab": {
     "base_uri": "https://localhost:8080/"
    },
    "collapsed": false,
    "deletable": true,
    "id": "ilZT21YrjgH9",
    "new_sheet": false,
    "outputId": "c5b9bee3-a29d-49b7-8438-a995ed9c4ae2",
    "run_control": {
     "read_only": false
    }
   },
   "outputs": [
    {
     "data": {
      "text/plain": [
       "1000"
      ]
     },
     "execution_count": 17,
     "metadata": {},
     "output_type": "execute_result"
    }
   ],
   "source": [
    "n_samples"
   ]
  },
  {
   "cell_type": "markdown",
   "metadata": {
    "button": false,
    "deletable": true,
    "id": "L_NcXbrLjgEx",
    "new_sheet": false,
    "run_control": {
     "read_only": false
    }
   },
   "source": [
    "## 2. Building a model\n",
    "\n",
    "Let's build a model to classify our blue and red dots.\n",
    "\n",
    "To do so, we want to:\n",
    "1. Setup device agonistic code so our code will run on an accelerator (GPU) if there is one\n",
    "2. Construct a model (by subclassing `nn.Module`)\n",
    "3. Define a loss function and optimizer\n",
    "4. Create a training and test loop"
   ]
  },
  {
   "cell_type": "code",
   "execution_count": 18,
   "metadata": {
    "button": false,
    "colab": {
     "base_uri": "https://localhost:8080/",
     "height": 36
    },
    "collapsed": false,
    "deletable": true,
    "id": "gntGKE7KE8sD",
    "new_sheet": false,
    "outputId": "cfba1b3c-9ac2-4df3-8725-30a9916a6a1a",
    "run_control": {
     "read_only": false
    }
   },
   "outputs": [
    {
     "data": {
      "application/vnd.google.colaboratory.intrinsic+json": {
       "type": "string"
      },
      "text/plain": [
       "'cuda'"
      ]
     },
     "execution_count": 18,
     "metadata": {},
     "output_type": "execute_result"
    }
   ],
   "source": [
    "# Import PyTorch and nn\n",
    "import torch\n",
    "from torch import nn\n",
    "\n",
    "# Make device agnostic code\n",
    "device = \"cuda\" if torch.cuda.is_available() else \"cpu\"\n",
    "device"
   ]
  },
  {
   "cell_type": "code",
   "execution_count": 19,
   "metadata": {
    "button": false,
    "colab": {
     "base_uri": "https://localhost:8080/"
    },
    "collapsed": false,
    "deletable": true,
    "id": "_oyl1BdAE8qI",
    "new_sheet": false,
    "outputId": "57affb6d-7330-4ae8-bb6e-65b29fcd3532",
    "run_control": {
     "read_only": false
    }
   },
   "outputs": [
    {
     "data": {
      "text/plain": [
       "tensor([[ 0.6579, -0.4651],\n",
       "        [ 0.6319, -0.7347],\n",
       "        [-1.0086, -0.1240],\n",
       "        ...,\n",
       "        [ 0.0157, -1.0300],\n",
       "        [ 1.0110,  0.1680],\n",
       "        [ 0.5578, -0.5709]])"
      ]
     },
     "execution_count": 19,
     "metadata": {},
     "output_type": "execute_result"
    }
   ],
   "source": [
    "X_train"
   ]
  },
  {
   "cell_type": "markdown",
   "metadata": {
    "button": false,
    "deletable": true,
    "id": "XAuzqO7DjgBz",
    "new_sheet": false,
    "run_control": {
     "read_only": false
    }
   },
   "source": [
    "Now we've setup device agnostic code, let's create a model that:\n",
    "\n",
    "1. Subclasses `nn.Module` (almost all models in PyTorch subclass `nn.Module`)\n",
    "2. Create 2 `nn.Linear()` layers that are capable of handling the shapes of our data\n",
    "3. Defines a `forward()` method that outlines the forward pass (or forward computation) of the model\n",
    "4. Instatiate an instance of our model class and send it to the target `device`"
   ]
  },
  {
   "cell_type": "code",
   "execution_count": 20,
   "metadata": {
    "button": false,
    "colab": {
     "base_uri": "https://localhost:8080/"
    },
    "collapsed": false,
    "deletable": true,
    "id": "7zEjsSZWHCWW",
    "new_sheet": false,
    "outputId": "0ba5608a-0d55-4eab-abb0-52460fbe8313",
    "run_control": {
     "read_only": false
    }
   },
   "outputs": [
    {
     "data": {
      "text/plain": [
       "torch.Size([800, 2])"
      ]
     },
     "execution_count": 20,
     "metadata": {},
     "output_type": "execute_result"
    }
   ],
   "source": [
    "X_train.shape"
   ]
  },
  {
   "cell_type": "code",
   "execution_count": 21,
   "metadata": {
    "button": false,
    "colab": {
     "base_uri": "https://localhost:8080/"
    },
    "collapsed": false,
    "deletable": true,
    "id": "kNjO5I2LHXCd",
    "new_sheet": false,
    "outputId": "a175c4f1-0b93-42b4-a352-f1e4084b8829",
    "run_control": {
     "read_only": false
    }
   },
   "outputs": [
    {
     "data": {
      "text/plain": [
       "tensor([1., 0., 0., 0., 1.])"
      ]
     },
     "execution_count": 21,
     "metadata": {},
     "output_type": "execute_result"
    }
   ],
   "source": [
    "y_train[:5]"
   ]
  },
  {
   "cell_type": "code",
   "execution_count": 22,
   "metadata": {
    "button": false,
    "colab": {
     "base_uri": "https://localhost:8080/"
    },
    "collapsed": false,
    "deletable": true,
    "id": "lIN-TOvYGZBf",
    "new_sheet": false,
    "outputId": "003e9b98-3ae7-48e7-d89e-824911fef14b",
    "run_control": {
     "read_only": false
    }
   },
   "outputs": [
    {
     "data": {
      "text/plain": [
       "CircleModelV0(\n",
       "  (layer_1): Linear(in_features=2, out_features=5, bias=True)\n",
       "  (layer_2): Linear(in_features=5, out_features=1, bias=True)\n",
       ")"
      ]
     },
     "execution_count": 22,
     "metadata": {},
     "output_type": "execute_result"
    }
   ],
   "source": [
    "from sklearn import datasets\n",
    "# 1. Construct a model that subclasses nn.Module\n",
    "class CircleModelV0(nn.Module):\n",
    "  def __init__(self):\n",
    "    super().__init__()\n",
    "    # 2. Create 2 nn.Linear layers capable of handling the shapes of our data\n",
    "    self.layer_1 = nn.Linear(in_features=2, out_features=5) # takes in 2 features and upscales to 5 features \n",
    "    self.layer_2 = nn.Linear(in_features=5, out_features=1) # takes in 5 features from previous layer and outputs a single feature (same shape as y)\n",
    "\n",
    "  # 3. Define a forward() method that outlines the forward pass\n",
    "  def forward(self, x):\n",
    "    return self.layer_2(self.layer_1(x)) # x -> layer_1 ->  layer_2 -> output\n",
    "\n",
    "# 4. Instantiate an instance of our model class and send it to the target device\n",
    "model_0 = CircleModelV0().to(device)\n",
    "model_0"
   ]
  },
  {
   "cell_type": "code",
   "execution_count": 23,
   "metadata": {
    "button": false,
    "colab": {
     "base_uri": "https://localhost:8080/",
     "height": 36
    },
    "collapsed": false,
    "deletable": true,
    "id": "THHrI9iPGY_B",
    "new_sheet": false,
    "outputId": "dbc25b14-9ed7-4788-baa7-b74bff316f3f",
    "run_control": {
     "read_only": false
    }
   },
   "outputs": [
    {
     "data": {
      "application/vnd.google.colaboratory.intrinsic+json": {
       "type": "string"
      },
      "text/plain": [
       "'cuda'"
      ]
     },
     "execution_count": 23,
     "metadata": {},
     "output_type": "execute_result"
    }
   ],
   "source": [
    "device"
   ]
  },
  {
   "cell_type": "code",
   "execution_count": 24,
   "metadata": {
    "button": false,
    "colab": {
     "base_uri": "https://localhost:8080/"
    },
    "collapsed": false,
    "deletable": true,
    "id": "VThEgNG_GY8k",
    "new_sheet": false,
    "outputId": "ee7290b1-57b3-494f-8cd6-ad58304e020e",
    "run_control": {
     "read_only": false
    }
   },
   "outputs": [
    {
     "data": {
      "text/plain": [
       "device(type='cuda', index=0)"
      ]
     },
     "execution_count": 24,
     "metadata": {},
     "output_type": "execute_result"
    }
   ],
   "source": [
    "next(model_0.parameters()).device"
   ]
  },
  {
   "cell_type": "code",
   "execution_count": 25,
   "metadata": {
    "button": false,
    "colab": {
     "base_uri": "https://localhost:8080/"
    },
    "collapsed": false,
    "deletable": true,
    "id": "UW0ZATKnGY0f",
    "new_sheet": false,
    "outputId": "3d83a99c-a2c5-4e75-a030-a92d5608d269",
    "run_control": {
     "read_only": false
    }
   },
   "outputs": [
    {
     "data": {
      "text/plain": [
       "Sequential(\n",
       "  (0): Linear(in_features=2, out_features=5, bias=True)\n",
       "  (1): Linear(in_features=5, out_features=1, bias=True)\n",
       ")"
      ]
     },
     "execution_count": 25,
     "metadata": {},
     "output_type": "execute_result"
    }
   ],
   "source": [
    "# Let's replicate the model above using nn.Sequential()\n",
    "model_0 = nn.Sequential(\n",
    "    nn.Linear(in_features=2, out_features=5),\n",
    "    nn.Linear(in_features=5, out_features=1)\n",
    ").to(device)\n",
    "\n",
    "model_0"
   ]
  },
  {
   "cell_type": "code",
   "execution_count": 26,
   "metadata": {
    "button": false,
    "colab": {
     "base_uri": "https://localhost:8080/"
    },
    "collapsed": false,
    "deletable": true,
    "id": "nOKuT23HMUGd",
    "new_sheet": false,
    "outputId": "1b1fd6c5-38a1-4cca-e829-8c72ff046389",
    "run_control": {
     "read_only": false
    }
   },
   "outputs": [
    {
     "data": {
      "text/plain": [
       "OrderedDict([('0.weight', tensor([[-0.2637,  0.0576],\n",
       "                      [-0.4195,  0.2665],\n",
       "                      [ 0.6439, -0.3053],\n",
       "                      [ 0.0580, -0.4025],\n",
       "                      [-0.5102, -0.0850]], device='cuda:0')),\n",
       "             ('0.bias',\n",
       "              tensor([-0.2464, -0.3424, -0.4595,  0.5222, -0.6052], device='cuda:0')),\n",
       "             ('1.weight',\n",
       "              tensor([[-0.4387,  0.4416,  0.2313,  0.1251, -0.1120]], device='cuda:0')),\n",
       "             ('1.bias', tensor([0.4204], device='cuda:0'))])"
      ]
     },
     "execution_count": 26,
     "metadata": {},
     "output_type": "execute_result"
    }
   ],
   "source": [
    "model_0.state_dict()"
   ]
  },
  {
   "cell_type": "code",
   "execution_count": 27,
   "metadata": {
    "button": false,
    "colab": {
     "base_uri": "https://localhost:8080/"
    },
    "collapsed": false,
    "deletable": true,
    "id": "h9HpguZ1k5LR",
    "new_sheet": false,
    "outputId": "929c9cdc-ce1d-44df-fe9b-ad6f4bcb1204",
    "run_control": {
     "read_only": false
    }
   },
   "outputs": [
    {
     "name": "stdout",
     "output_type": "stream",
     "text": [
      "Length of predictions: 200, Shape: torch.Size([200, 1])\n",
      "Length of test samples: 200, Shape: torch.Size([200, 2])\n",
      "\n",
      "First 10 predictions:\n",
      "tensor([[0.],\n",
      "        [0.],\n",
      "        [0.],\n",
      "        [0.],\n",
      "        [0.],\n",
      "        [1.],\n",
      "        [1.],\n",
      "        [1.],\n",
      "        [0.],\n",
      "        [0.]], device='cuda:0')\n",
      "\n",
      "First 10 labels:\n",
      "tensor([1., 0., 1., 0., 1., 1., 0., 0., 1., 0.])\n"
     ]
    }
   ],
   "source": [
    "# Make predictions\n",
    "with torch.inference_mode():\n",
    "  untrained_preds = model_0(X_test.to(device))\n",
    "print(f\"Length of predictions: {len(untrained_preds)}, Shape: {untrained_preds.shape}\")\n",
    "print(f\"Length of test samples: {len(X_test)}, Shape: {X_test.shape}\")\n",
    "print(f\"\\nFirst 10 predictions:\\n{torch.round(untrained_preds[:10])}\")\n",
    "print(f\"\\nFirst 10 labels:\\n{y_test[:10]}\")"
   ]
  },
  {
   "cell_type": "code",
   "execution_count": 28,
   "metadata": {
    "button": false,
    "colab": {
     "base_uri": "https://localhost:8080/"
    },
    "collapsed": false,
    "deletable": true,
    "id": "DN7RbDmRk5Iy",
    "new_sheet": false,
    "outputId": "a5a5b045-cf33-4871-fe5e-e9112557fcce",
    "run_control": {
     "read_only": false
    }
   },
   "outputs": [
    {
     "data": {
      "text/plain": [
       "(tensor([[-0.3752,  0.6827],\n",
       "         [ 0.0154,  0.9600],\n",
       "         [-0.7028, -0.3147],\n",
       "         [-0.2853,  0.9664],\n",
       "         [ 0.4024, -0.7438],\n",
       "         [ 0.6323, -0.5711],\n",
       "         [ 0.8561,  0.5499],\n",
       "         [ 1.0034,  0.1903],\n",
       "         [-0.7489, -0.2951],\n",
       "         [ 0.0538,  0.9739]]),\n",
       " tensor([1., 0., 1., 0., 1., 1., 0., 0., 1., 0.]))"
      ]
     },
     "execution_count": 28,
     "metadata": {},
     "output_type": "execute_result"
    }
   ],
   "source": [
    "X_test[:10], y_test[:10]"
   ]
  },
  {
   "cell_type": "markdown",
   "metadata": {
    "button": false,
    "deletable": true,
    "id": "yLWkObPUk5GZ",
    "new_sheet": false,
    "run_control": {
     "read_only": false
    }
   },
   "source": [
    "### 2.1 Setup loss function and optimizer\n",
    "\n",
    "Which loss function or optimizer should you use?\n",
    "\n",
    "Again... this is problem specific.\n",
    "\n",
    "For example for regression you might want MAE or MSE (mean absolute error or mean squared error).\n",
    "\n",
    "For classification you might want binary cross entropy or categorical cross entropy (cross entropy).\n",
    "\n",
    "As a reminder, the loss function measures how *wrong* your models predictions are.\n",
    "\n",
    "And for optimizers, two of the most common and useful are SGD and Adam, however PyTorch has many built-in options.\n",
    "\n",
    "* For some common choices of loss functions and optimizers - https://www.learnpytorch.io/02_pytorch_classification/#21-setup-loss-function-and-optimizer\n",
    "* For the loss function we're going to use `torch.nn.BECWithLogitsLoss()`, for more on what binary cross entropy (BCE) is, check out this article - https://towardsdatascience.com/understanding-binary-cross-entropy-log-loss-a-visual-explanation-a3ac6025181a \n",
    "* For a defintion on what a logit is in deep learning - https://stackoverflow.com/a/52111173/7900723 \n",
    "* For different optimizers see `torch.optim`"
   ]
  },
  {
   "cell_type": "code",
   "execution_count": 29,
   "metadata": {
    "button": false,
    "collapsed": true,
    "deletable": true,
    "id": "XzlvBHAxk5D3",
    "new_sheet": false,
    "run_control": {
     "read_only": false
    }
   },
   "outputs": [],
   "source": [
    "# Setup the loss function\n",
    "# loss_fn = nn.BCELoss() # BCELoss = requires inputs to have gone through the sigmoid activation function prior to input to BCELoss\n",
    "loss_fn = nn.BCEWithLogitsLoss() # BCEWithLogitsLoss = sigmoid activation function built-in\n",
    "\n",
    "optimizer = torch.optim.SGD(params=model_0.parameters(),\n",
    "                            lr=0.1)"
   ]
  },
  {
   "cell_type": "code",
   "execution_count": 30,
   "metadata": {
    "button": false,
    "collapsed": true,
    "deletable": true,
    "id": "3yd16y0lT4Uq",
    "new_sheet": false,
    "run_control": {
     "read_only": false
    }
   },
   "outputs": [],
   "source": [
    "# Calculate accuracy - out of 100 examples, what percentage does our model get right? \n",
    "def accuracy_fn(y_true, y_pred):\n",
    "  correct = torch.eq(y_true, y_pred).sum().item() \n",
    "  acc = (correct/len(y_pred)) * 100\n",
    "  return acc"
   ]
  },
  {
   "cell_type": "markdown",
   "metadata": {
    "button": false,
    "deletable": true,
    "id": "cF3KAKiuUath",
    "new_sheet": false,
    "run_control": {
     "read_only": false
    }
   },
   "source": [
    "## 3. Train model \n",
    "\n",
    "To train our model, we're going to need to build a training loop with the following steps:\n",
    "\n",
    "1. Forward pass\n",
    "2. Calculate the loss\n",
    "3. Optimizer zero grad\n",
    "4. Loss backward (backpropagation)\n",
    "5. Optimizer step (gradient descent) "
   ]
  },
  {
   "cell_type": "markdown",
   "metadata": {
    "button": false,
    "deletable": true,
    "id": "D2APTiyUV4LL",
    "new_sheet": false,
    "run_control": {
     "read_only": false
    }
   },
   "source": [
    "### 3.1 Going from raw logits -> prediction probabilities -> prediction labels\n",
    "\n",
    "Our model outputs are going to be raw **logits**.\n",
    "\n",
    "We can convert these **logits** into **prediction probabilities** by passing them to some kind of activation function (e.g. sigmoid for binary classification and softmax for multiclass classification).\n",
    "\n",
    "Then we can convert our model's prediction probabilities to **prediction labels** by either rounding them or taking the `argmax()`."
   ]
  },
  {
   "cell_type": "code",
   "execution_count": 31,
   "metadata": {
    "button": false,
    "colab": {
     "base_uri": "https://localhost:8080/"
    },
    "collapsed": false,
    "deletable": true,
    "id": "1Yg_6s5wWbnS",
    "new_sheet": false,
    "outputId": "5f614a2b-faa6-491f-decb-4ebd34fe18af",
    "run_control": {
     "read_only": false
    }
   },
   "outputs": [
    {
     "data": {
      "text/plain": [
       "tensor([[0.3372],\n",
       "        [0.3880],\n",
       "        [0.3091],\n",
       "        [0.3447],\n",
       "        [0.4762]], device='cuda:0')"
      ]
     },
     "execution_count": 31,
     "metadata": {},
     "output_type": "execute_result"
    }
   ],
   "source": [
    "# View the first 5 outputs of the forward pass on the test data\n",
    "model_0.eval() \n",
    "with torch.inference_mode():\n",
    "  y_logits = model_0(X_test.to(device))[:5]\n",
    "y_logits "
   ]
  },
  {
   "cell_type": "code",
   "execution_count": 32,
   "metadata": {
    "button": false,
    "colab": {
     "base_uri": "https://localhost:8080/"
    },
    "collapsed": false,
    "deletable": true,
    "id": "LiLz-TDzWg53",
    "new_sheet": false,
    "outputId": "fda5b4a6-6c3d-419e-c6bb-1d10fac3779e",
    "run_control": {
     "read_only": false
    }
   },
   "outputs": [
    {
     "data": {
      "text/plain": [
       "tensor([1., 0., 1., 0., 1.])"
      ]
     },
     "execution_count": 32,
     "metadata": {},
     "output_type": "execute_result"
    }
   ],
   "source": [
    "y_test[:5]"
   ]
  },
  {
   "cell_type": "code",
   "execution_count": 33,
   "metadata": {
    "button": false,
    "colab": {
     "base_uri": "https://localhost:8080/"
    },
    "collapsed": false,
    "deletable": true,
    "id": "lrDZmTcZXiYu",
    "new_sheet": false,
    "outputId": "a1093c05-1106-4ec6-d801-bef10dc74730",
    "run_control": {
     "read_only": false
    }
   },
   "outputs": [
    {
     "data": {
      "text/plain": [
       "tensor([[0.5835],\n",
       "        [0.5958],\n",
       "        [0.5767],\n",
       "        [0.5853],\n",
       "        [0.6168]], device='cuda:0')"
      ]
     },
     "execution_count": 33,
     "metadata": {},
     "output_type": "execute_result"
    }
   ],
   "source": [
    "# Use the sigmoid activation function on our model logits to turn them into prediction probabilities\n",
    "y_pred_probs = torch.sigmoid(y_logits)\n",
    "y_pred_probs"
   ]
  },
  {
   "cell_type": "markdown",
   "metadata": {
    "button": false,
    "deletable": true,
    "id": "f-vYzxKwX_G1",
    "new_sheet": false,
    "run_control": {
     "read_only": false
    }
   },
   "source": [
    "For our prediction probability values, we need to perform a range-style rounding on them:\n",
    "* `y_pred_probs` >= 0.5, `y=1` (class 1)\n",
    "* `y_pred_probs` < 0.5, `y=0` (class 0)"
   ]
  },
  {
   "cell_type": "code",
   "execution_count": 34,
   "metadata": {
    "button": false,
    "colab": {
     "base_uri": "https://localhost:8080/"
    },
    "collapsed": false,
    "deletable": true,
    "id": "6WQb8sp_Xwey",
    "new_sheet": false,
    "outputId": "db0d7aa4-c72c-44e5-a261-c86ad6952eba",
    "run_control": {
     "read_only": false
    }
   },
   "outputs": [
    {
     "name": "stdout",
     "output_type": "stream",
     "text": [
      "tensor([True, True, True, True, True], device='cuda:0')\n"
     ]
    },
    {
     "data": {
      "text/plain": [
       "tensor([1., 1., 1., 1., 1.], device='cuda:0')"
      ]
     },
     "execution_count": 34,
     "metadata": {},
     "output_type": "execute_result"
    }
   ],
   "source": [
    "# Find the predicted labels \n",
    "y_preds = torch.round(y_pred_probs)\n",
    "\n",
    "# In full (logits -> pred probs -> pred labels)\n",
    "y_pred_labels = torch.round(torch.sigmoid(model_0(X_test.to(device))[:5]))\n",
    "\n",
    "# Check for equality\n",
    "print(torch.eq(y_preds.squeeze(), y_pred_labels.squeeze()))\n",
    "\n",
    "# Get rid of extra dimension\n",
    "y_preds.squeeze()"
   ]
  },
  {
   "cell_type": "code",
   "execution_count": 35,
   "metadata": {
    "button": false,
    "colab": {
     "base_uri": "https://localhost:8080/"
    },
    "collapsed": false,
    "deletable": true,
    "id": "jXkhLOT5X1wq",
    "new_sheet": false,
    "outputId": "0310d77b-87a3-45b0-b366-5fd600ebbd9c",
    "run_control": {
     "read_only": false
    }
   },
   "outputs": [
    {
     "data": {
      "text/plain": [
       "tensor([1., 0., 1., 0., 1.])"
      ]
     },
     "execution_count": 35,
     "metadata": {},
     "output_type": "execute_result"
    }
   ],
   "source": [
    "y_test[:5]"
   ]
  },
  {
   "cell_type": "markdown",
   "metadata": {
    "button": false,
    "deletable": true,
    "id": "u7pb-y3OZG5b",
    "new_sheet": false,
    "run_control": {
     "read_only": false
    }
   },
   "source": [
    "### 3.2 Building a training and testing loop"
   ]
  },
  {
   "cell_type": "code",
   "execution_count": null,
   "metadata": {
    "collapsed": true
   },
   "outputs": [],
   "source": [
    "device"
   ]
  },
  {
   "cell_type": "code",
   "execution_count": null,
   "metadata": {
    "collapsed": true
   },
   "outputs": [],
   "source": [
    "!nvidia-smi"
   ]
  },
  {
   "cell_type": "code",
   "execution_count": 36,
   "metadata": {
    "button": false,
    "colab": {
     "base_uri": "https://localhost:8080/"
    },
    "collapsed": false,
    "deletable": true,
    "id": "DxUjouKwZMRl",
    "new_sheet": false,
    "outputId": "559afa28-0f96-4b11-94fd-51b2447ff611",
    "run_control": {
     "read_only": false
    }
   },
   "outputs": [
    {
     "name": "stdout",
     "output_type": "stream",
     "text": [
      "Epoch: 0 | Loss: 0.71424, Acc: 50.00% | Test loss: 0.71299, Test acc: 50.00%\n",
      "Epoch: 10 | Loss: 0.69901, Acc: 50.00% | Test loss: 0.69970, Test acc: 50.00%\n",
      "Epoch: 20 | Loss: 0.69472, Acc: 50.00% | Test loss: 0.69597, Test acc: 50.00%\n",
      "Epoch: 30 | Loss: 0.69353, Acc: 55.75% | Test loss: 0.69494, Test acc: 51.00%\n",
      "Epoch: 40 | Loss: 0.69319, Acc: 52.50% | Test loss: 0.69465, Test acc: 48.00%\n",
      "Epoch: 50 | Loss: 0.69308, Acc: 51.88% | Test loss: 0.69456, Test acc: 47.50%\n",
      "Epoch: 60 | Loss: 0.69304, Acc: 51.00% | Test loss: 0.69454, Test acc: 47.50%\n",
      "Epoch: 70 | Loss: 0.69302, Acc: 50.50% | Test loss: 0.69453, Test acc: 47.50%\n",
      "Epoch: 80 | Loss: 0.69301, Acc: 50.88% | Test loss: 0.69453, Test acc: 47.00%\n",
      "Epoch: 90 | Loss: 0.69300, Acc: 50.88% | Test loss: 0.69453, Test acc: 47.00%\n"
     ]
    }
   ],
   "source": [
    "torch.manual_seed(42)\n",
    "torch.cuda.manual_seed(42) \n",
    "\n",
    "# Set the number of epochs\n",
    "epochs = 100\n",
    "\n",
    "# Put data to target device \n",
    "X_train, y_train = X_train.to(device), y_train.to(device)\n",
    "X_test, y_test = X_test.to(device), y_test.to(device)\n",
    "\n",
    "# Build training and evaluation loop\n",
    "for epoch in range(epochs):\n",
    "  ### Training\n",
    "  model_0.train()\n",
    "\n",
    "  # 1. Forward pass\n",
    "  y_logits = model_0(X_train).squeeze()\n",
    "  y_pred = torch.round(torch.sigmoid(y_logits)) # turn logits -> pred probs -> pred labels\n",
    "\n",
    "  # 2. Calculate loss/accuracy\n",
    "  # loss = loss_fn(torch.sigmoid(y_logits), # nn.BCELoss expects prediction probabilities as input\n",
    "  #                y_train)\n",
    "  loss = loss_fn(y_logits, # nn.BCEWithLogitsLoss expects raw logits as input\n",
    "                 y_train)\n",
    "  acc = accuracy_fn(y_true=y_train, \n",
    "                    y_pred=y_pred)\n",
    "  \n",
    "  # 3. Optimizer zero grad\n",
    "  optimizer.zero_grad()\n",
    "\n",
    "  # 4. Loss backward (backpropagation)\n",
    "  loss.backward()\n",
    "\n",
    "  # 5. Optimizer step (gradient descent)\n",
    "  optimizer.step() \n",
    "\n",
    "  ### Testing\n",
    "  model_0.eval()\n",
    "  with torch.inference_mode():\n",
    "    # 1. Forward pass \n",
    "    test_logits = model_0(X_test).squeeze()\n",
    "    test_pred = torch.round(torch.sigmoid(test_logits))\n",
    "\n",
    "    # 2. Calculate test loss/acc\n",
    "    test_loss = loss_fn(test_logits,\n",
    "                        y_test)\n",
    "    test_acc = accuracy_fn(y_true=y_test,\n",
    "                           y_pred=test_pred)\n",
    "  \n",
    "  # Print out what's happenin'\n",
    "  if epoch % 10 == 0:\n",
    "    print(f\"Epoch: {epoch} | Loss: {loss:.5f}, Acc: {acc:.2f}% | Test loss: {test_loss:.5f}, Test acc: {test_acc:.2f}%\")"
   ]
  },
  {
   "cell_type": "markdown",
   "metadata": {
    "button": false,
    "deletable": true,
    "id": "ud5xW_kM3xtH",
    "new_sheet": false,
    "run_control": {
     "read_only": false
    }
   },
   "source": [
    "## 4. Make predictions and evaluate the model\n",
    "\n",
    "From the metrics it looks like our model isn't learning anything... \n",
    "\n",
    "So to inspect it let's make some predictions and make them visual! \n",
    "\n",
    "In other words, \"Visualize, visualize, visualize!\"\n",
    "\n",
    "To do so, we're going to import a function called `plot_decision_boundary()` - https://github.com/mrdbourke/pytorch-deep-learning/blob/main/helper_functions.py "
   ]
  },
  {
   "cell_type": "code",
   "execution_count": 37,
   "metadata": {
    "button": false,
    "colab": {
     "base_uri": "https://localhost:8080/"
    },
    "collapsed": false,
    "deletable": true,
    "id": "NhFdb1RX7Flu",
    "new_sheet": false,
    "outputId": "5b9beac2-4ca6-491e-ff4f-3862881519ba",
    "run_control": {
     "read_only": false
    }
   },
   "outputs": [
    {
     "name": "stdout",
     "output_type": "stream",
     "text": [
      "Downloading helper_functions.py\n"
     ]
    }
   ],
   "source": [
    "import requests\n",
    "from pathlib import Path\n",
    "\n",
    "# Download helper functions from Learn PyTorch repo (if it's not already downloaded)\n",
    "if Path(\"helper_functions.py\").is_file():\n",
    "  print(\"helper_functions.py already exists, skipping download\")\n",
    "else:\n",
    "  print(\"Downloading helper_functions.py\")\n",
    "  request = requests.get(\"https://raw.githubusercontent.com/mrdbourke/pytorch-deep-learning/main/helper_functions.py\")\n",
    "  with open(\"helper_functions.py\", \"wb\") as f:\n",
    "    f.write(request.content)\n",
    "\n",
    "from helper_functions import plot_predictions, plot_decision_boundary"
   ]
  },
  {
   "cell_type": "code",
   "execution_count": 38,
   "metadata": {
    "button": false,
    "colab": {
     "base_uri": "https://localhost:8080/",
     "height": 390
    },
    "collapsed": false,
    "deletable": true,
    "id": "8V7KyDQ78YxA",
    "new_sheet": false,
    "outputId": "526968a9-cda8-4ddc-b862-4a8aa23c3e30",
    "run_control": {
     "read_only": false
    }
   },
   "outputs": [
    {
     "data": {
      "image/png": "[encoded data removed]",
      "text/plain": [
       "<Figure size 864x432 with 2 Axes>"
      ]
     },
     "metadata": {
      "needs_background": "light"
     },
     "output_type": "display_data"
    }
   ],
   "source": [
    "# Plot decision boundary of the model\n",
    "plt.figure(figsize=(12, 6))\n",
    "plt.subplot(1, 2, 1)\n",
    "plt.title(\"Train\")\n",
    "plot_decision_boundary(model_0, X_train, y_train)\n",
    "plt.subplot(1, 2, 2)\n",
    "plt.title(\"Test\")\n",
    "plot_decision_boundary(model_0, X_test, y_test) "
   ]
  },
  {
   "cell_type": "markdown",
   "metadata": {
    "button": false,
    "deletable": true,
    "id": "RYn2XJ6I9BU3",
    "new_sheet": false,
    "run_control": {
     "read_only": false
    }
   },
   "source": [
    "## 5. Improving a model (from a model perspective)\n",
    "\n",
    "* Add more layers - give the model more chances to learn about patterns in the data\n",
    "* Add more hidden units - go from 5 hidden units to 10 hidden units \n",
    "* Fit for longer\n",
    "* Changing the activation functions\n",
    "* Change the learning rate\n",
    "* Change the loss function \n",
    "\n",
    "These options are all from a model's perspective because they deal directly with the model, rather than the data.\n",
    "\n",
    "And because these options are all values we (as machine learning engineers and data scientists) can change, they are referred as **hyperparameters**.\n",
    "\n",
    "Let's try and improve our model by:\n",
    "* Adding more hidden units: 5 -> 10\n",
    "* Increase the number of layers: 2 -> 3\n",
    "* Increase the number of epochs: 100 -> 1000"
   ]
  },
  {
   "cell_type": "code",
   "execution_count": 39,
   "metadata": {
    "button": false,
    "colab": {
     "base_uri": "https://localhost:8080/"
    },
    "collapsed": false,
    "deletable": true,
    "id": "2HyQySuuBcH0",
    "new_sheet": false,
    "outputId": "75b03ed6-b62c-4d7c-a4da-20866c575cfc",
    "run_control": {
     "read_only": false
    }
   },
   "outputs": [
    {
     "data": {
      "text/plain": [
       "(tensor([[ 0.6579, -0.4651],\n",
       "         [ 0.6319, -0.7347],\n",
       "         [-1.0086, -0.1240],\n",
       "         [-0.9666, -0.2256],\n",
       "         [-0.1666,  0.7994]], device='cuda:0'),\n",
       " tensor([1., 0., 0., 0., 1.], device='cuda:0'))"
      ]
     },
     "execution_count": 39,
     "metadata": {},
     "output_type": "execute_result"
    }
   ],
   "source": [
    "X_train[:5], y_train[:5]"
   ]
  },
  {
   "cell_type": "code",
   "execution_count": 40,
   "metadata": {
    "button": false,
    "colab": {
     "base_uri": "https://localhost:8080/"
    },
    "collapsed": false,
    "deletable": true,
    "id": "7l3EDkwm-EPe",
    "new_sheet": false,
    "outputId": "c7649474-0dd4-4ae0-cedb-0fa1ecccc057",
    "run_control": {
     "read_only": false
    }
   },
   "outputs": [
    {
     "data": {
      "text/plain": [
       "CircleModelV1(\n",
       "  (layer_1): Linear(in_features=2, out_features=10, bias=True)\n",
       "  (layer_2): Linear(in_features=10, out_features=10, bias=True)\n",
       "  (layer_3): Linear(in_features=10, out_features=1, bias=True)\n",
       ")"
      ]
     },
     "execution_count": 40,
     "metadata": {},
     "output_type": "execute_result"
    }
   ],
   "source": [
    "# Create a model\n",
    "class CircleModelV1(nn.Module):\n",
    "  def __init__(self):\n",
    "    super().__init__()\n",
    "    self.layer_1 = nn.Linear(in_features=2, out_features=10) \n",
    "    self.layer_2 = nn.Linear(in_features=10, out_features=10)\n",
    "    self.layer_3 = nn.Linear(in_features=10, out_features=1)\n",
    "  \n",
    "  def forward(self, x):\n",
    "    # z = self.layer_1(x)\n",
    "    # z = self.layer_2(z)\n",
    "    # z = self.layer_3(z) \n",
    "    return self.layer_3(self.layer_2(self.layer_1(x))) # this way of writing operations leverages speed ups where possible behind the scenes\n",
    "\n",
    "model_1 = CircleModelV1().to(device)\n",
    "model_1"
   ]
  },
  {
   "cell_type": "code",
   "execution_count": 41,
   "metadata": {
    "button": false,
    "collapsed": true,
    "deletable": true,
    "id": "T_6K4KoD-MOS",
    "new_sheet": false,
    "run_control": {
     "read_only": false
    }
   },
   "outputs": [],
   "source": [
    "# Create a loss function\n",
    "loss_fn = nn.BCEWithLogitsLoss()\n",
    "\n",
    "# Create an optimizer \n",
    "optimizer = torch.optim.SGD(params=model_1.parameters(), \n",
    "                            lr=0.1)"
   ]
  },
  {
   "cell_type": "code",
   "execution_count": 42,
   "metadata": {
    "button": false,
    "colab": {
     "base_uri": "https://localhost:8080/"
    },
    "collapsed": false,
    "deletable": true,
    "id": "sCVLN4FiCcnn",
    "new_sheet": false,
    "outputId": "5297edb3-d87f-4b71-86e2-b5ac85e27bf1",
    "run_control": {
     "read_only": false
    }
   },
   "outputs": [
    {
     "name": "stdout",
     "output_type": "stream",
     "text": [
      "Epoch: 0 | Loss: 0.69396, Acc: 50.88% | Test loss: 0.69261, Test acc: 51.00%\n",
      "Epoch: 100 | Loss: 0.69305, Acc: 50.38% | Test loss: 0.69379, Test acc: 48.00%\n",
      "Epoch: 200 | Loss: 0.69299, Acc: 51.12% | Test loss: 0.69437, Test acc: 46.00%\n",
      "Epoch: 300 | Loss: 0.69298, Acc: 51.62% | Test loss: 0.69458, Test acc: 45.00%\n",
      "Epoch: 400 | Loss: 0.69298, Acc: 51.12% | Test loss: 0.69465, Test acc: 46.00%\n",
      "Epoch: 500 | Loss: 0.69298, Acc: 51.00% | Test loss: 0.69467, Test acc: 46.00%\n",
      "Epoch: 600 | Loss: 0.69298, Acc: 51.00% | Test loss: 0.69468, Test acc: 46.00%\n",
      "Epoch: 700 | Loss: 0.69298, Acc: 51.00% | Test loss: 0.69468, Test acc: 46.00%\n",
      "Epoch: 800 | Loss: 0.69298, Acc: 51.00% | Test loss: 0.69468, Test acc: 46.00%\n",
      "Epoch: 900 | Loss: 0.69298, Acc: 51.00% | Test loss: 0.69468, Test acc: 46.00%\n"
     ]
    }
   ],
   "source": [
    "# Write a training and evaluation loop for model_1\n",
    "torch.manual_seed(42)\n",
    "torch.cuda.manual_seed(42) \n",
    "\n",
    "# Train for longer\n",
    "epochs = 1000\n",
    "\n",
    "# Put data on the target device\n",
    "X_train, y_train = X_train.to(device), y_train.to(device)\n",
    "X_test, y_test = X_test.to(device), y_test.to(device)\n",
    "\n",
    "for epoch in range(epochs):\n",
    "  ### Training\n",
    "  model_1.train()\n",
    "  # 1. Forward pass\n",
    "  y_logits = model_1(X_train).squeeze()\n",
    "  y_pred = torch.round(torch.sigmoid(y_logits)) # logits -> pred probabilities -> prediction labels\n",
    "\n",
    "  # 2. Calculate the loss/acc\n",
    "  loss = loss_fn(y_logits, y_train)\n",
    "  acc = accuracy_fn(y_true=y_train,\n",
    "                    y_pred=y_pred)\n",
    "  \n",
    "  # 3. Optimizer zero grad\n",
    "  optimizer.zero_grad() \n",
    "\n",
    "  # 4. Loss backward (backpropagation) \n",
    "  loss.backward()\n",
    "\n",
    "  # 5. Optimizer step (gradient descent)\n",
    "  optimizer.step()\n",
    "\n",
    "  ### Testing\n",
    "  model_1.eval()\n",
    "  with torch.inference_mode():\n",
    "    # 1. Forward pass\n",
    "    test_logits = model_1(X_test).squeeze()\n",
    "    test_pred = torch.round(torch.sigmoid(test_logits)) \n",
    "    # 2. Calculate loss\n",
    "    test_loss = loss_fn(test_logits,\n",
    "                        y_test)\n",
    "    test_acc = accuracy_fn(y_true=y_test,\n",
    "                           y_pred=test_pred)\n",
    "\n",
    "  # Print out what's happenin'\n",
    "  if epoch % 100 == 0:\n",
    "    print(f\"Epoch: {epoch} | Loss: {loss:.5f}, Acc: {acc:.2f}% | Test loss: {test_loss:.5f}, Test acc: {test_acc:.2f}%\")"
   ]
  },
  {
   "cell_type": "code",
   "execution_count": 43,
   "metadata": {
    "button": false,
    "colab": {
     "base_uri": "https://localhost:8080/",
     "height": 390
    },
    "collapsed": false,
    "deletable": true,
    "id": "NJp4kN83EiVt",
    "new_sheet": false,
    "outputId": "8bf8d656-3478-42da-81b6-7dd0b2e23b97",
    "run_control": {
     "read_only": false
    }
   },
   "outputs": [
    {
     "data": {
      "image/png": "[encoded data removed]",
      "text/plain": [
       "<Figure size 864x432 with 2 Axes>"
      ]
     },
     "metadata": {
      "needs_background": "light"
     },
     "output_type": "display_data"
    }
   ],
   "source": [
    "# Plot decision boundary of the model\n",
    "plt.figure(figsize=(12, 6))\n",
    "plt.subplot(1, 2, 1)\n",
    "plt.title(\"Train\")\n",
    "plot_decision_boundary(model_1, X_train, y_train)\n",
    "plt.subplot(1, 2, 2)\n",
    "plt.title(\"Test\")\n",
    "plot_decision_boundary(model_1, X_test, y_test) "
   ]
  },
  {
   "cell_type": "markdown",
   "metadata": {
    "button": false,
    "deletable": true,
    "id": "Le-cKAwaEiSi",
    "new_sheet": false,
    "run_control": {
     "read_only": false
    }
   },
   "source": [
    "### 5.1 Preparing data to see if our model can fit a straight line\n",
    "\n",
    "One way to troubleshoot to a larger problem is to test out a smaller problem."
   ]
  },
  {
   "cell_type": "code",
   "execution_count": 44,
   "metadata": {
    "button": false,
    "colab": {
     "base_uri": "https://localhost:8080/"
    },
    "collapsed": false,
    "deletable": true,
    "id": "PGabtpZ-EiPu",
    "new_sheet": false,
    "outputId": "404fc08f-756f-4973-983f-95ec9db4eb75",
    "run_control": {
     "read_only": false
    }
   },
   "outputs": [
    {
     "name": "stdout",
     "output_type": "stream",
     "text": [
      "100\n"
     ]
    },
    {
     "data": {
      "text/plain": [
       "(tensor([[0.0000],\n",
       "         [0.0100],\n",
       "         [0.0200],\n",
       "         [0.0300],\n",
       "         [0.0400]]), tensor([[0.3000],\n",
       "         [0.3070],\n",
       "         [0.3140],\n",
       "         [0.3210],\n",
       "         [0.3280]]))"
      ]
     },
     "execution_count": 44,
     "metadata": {},
     "output_type": "execute_result"
    }
   ],
   "source": [
    "# Create some data (same as notebook 01)\n",
    "weight = 0.7\n",
    "bias = 0.3\n",
    "start = 0\n",
    "end = 1\n",
    "step = 0.01\n",
    "\n",
    "# Create data\n",
    "X_regression = torch.arange(start, end, step).unsqueeze(dim=1)\n",
    "y_regression = weight * X_regression + bias # Linear regression formula (without epsilon)\n",
    "\n",
    "# Check the data\n",
    "print(len(X_regression))\n",
    "X_regression[:5], y_regression[:5]"
   ]
  },
  {
   "cell_type": "code",
   "execution_count": 45,
   "metadata": {
    "button": false,
    "colab": {
     "base_uri": "https://localhost:8080/"
    },
    "collapsed": false,
    "deletable": true,
    "id": "YSrnNiFWEiMa",
    "new_sheet": false,
    "outputId": "3ac42087-0436-4371-8bc4-49e0028bc81f",
    "run_control": {
     "read_only": false
    }
   },
   "outputs": [
    {
     "data": {
      "text/plain": [
       "(80, 20, 80, 20)"
      ]
     },
     "execution_count": 45,
     "metadata": {},
     "output_type": "execute_result"
    }
   ],
   "source": [
    "# Create train and test splits\n",
    "train_split = int(0.8 * len(X_regression))\n",
    "X_train_regression, y_train_regression = X_regression[:train_split], y_regression[:train_split]\n",
    "X_test_regression, y_test_regression = X_regression[train_split:], y_regression[train_split:]\n",
    "\n",
    "# Check the lengths of each\n",
    "len(X_train_regression), len(X_test_regression), len(y_train_regression), len(y_test_regression)"
   ]
  },
  {
   "cell_type": "code",
   "execution_count": 46,
   "metadata": {
    "button": false,
    "colab": {
     "base_uri": "https://localhost:8080/",
     "height": 428
    },
    "collapsed": false,
    "deletable": true,
    "id": "wG1Dhz9SEiJD",
    "new_sheet": false,
    "outputId": "a3417104-26aa-4eef-9dee-c56498e18d05",
    "run_control": {
     "read_only": false
    }
   },
   "outputs": [
    {
     "data": {
      "image/png": "[encoded data removed]",
      "text/plain": [
       "<Figure size 720x504 with 1 Axes>"
      ]
     },
     "metadata": {
      "needs_background": "light"
     },
     "output_type": "display_data"
    }
   ],
   "source": [
    "plot_predictions(train_data=X_train_regression, \n",
    "                 train_labels=y_train_regression,\n",
    "                 test_data=X_test_regression,\n",
    "                 test_labels=y_test_regression);"
   ]
  },
  {
   "cell_type": "markdown",
   "metadata": {
    "button": false,
    "deletable": true,
    "id": "usxOtv8tGlaZ",
    "new_sheet": false,
    "run_control": {
     "read_only": false
    }
   },
   "source": [
    "### 5.2 Adjusting `model_1` to fit a straight line"
   ]
  },
  {
   "cell_type": "code",
   "execution_count": 47,
   "metadata": {
    "button": false,
    "colab": {
     "base_uri": "https://localhost:8080/"
    },
    "collapsed": false,
    "deletable": true,
    "id": "sRUPRukiGlYO",
    "new_sheet": false,
    "outputId": "427fd6b3-ee5a-4c7c-d3cc-e39a35108ba4",
    "run_control": {
     "read_only": false
    }
   },
   "outputs": [
    {
     "data": {
      "text/plain": [
       "Sequential(\n",
       "  (0): Linear(in_features=1, out_features=10, bias=True)\n",
       "  (1): Linear(in_features=10, out_features=10, bias=True)\n",
       "  (2): Linear(in_features=10, out_features=1, bias=True)\n",
       ")"
      ]
     },
     "execution_count": 47,
     "metadata": {},
     "output_type": "execute_result"
    }
   ],
   "source": [
    "# Same architecture as model_1 (but using nn.Sequential())\n",
    "model_2 = nn.Sequential(\n",
    "    nn.Linear(in_features=1, out_features=10),\n",
    "    nn.Linear(in_features=10, out_features=10),\n",
    "    nn.Linear(in_features=10, out_features=1)\n",
    ").to(device)\n",
    "\n",
    "model_2"
   ]
  },
  {
   "cell_type": "code",
   "execution_count": 48,
   "metadata": {
    "button": false,
    "collapsed": true,
    "deletable": true,
    "id": "twGWjcG4GlWJ",
    "new_sheet": false,
    "run_control": {
     "read_only": false
    }
   },
   "outputs": [],
   "source": [
    "# Loss and optimizer\n",
    "loss_fn = nn.L1Loss() # MAE loss with regression data\n",
    "optimizer = torch.optim.SGD(params=model_2.parameters(), \n",
    "                            lr=0.01)"
   ]
  },
  {
   "cell_type": "code",
   "execution_count": 49,
   "metadata": {
    "button": false,
    "colab": {
     "base_uri": "https://localhost:8080/"
    },
    "collapsed": false,
    "deletable": true,
    "id": "9cTT35QgkPP-",
    "new_sheet": false,
    "outputId": "6351abe3-66e3-49aa-abee-33f39fcad166",
    "run_control": {
     "read_only": false
    }
   },
   "outputs": [
    {
     "name": "stdout",
     "output_type": "stream",
     "text": [
      "Epoch: 0 | Loss: 0.75986 | Test loss: 0.91103\n",
      "Epoch: 100 | Loss: 0.02858 | Test loss: 0.00081\n",
      "Epoch: 200 | Loss: 0.02533 | Test loss: 0.00209\n",
      "Epoch: 300 | Loss: 0.02137 | Test loss: 0.00305\n",
      "Epoch: 400 | Loss: 0.01964 | Test loss: 0.00341\n",
      "Epoch: 500 | Loss: 0.01940 | Test loss: 0.00387\n",
      "Epoch: 600 | Loss: 0.01903 | Test loss: 0.00379\n",
      "Epoch: 700 | Loss: 0.01878 | Test loss: 0.00381\n",
      "Epoch: 800 | Loss: 0.01840 | Test loss: 0.00329\n",
      "Epoch: 900 | Loss: 0.01798 | Test loss: 0.00360\n"
     ]
    }
   ],
   "source": [
    "# Train the model\n",
    "torch.manual_seed(42)\n",
    "torch.cuda.manual_seed(42)\n",
    "\n",
    "# Set the number of epochs\n",
    "epochs = 1000\n",
    "\n",
    "# Put the data on the target device\n",
    "X_train_regression, y_train_regression = X_train_regression.to(device), y_train_regression.to(device)\n",
    "X_test_regression, y_test_regression = X_test_regression.to(device), y_test_regression.to(device)\n",
    "\n",
    "# Training\n",
    "for epoch in range(epochs):\n",
    "  y_pred = model_2(X_train_regression)\n",
    "  loss = loss_fn(y_pred, y_train_regression)\n",
    "  optimizer.zero_grad()\n",
    "  loss.backward()\n",
    "  optimizer.step()\n",
    "\n",
    "  # Testing\n",
    "  model_2.eval()\n",
    "  with torch.inference_mode():\n",
    "    test_pred = model_2(X_test_regression)\n",
    "    test_loss = loss_fn(test_pred, y_test_regression)\n",
    "\n",
    "  # Print out what's happenin'\n",
    "  if epoch % 100 == 0:\n",
    "    print(f\"Epoch: {epoch} | Loss: {loss:.5f} | Test loss: {test_loss:.5f}\")"
   ]
  },
  {
   "cell_type": "code",
   "execution_count": 50,
   "metadata": {
    "button": false,
    "colab": {
     "base_uri": "https://localhost:8080/",
     "height": 428
    },
    "collapsed": false,
    "deletable": true,
    "id": "TiaYv8p-lPV2",
    "new_sheet": false,
    "outputId": "1c566ce4-8672-469e-e35e-fc7c65a46107",
    "run_control": {
     "read_only": false
    }
   },
   "outputs": [
    {
     "data": {
      "image/png": "[encoded data removed]",
      "text/plain": [
       "<Figure size 720x504 with 1 Axes>"
      ]
     },
     "metadata": {
      "needs_background": "light"
     },
     "output_type": "display_data"
    }
   ],
   "source": [
    "# Turn on evaluation mode\n",
    "model_2.eval()\n",
    "\n",
    "# Make predictions (inference)\n",
    "with torch.inference_mode():\n",
    "  y_preds = model_2(X_test_regression)\n",
    "\n",
    "# Plot data and predictions\n",
    "plot_predictions(train_data=X_train_regression.cpu(), \n",
    "                 train_labels=y_train_regression.cpu(),\n",
    "                 test_data=X_test_regression.cpu(),\n",
    "                 test_labels=y_test_regression.cpu(),\n",
    "                 predictions=y_preds.cpu()); "
   ]
  },
  {
   "cell_type": "markdown",
   "metadata": {
    "button": false,
    "deletable": true,
    "id": "HMvNNwSJmm98",
    "new_sheet": false,
    "run_control": {
     "read_only": false
    }
   },
   "source": [
    "## 6. The missing piece: non-linearity \n",
    "\n",
    "\"What patterns could you draw if you were given an infinite amount of a straight and non-straight lines?\"\n",
    "\n",
    "Or in machine learning terms, an infinite (but really it is finite) of linear and non-linear functions?"
   ]
  },
  {
   "cell_type": "markdown",
   "metadata": {
    "button": false,
    "deletable": true,
    "id": "j_P9_-1apMWq",
    "new_sheet": false,
    "run_control": {
     "read_only": false
    }
   },
   "source": [
    "### 6.1 Recreating non-linear data (red and blue circles)"
   ]
  },
  {
   "cell_type": "code",
   "execution_count": 51,
   "metadata": {
    "button": false,
    "colab": {
     "base_uri": "https://localhost:8080/",
     "height": 265
    },
    "collapsed": false,
    "deletable": true,
    "id": "TfUWJPWBpo4-",
    "new_sheet": false,
    "outputId": "e7566119-61be-4ea6-ba35-67f44e305728",
    "run_control": {
     "read_only": false
    }
   },
   "outputs": [
    {
     "data": {
      "image/png": "[encoded data removed]",
      "text/plain": [
       "<Figure size 432x288 with 1 Axes>"
      ]
     },
     "metadata": {
      "needs_background": "light"
     },
     "output_type": "display_data"
    }
   ],
   "source": [
    "# Make and plot data\n",
    "import matplotlib.pyplot as plt\n",
    "from sklearn.datasets import make_circles\n",
    "\n",
    "n_samples = 1000\n",
    "\n",
    "X, y = make_circles(n_samples,\n",
    "                    noise=0.03,\n",
    "                    random_state=42)\n",
    "\n",
    "plt.scatter(X[:, 0], X[:, 1], c=y, cmap=plt.cm.RdYlBu);"
   ]
  },
  {
   "cell_type": "code",
   "execution_count": 52,
   "metadata": {
    "button": false,
    "colab": {
     "base_uri": "https://localhost:8080/"
    },
    "collapsed": false,
    "deletable": true,
    "id": "4pocAXPCp7o2",
    "new_sheet": false,
    "outputId": "0c1e3fac-900b-44a8-f419-7c302e9d0e10",
    "run_control": {
     "read_only": false
    }
   },
   "outputs": [
    {
     "data": {
      "text/plain": [
       "(tensor([[ 0.6579, -0.4651],\n",
       "         [ 0.6319, -0.7347],\n",
       "         [-1.0086, -0.1240],\n",
       "         [-0.9666, -0.2256],\n",
       "         [-0.1666,  0.7994]]), tensor([1., 0., 0., 0., 1.]))"
      ]
     },
     "execution_count": 52,
     "metadata": {},
     "output_type": "execute_result"
    }
   ],
   "source": [
    "# Convert data to tensors and then to train and test splits \n",
    "import torch\n",
    "from sklearn.model_selection import train_test_split\n",
    "\n",
    "# Turn data into tensors\n",
    "X = torch.from_numpy(X).type(torch.float) \n",
    "y = torch.from_numpy(y).type(torch.float)\n",
    "\n",
    "# Split into train and test sets\n",
    "X_train, X_test, y_train, y_test = train_test_split(X,\n",
    "                                                    y, \n",
    "                                                    test_size=0.2,\n",
    "                                                    random_state=42) \n",
    "\n",
    "X_train[:5], y_train[:5]"
   ]
  },
  {
   "cell_type": "markdown",
   "metadata": {
    "button": false,
    "deletable": true,
    "id": "TbVSE-VeqjsG",
    "new_sheet": false,
    "run_control": {
     "read_only": false
    }
   },
   "source": [
    "### 6.2 Building a model with non-linearity\n",
    "\n",
    "* Linear = straight lines\n",
    "* Non-linear = non-straight lines\n",
    "\n",
    "Artificial neural networks are a large combination of linear (straight) and non-straight (non-linear) functions which are potentially able to find patterns in data."
   ]
  },
  {
   "cell_type": "code",
   "execution_count": 53,
   "metadata": {
    "button": false,
    "colab": {
     "base_uri": "https://localhost:8080/"
    },
    "collapsed": false,
    "deletable": true,
    "id": "ENa01YTsF0Pt",
    "new_sheet": false,
    "outputId": "97b3438e-ab78-484e-a74d-de91f367eb71",
    "run_control": {
     "read_only": false
    }
   },
   "outputs": [
    {
     "data": {
      "text/plain": [
       "CircleModelV2(\n",
       "  (layer_1): Linear(in_features=2, out_features=10, bias=True)\n",
       "  (layer_2): Linear(in_features=10, out_features=10, bias=True)\n",
       "  (layer_3): Linear(in_features=10, out_features=1, bias=True)\n",
       "  (relu): ReLU()\n",
       ")"
      ]
     },
     "execution_count": 53,
     "metadata": {},
     "output_type": "execute_result"
    }
   ],
   "source": [
    "# Build a model with non-linear activation functions\n",
    "from torch import nn\n",
    "class CircleModelV2(nn.Module):\n",
    "  def __init__(self):\n",
    "    super().__init__()\n",
    "    self.layer_1 = nn.Linear(in_features=2, out_features=10)\n",
    "    self.layer_2 = nn.Linear(in_features=10, out_features=10)\n",
    "    self.layer_3 = nn.Linear(in_features=10, out_features=1)\n",
    "    self.relu = nn.ReLU() # relu is a non-linear activation function\n",
    "    \n",
    "  def forward(self, x):\n",
    "    # Where should we put our non-linear activation functions?\n",
    "    return self.layer_3(self.relu(self.layer_2(self.relu(self.layer_1(x)))))\n",
    "\n",
    "model_3 = CircleModelV2().to(device)\n",
    "model_3"
   ]
  },
  {
   "cell_type": "code",
   "execution_count": 54,
   "metadata": {
    "button": false,
    "collapsed": true,
    "deletable": true,
    "id": "vUSJUD9AHyqZ",
    "new_sheet": false,
    "run_control": {
     "read_only": false
    }
   },
   "outputs": [],
   "source": [
    "# Setup loss and optimizer\n",
    "loss_fn = nn.BCEWithLogitsLoss()\n",
    "optimizer = torch.optim.SGD(model_3.parameters(), \n",
    "                            lr=0.1)"
   ]
  },
  {
   "cell_type": "markdown",
   "metadata": {
    "button": false,
    "deletable": true,
    "id": "32forBUPJcTd",
    "new_sheet": false,
    "run_control": {
     "read_only": false
    }
   },
   "source": [
    "### 6.3 Training a model with non-linearity"
   ]
  },
  {
   "cell_type": "code",
   "execution_count": 55,
   "metadata": {
    "button": false,
    "colab": {
     "base_uri": "https://localhost:8080/"
    },
    "collapsed": false,
    "deletable": true,
    "id": "-C0CpzWULlCo",
    "new_sheet": false,
    "outputId": "7838f3a6-60a0-4781-d67f-576936744bae",
    "run_control": {
     "read_only": false
    }
   },
   "outputs": [
    {
     "data": {
      "text/plain": [
       "(200, 200)"
      ]
     },
     "execution_count": 55,
     "metadata": {},
     "output_type": "execute_result"
    }
   ],
   "source": [
    "len(X_test), len(y_test)"
   ]
  },
  {
   "cell_type": "code",
   "execution_count": 56,
   "metadata": {
    "button": false,
    "colab": {
     "base_uri": "https://localhost:8080/"
    },
    "collapsed": false,
    "deletable": true,
    "id": "kriIowDxJn0J",
    "new_sheet": false,
    "outputId": "7628da94-20af-4df7-c147-c38164c87f3c",
    "run_control": {
     "read_only": false
    }
   },
   "outputs": [
    {
     "name": "stdout",
     "output_type": "stream",
     "text": [
      "Epoch: 0 | Loss: 0.6929, Acc: 50.00% | Test Loss: 0.6932, Test Acc: 50.00%\n",
      "Epoch: 100 | Loss: 0.6912, Acc: 52.88% | Test Loss: 0.6910, Test Acc: 52.50%\n",
      "Epoch: 200 | Loss: 0.6898, Acc: 53.37% | Test Loss: 0.6894, Test Acc: 55.00%\n",
      "Epoch: 300 | Loss: 0.6879, Acc: 53.00% | Test Loss: 0.6872, Test Acc: 56.00%\n",
      "Epoch: 400 | Loss: 0.6852, Acc: 52.75% | Test Loss: 0.6841, Test Acc: 56.50%\n",
      "Epoch: 500 | Loss: 0.6810, Acc: 52.75% | Test Loss: 0.6794, Test Acc: 56.50%\n",
      "Epoch: 600 | Loss: 0.6751, Acc: 54.50% | Test Loss: 0.6729, Test Acc: 56.00%\n",
      "Epoch: 700 | Loss: 0.6666, Acc: 58.38% | Test Loss: 0.6632, Test Acc: 59.00%\n",
      "Epoch: 800 | Loss: 0.6516, Acc: 64.00% | Test Loss: 0.6476, Test Acc: 67.50%\n",
      "Epoch: 900 | Loss: 0.6236, Acc: 74.00% | Test Loss: 0.6215, Test Acc: 79.00%\n"
     ]
    }
   ],
   "source": [
    "# Random seeds \n",
    "torch.manual_seed(42)\n",
    "torch.cuda.manual_seed(42)\n",
    "\n",
    "# Put all data on target device\n",
    "X_train, y_train = X_train.to(device), y_train.to(device)\n",
    "X_test, y_test = X_test.to(device), y_test.to(device)\n",
    "\n",
    "# Loop through data\n",
    "epochs = 1000\n",
    "\n",
    "for epoch in range(epochs):\n",
    "  ### Training\n",
    "  model_3.train()\n",
    "\n",
    "  # 1. Forward pass\n",
    "  y_logits = model_3(X_train).squeeze()\n",
    "  y_pred = torch.round(torch.sigmoid(y_logits)) # logits -> prediction probabilities -> prediction labels\n",
    "\n",
    "  # 2. Calculate the loss\n",
    "  loss = loss_fn(y_logits, y_train) # BCEWithLogitsLoss (takes in logits as first input)\n",
    "  acc = accuracy_fn(y_true=y_train,\n",
    "                    y_pred=y_pred)\n",
    "  \n",
    "  # 3. Optimizer zero grad\n",
    "  optimizer.zero_grad()\n",
    "\n",
    "  # 4. Loss backward\n",
    "  loss.backward()\n",
    "\n",
    "  # 5. Step the optimizer\n",
    "  optimizer.step()\n",
    "\n",
    "  ### Testing\n",
    "  model_3.eval()\n",
    "  with torch.inference_mode():\n",
    "    test_logits = model_3(X_test).squeeze()\n",
    "    test_pred = torch.round(torch.sigmoid(test_logits))\n",
    "    \n",
    "    test_loss = loss_fn(test_logits, y_test)\n",
    "    test_acc = accuracy_fn(y_true=y_test, \n",
    "                           y_pred=test_pred)\n",
    "  \n",
    "  # Print out what's this happenin'\n",
    "  if epoch % 100 == 0:\n",
    "    print(f\"Epoch: {epoch} | Loss: {loss:.4f}, Acc: {acc:.2f}% | Test Loss: {test_loss:.4f}, Test Acc: {test_acc:.2f}%\")"
   ]
  },
  {
   "cell_type": "markdown",
   "metadata": {
    "button": false,
    "deletable": true,
    "id": "MYNiJIEtLCZt",
    "new_sheet": false,
    "run_control": {
     "read_only": false
    }
   },
   "source": [
    "### 6.4 Evaluating a model trained with non-linear activation functions"
   ]
  },
  {
   "cell_type": "code",
   "execution_count": 57,
   "metadata": {
    "button": false,
    "colab": {
     "base_uri": "https://localhost:8080/"
    },
    "collapsed": false,
    "deletable": true,
    "id": "yX2i_RQtLCXC",
    "new_sheet": false,
    "outputId": "e128a2bf-af55-48f8-c916-54fd8a93c646",
    "run_control": {
     "read_only": false
    }
   },
   "outputs": [
    {
     "data": {
      "text/plain": [
       "(tensor([1., 0., 1., 0., 0., 1., 0., 0., 1., 0.], device='cuda:0'),\n",
       " tensor([1., 0., 1., 0., 1., 1., 0., 0., 1., 0.], device='cuda:0'))"
      ]
     },
     "execution_count": 57,
     "metadata": {},
     "output_type": "execute_result"
    }
   ],
   "source": [
    "# Makes predictions\n",
    "model_3.eval()\n",
    "with torch.inference_mode():\n",
    "  y_preds = torch.round(torch.sigmoid(model_3(X_test))).squeeze()\n",
    "y_preds[:10], y_test[:10]"
   ]
  },
  {
   "cell_type": "code",
   "execution_count": 58,
   "metadata": {
    "button": false,
    "colab": {
     "base_uri": "https://localhost:8080/",
     "height": 390
    },
    "collapsed": false,
    "deletable": true,
    "id": "TNm377UdLCUP",
    "new_sheet": false,
    "outputId": "a09fcc6e-dce6-43f1-cb57-09d623357f67",
    "run_control": {
     "read_only": false
    }
   },
   "outputs": [
    {
     "data": {
      "image/png": "[encoded data removed]",
      "text/plain": [
       "<Figure size 864x432 with 2 Axes>"
      ]
     },
     "metadata": {
      "needs_background": "light"
     },
     "output_type": "display_data"
    }
   ],
   "source": [
    "# Plot decision boundaries\n",
    "plt.figure(figsize=(12, 6))\n",
    "plt.subplot(1, 2, 1)\n",
    "plt.title(\"Train\")\n",
    "plot_decision_boundary(model_1, X_train, y_train) # model_1 = no non-linearity\n",
    "plt.subplot(1, 2, 2)\n",
    "plt.title(\"Test\")\n",
    "plot_decision_boundary(model_3, X_test, y_test) # model_3 = has non-linearity"
   ]
  },
  {
   "cell_type": "markdown",
   "metadata": {
    "button": false,
    "deletable": true,
    "id": "cVJLKGWzLCRb",
    "new_sheet": false,
    "run_control": {
     "read_only": false
    }
   },
   "source": [
    "**Challenge:** Can you improve model_3 to do better than 80% accuracy on the test data?"
   ]
  },
  {
   "cell_type": "markdown",
   "metadata": {
    "button": false,
    "deletable": true,
    "id": "TGHd76BYNmec",
    "new_sheet": false,
    "run_control": {
     "read_only": false
    }
   },
   "source": [
    "## 7. Replicating non-linear activation functions\n",
    "\n",
    "Neural networks, rather than us telling the model what to learn, we give it the tools to discover patterns in data and it tries to figure out the patterns on its own.\n",
    "\n",
    "And these tools are linear & non-linear functions."
   ]
  },
  {
   "cell_type": "code",
   "execution_count": 59,
   "metadata": {
    "button": false,
    "colab": {
     "base_uri": "https://localhost:8080/"
    },
    "collapsed": false,
    "deletable": true,
    "id": "XjXBtkWLNmaF",
    "new_sheet": false,
    "outputId": "4344fc20-81aa-405d-d891-d5f9a58ba0ce",
    "run_control": {
     "read_only": false
    }
   },
   "outputs": [
    {
     "data": {
      "text/plain": [
       "torch.float32"
      ]
     },
     "execution_count": 59,
     "metadata": {},
     "output_type": "execute_result"
    }
   ],
   "source": [
    "# Create a tensor\n",
    "A = torch.arange(-10, 10, 1, dtype=torch.float32)\n",
    "A.dtype"
   ]
  },
  {
   "cell_type": "code",
   "execution_count": 60,
   "metadata": {
    "button": false,
    "colab": {
     "base_uri": "https://localhost:8080/"
    },
    "collapsed": false,
    "deletable": true,
    "id": "7wA4ZpNyJu9b",
    "new_sheet": false,
    "outputId": "f28fe877-2c9e-4bc1-c347-bdfd013be015",
    "run_control": {
     "read_only": false
    }
   },
   "outputs": [
    {
     "data": {
      "text/plain": [
       "tensor([-10.,  -9.,  -8.,  -7.,  -6.,  -5.,  -4.,  -3.,  -2.,  -1.,   0.,   1.,\n",
       "          2.,   3.,   4.,   5.,   6.,   7.,   8.,   9.])"
      ]
     },
     "execution_count": 60,
     "metadata": {},
     "output_type": "execute_result"
    }
   ],
   "source": [
    "A"
   ]
  },
  {
   "cell_type": "code",
   "execution_count": 61,
   "metadata": {
    "button": false,
    "colab": {
     "base_uri": "https://localhost:8080/",
     "height": 265
    },
    "collapsed": false,
    "deletable": true,
    "id": "X3r8BSjGO8g_",
    "new_sheet": false,
    "outputId": "6796e6bd-c17a-4507-e78a-3ea11a8eee95",
    "run_control": {
     "read_only": false
    }
   },
   "outputs": [
    {
     "data": {
      "image/png": "[encoded data removed]",
      "text/plain": [
       "<Figure size 432x288 with 1 Axes>"
      ]
     },
     "metadata": {
      "needs_background": "light"
     },
     "output_type": "display_data"
    }
   ],
   "source": [
    "# Visualize the tensor\n",
    "plt.plot(A); "
   ]
  },
  {
   "cell_type": "code",
   "execution_count": 62,
   "metadata": {
    "button": false,
    "colab": {
     "base_uri": "https://localhost:8080/",
     "height": 265
    },
    "collapsed": false,
    "deletable": true,
    "id": "Gp_tFktUO8eI",
    "new_sheet": false,
    "outputId": "43d7523c-5985-4d8c-d394-5712af61cd58",
    "run_control": {
     "read_only": false
    }
   },
   "outputs": [
    {
     "data": {
      "image/png": "[encoded data removed]",
      "text/plain": [
       "<Figure size 432x288 with 1 Axes>"
      ]
     },
     "metadata": {
      "needs_background": "light"
     },
     "output_type": "display_data"
    }
   ],
   "source": [
    "plt.plot(torch.relu(A));"
   ]
  },
  {
   "cell_type": "code",
   "execution_count": 63,
   "metadata": {
    "button": false,
    "colab": {
     "base_uri": "https://localhost:8080/"
    },
    "collapsed": false,
    "deletable": true,
    "id": "CKmMlFW1PvK9",
    "new_sheet": false,
    "outputId": "034bc0f5-2b13-4ffc-a632-877734003f31",
    "run_control": {
     "read_only": false
    }
   },
   "outputs": [
    {
     "data": {
      "text/plain": [
       "tensor([-10.,  -9.,  -8.,  -7.,  -6.,  -5.,  -4.,  -3.,  -2.,  -1.,   0.,   1.,\n",
       "          2.,   3.,   4.,   5.,   6.,   7.,   8.,   9.])"
      ]
     },
     "execution_count": 63,
     "metadata": {},
     "output_type": "execute_result"
    }
   ],
   "source": [
    "A"
   ]
  },
  {
   "cell_type": "code",
   "execution_count": 64,
   "metadata": {
    "button": false,
    "colab": {
     "base_uri": "https://localhost:8080/"
    },
    "collapsed": false,
    "deletable": true,
    "id": "_hdk3VY_O8a9",
    "new_sheet": false,
    "outputId": "bda706eb-136e-44bb-fbcc-97463b137b6e",
    "run_control": {
     "read_only": false
    }
   },
   "outputs": [
    {
     "data": {
      "text/plain": [
       "tensor([0., 0., 0., 0., 0., 0., 0., 0., 0., 0., 0., 1., 2., 3., 4., 5., 6., 7.,\n",
       "        8., 9.])"
      ]
     },
     "execution_count": 64,
     "metadata": {},
     "output_type": "execute_result"
    }
   ],
   "source": [
    "def relu(x: torch.Tensor) -> torch.Tensor:\n",
    "  return torch.maximum(torch.tensor(0), x) # inputs must be tensors\n",
    "\n",
    "relu(A)"
   ]
  },
  {
   "cell_type": "code",
   "execution_count": 65,
   "metadata": {
    "button": false,
    "colab": {
     "base_uri": "https://localhost:8080/",
     "height": 265
    },
    "collapsed": false,
    "deletable": true,
    "id": "j29MXDwKPh1U",
    "new_sheet": false,
    "outputId": "411f1256-da25-40d3-e02f-dadebc2af029",
    "run_control": {
     "read_only": false
    }
   },
   "outputs": [
    {
     "data": {
      "image/png": "[encoded data removed]",
      "text/plain": [
       "<Figure size 432x288 with 1 Axes>"
      ]
     },
     "metadata": {
      "needs_background": "light"
     },
     "output_type": "display_data"
    }
   ],
   "source": [
    "# Plot ReLU activation function\n",
    "plt.plot(relu(A)); "
   ]
  },
  {
   "cell_type": "code",
   "execution_count": 66,
   "metadata": {
    "button": false,
    "collapsed": true,
    "deletable": true,
    "id": "FXR9tfc3Phwc",
    "new_sheet": false,
    "run_control": {
     "read_only": false
    }
   },
   "outputs": [],
   "source": [
    "# Now let's do the same for Sigmoid = https://pytorch.org/docs/stable/generated/torch.nn.Sigmoid.html#torch.nn.Sigmoid \n",
    "def sigmoid(x):\n",
    "  return 1 / (1 + torch.exp(-x))"
   ]
  },
  {
   "cell_type": "code",
   "execution_count": 67,
   "metadata": {
    "button": false,
    "colab": {
     "base_uri": "https://localhost:8080/",
     "height": 265
    },
    "collapsed": false,
    "deletable": true,
    "id": "j5F30-gHP8Lw",
    "new_sheet": false,
    "outputId": "3844645d-5ffa-4253-ae96-451087a4a890",
    "run_control": {
     "read_only": false
    }
   },
   "outputs": [
    {
     "data": {
      "image/png": "[encoded data removed]",
      "text/plain": [
       "<Figure size 432x288 with 1 Axes>"
      ]
     },
     "metadata": {
      "needs_background": "light"
     },
     "output_type": "display_data"
    }
   ],
   "source": [
    "plt.plot(torch.sigmoid(A)); "
   ]
  },
  {
   "cell_type": "code",
   "execution_count": 68,
   "metadata": {
    "button": false,
    "colab": {
     "base_uri": "https://localhost:8080/",
     "height": 265
    },
    "collapsed": false,
    "deletable": true,
    "id": "68OTxhZmPhsN",
    "new_sheet": false,
    "outputId": "c4fad4eb-42b6-4516-8d9d-10ca0d56d9dd",
    "run_control": {
     "read_only": false
    }
   },
   "outputs": [
    {
     "data": {
      "image/png": "[encoded data removed]",
      "text/plain": [
       "<Figure size 432x288 with 1 Axes>"
      ]
     },
     "metadata": {
      "needs_background": "light"
     },
     "output_type": "display_data"
    }
   ],
   "source": [
    "plt.plot(sigmoid(A));"
   ]
  },
  {
   "cell_type": "markdown",
   "metadata": {
    "button": false,
    "deletable": true,
    "id": "OpHIZK9CPha_",
    "new_sheet": false,
    "run_control": {
     "read_only": false
    }
   },
   "source": [
    "## 8. Putting it all together with a multi-class classification problem\n",
    "\n",
    "* Binary classification = one thing or another (cat vs. dog, spam vs. not spam, fraud or not fraud)\n",
    "* Multi-class classification = more than one thing or another (cat vs. dog vs. chicken)"
   ]
  },
  {
   "cell_type": "markdown",
   "metadata": {
    "button": false,
    "deletable": true,
    "id": "R_pdUtYsR4Um",
    "new_sheet": false,
    "run_control": {
     "read_only": false
    }
   },
   "source": [
    "### 8.1 Creating a toy multi-class dataset"
   ]
  },
  {
   "cell_type": "code",
   "execution_count": 69,
   "metadata": {
    "button": false,
    "colab": {
     "base_uri": "https://localhost:8080/",
     "height": 428
    },
    "collapsed": false,
    "deletable": true,
    "id": "G3rlb9omR7dx",
    "new_sheet": false,
    "outputId": "0a23337f-6bc8-4e86-bfa1-cd352b0a7e73",
    "run_control": {
     "read_only": false
    }
   },
   "outputs": [
    {
     "data": {
      "image/png": "[encoded data removed]",
      "text/plain": [
       "<Figure size 720x504 with 1 Axes>"
      ]
     },
     "metadata": {
      "needs_background": "light"
     },
     "output_type": "display_data"
    }
   ],
   "source": [
    "# Import dependencies \n",
    "import torch\n",
    "import matplotlib.pyplot as plt\n",
    "from sklearn.datasets import make_blobs # https://scikit-learn.org/stable/modules/generated/sklearn.datasets.make_blobs.html#sklearn.datasets.make_blobs \n",
    "from sklearn.model_selection import train_test_split\n",
    "\n",
    "# Set the hyperparameters for data creation\n",
    "NUM_CLASSES = 4\n",
    "NUM_FEATURES = 2\n",
    "RANDOM_SEED = 42\n",
    "\n",
    "# 1. Create multi-class data\n",
    "X_blob, y_blob = make_blobs(n_samples=1000,\n",
    "                            n_features=NUM_FEATURES,\n",
    "                            centers=NUM_CLASSES,\n",
    "                            cluster_std=1.5, # give the clusters a little shake up\n",
    "                            random_state=RANDOM_SEED)\n",
    "\n",
    "# 2. Turn data into tensors\n",
    "X_blob = torch.from_numpy(X_blob).type(torch.float)\n",
    "y_blob = torch.from_numpy(y_blob).type(torch.LongTensor)\n",
    "\n",
    "# 3. Split into train and test\n",
    "X_blob_train, X_blob_test, y_blob_train, y_blob_test = train_test_split(X_blob,\n",
    "                                                                        y_blob,\n",
    "                                                                        test_size=0.2, \n",
    "                                                                        random_state=RANDOM_SEED)\n",
    "\n",
    "# 4. Plot data (visualize, visualize, visualize)\n",
    "plt.figure(figsize=(10, 7))\n",
    "plt.scatter(X_blob[:, 0], X_blob[:, 1], c=y_blob, cmap=plt.cm.RdYlBu);"
   ]
  },
  {
   "cell_type": "markdown",
   "metadata": {
    "button": false,
    "deletable": true,
    "id": "cxa4vNR0R7ax",
    "new_sheet": false,
    "run_control": {
     "read_only": false
    }
   },
   "source": [
    "### 8.2 Building a multi-class classification model in PyTorch"
   ]
  },
  {
   "cell_type": "code",
   "execution_count": 70,
   "metadata": {
    "button": false,
    "colab": {
     "base_uri": "https://localhost:8080/",
     "height": 36
    },
    "collapsed": false,
    "deletable": true,
    "id": "Is3TPvOIR7SX",
    "new_sheet": false,
    "outputId": "1ccbe4a4-ddd5-4ff3-a19f-6b0cfca60f69",
    "run_control": {
     "read_only": false
    }
   },
   "outputs": [
    {
     "data": {
      "application/vnd.google.colaboratory.intrinsic+json": {
       "type": "string"
      },
      "text/plain": [
       "'cuda'"
      ]
     },
     "execution_count": 70,
     "metadata": {},
     "output_type": "execute_result"
    }
   ],
   "source": [
    "# Create device agnostic code\n",
    "device = \"cuda\" if torch.cuda.is_available() else \"cpu\"\n",
    "device"
   ]
  },
  {
   "cell_type": "code",
   "execution_count": 71,
   "metadata": {
    "button": false,
    "colab": {
     "base_uri": "https://localhost:8080/"
    },
    "collapsed": false,
    "deletable": true,
    "id": "4KYMrjuCdHHb",
    "new_sheet": false,
    "outputId": "6a771223-6b7d-4755-e3fd-599f22249947",
    "run_control": {
     "read_only": false
    }
   },
   "outputs": [
    {
     "data": {
      "text/plain": [
       "BlobModel(\n",
       "  (linear_layer_stack): Sequential(\n",
       "    (0): Linear(in_features=2, out_features=8, bias=True)\n",
       "    (1): Linear(in_features=8, out_features=8, bias=True)\n",
       "    (2): Linear(in_features=8, out_features=4, bias=True)\n",
       "  )\n",
       ")"
      ]
     },
     "execution_count": 71,
     "metadata": {},
     "output_type": "execute_result"
    }
   ],
   "source": [
    "# Build a multi-class classification model\n",
    "class BlobModel(nn.Module):\n",
    "  def __init__(self, input_features, output_features, hidden_units=8):\n",
    "    \"\"\"Initializes multi-class classification model.\n",
    "    \n",
    "    Args:\n",
    "      input_features (int): Number of input features to the model\n",
    "      output_features (int): Number of outputs features (number of output classes)\n",
    "      hidden_units (int): Number of hidden units between layers, default 8\n",
    "\n",
    "    Returns:\n",
    "\n",
    "    Example:\n",
    "    \"\"\"\n",
    "    super().__init__()\n",
    "    self.linear_layer_stack = nn.Sequential(\n",
    "        nn.Linear(in_features=input_features, out_features=hidden_units),\n",
    "        # nn.ReLU(),\n",
    "        nn.Linear(in_features=hidden_units, out_features=hidden_units),\n",
    "        # nn.ReLU(),\n",
    "        nn.Linear(in_features=hidden_units, out_features=output_features)\n",
    "    )\n",
    "\n",
    "  def forward(self, x):\n",
    "    return self.linear_layer_stack(x)\n",
    "\n",
    "# Create an instance of BlobModel and send it to the target device\n",
    "model_4 = BlobModel(input_features=2,\n",
    "                    output_features=4,\n",
    "                    hidden_units=8).to(device)\n",
    "\n",
    "model_4"
   ]
  },
  {
   "cell_type": "code",
   "execution_count": 72,
   "metadata": {
    "button": false,
    "colab": {
     "base_uri": "https://localhost:8080/"
    },
    "collapsed": false,
    "deletable": true,
    "id": "MFjKF1qHdHBv",
    "new_sheet": false,
    "outputId": "84709945-6e8c-47a3-dd18-3a4e8fbd77cc",
    "run_control": {
     "read_only": false
    }
   },
   "outputs": [
    {
     "data": {
      "text/plain": [
       "(torch.Size([800, 2]), tensor([1, 0, 2, 2, 0]))"
      ]
     },
     "execution_count": 72,
     "metadata": {},
     "output_type": "execute_result"
    }
   ],
   "source": [
    "X_blob_train.shape, y_blob_train[:5]"
   ]
  },
  {
   "cell_type": "code",
   "execution_count": 73,
   "metadata": {
    "button": false,
    "colab": {
     "base_uri": "https://localhost:8080/"
    },
    "collapsed": false,
    "deletable": true,
    "id": "7cnvNS0YdGNV",
    "new_sheet": false,
    "outputId": "a1282fcb-c841-49e5-ea83-0f161a67f3b1",
    "run_control": {
     "read_only": false
    }
   },
   "outputs": [
    {
     "data": {
      "text/plain": [
       "tensor([0, 1, 2, 3])"
      ]
     },
     "execution_count": 73,
     "metadata": {},
     "output_type": "execute_result"
    }
   ],
   "source": [
    "torch.unique(y_blob_train)"
   ]
  },
  {
   "cell_type": "markdown",
   "metadata": {
    "button": false,
    "deletable": true,
    "id": "0zNAjKSaelX4",
    "new_sheet": false,
    "run_control": {
     "read_only": false
    }
   },
   "source": [
    "### 8.3 Create a loss function and an optimizer for a multi-class classification model"
   ]
  },
  {
   "cell_type": "code",
   "execution_count": 74,
   "metadata": {
    "button": false,
    "collapsed": true,
    "deletable": true,
    "id": "npZosTbqf8jI",
    "new_sheet": false,
    "run_control": {
     "read_only": false
    }
   },
   "outputs": [],
   "source": [
    "# Create a loss function for multi-class classification - loss function measures how wrong our model's predictions are\n",
    "loss_fn = nn.CrossEntropyLoss()\n",
    "\n",
    "# Create an optimizer for multi-class classification - optimizer updates our model parameters to try and reduce the loss\n",
    "optimizer = torch.optim.SGD(params=model_4.parameters(), \n",
    "                            lr=0.1) # learning rate is a hyperparameter you can change"
   ]
  },
  {
   "cell_type": "markdown",
   "metadata": {
    "button": false,
    "deletable": true,
    "id": "hc8BN4MghEpG",
    "new_sheet": false,
    "run_control": {
     "read_only": false
    }
   },
   "source": [
    "### 8.4 Getting prediction probabilities for a multi-class PyTorch model\n",
    "\n",
    "In order to evaluate and train and test our model, we need to convert our model's outputs (logtis) to predicition probabilities and then to prediction labels.\n",
    "\n",
    "Logits (raw output of the model) -> Pred probs (use `torch.softmax`) -> Pred labels (take the argmax of the prediction probabilities)"
   ]
  },
  {
   "cell_type": "code",
   "execution_count": 75,
   "metadata": {
    "button": false,
    "colab": {
     "base_uri": "https://localhost:8080/"
    },
    "collapsed": false,
    "deletable": true,
    "id": "r3c3XxhShMnO",
    "new_sheet": false,
    "outputId": "3726b54e-8d13-449b-c4be-1d5f8e02782a",
    "run_control": {
     "read_only": false
    }
   },
   "outputs": [
    {
     "data": {
      "text/plain": [
       "tensor([[-1.2549, -0.8112, -1.4795, -0.5696],\n",
       "        [ 1.7168, -1.2270,  1.7367,  2.1010],\n",
       "        [ 2.2400,  0.7714,  2.6020,  1.0107],\n",
       "        [-0.7993, -0.3723, -0.9138, -0.5388],\n",
       "        [-0.4332, -1.6117, -0.6891,  0.6852],\n",
       "        [ 2.0878, -1.3728,  2.1248,  2.5052],\n",
       "        [ 1.8310,  0.8851,  2.1674,  0.6006],\n",
       "        [ 0.1412, -1.4742, -0.0360,  1.0373],\n",
       "        [ 2.9426,  0.7047,  3.3670,  1.6184],\n",
       "        [-0.0645, -1.5006, -0.2666,  0.8940]], device='cuda:0')"
      ]
     },
     "execution_count": 75,
     "metadata": {},
     "output_type": "execute_result"
    }
   ],
   "source": [
    "# Let's get some raw outputs of our model (logits)\n",
    "model_4.eval()\n",
    "with torch.inference_mode():\n",
    "  y_logits = model_4(X_blob_test.to(device))\n",
    "\n",
    "y_logits[:10]"
   ]
  },
  {
   "cell_type": "code",
   "execution_count": 76,
   "metadata": {
    "button": false,
    "colab": {
     "base_uri": "https://localhost:8080/"
    },
    "collapsed": false,
    "deletable": true,
    "id": "WKQwb_4aiIxn",
    "new_sheet": false,
    "outputId": "188ae7b5-da63-4d2a-bba1-e64d5617eabf",
    "run_control": {
     "read_only": false
    }
   },
   "outputs": [
    {
     "data": {
      "text/plain": [
       "tensor([1, 3, 2, 1, 0, 3, 2, 0, 2, 0])"
      ]
     },
     "execution_count": 76,
     "metadata": {},
     "output_type": "execute_result"
    }
   ],
   "source": [
    "y_blob_test[:10]"
   ]
  },
  {
   "cell_type": "code",
   "execution_count": 77,
   "metadata": {
    "button": false,
    "colab": {
     "base_uri": "https://localhost:8080/"
    },
    "collapsed": false,
    "deletable": true,
    "id": "dBPtpiGjhyEP",
    "new_sheet": false,
    "outputId": "c49b3ef3-6fcd-4332-ae8f-dece02e15669",
    "run_control": {
     "read_only": false
    }
   },
   "outputs": [
    {
     "name": "stdout",
     "output_type": "stream",
     "text": [
      "tensor([[-1.2549, -0.8112, -1.4795, -0.5696],\n",
      "        [ 1.7168, -1.2270,  1.7367,  2.1010],\n",
      "        [ 2.2400,  0.7714,  2.6020,  1.0107],\n",
      "        [-0.7993, -0.3723, -0.9138, -0.5388],\n",
      "        [-0.4332, -1.6117, -0.6891,  0.6852]], device='cuda:0')\n",
      "tensor([[0.1872, 0.2918, 0.1495, 0.3715],\n",
      "        [0.2824, 0.0149, 0.2881, 0.4147],\n",
      "        [0.3380, 0.0778, 0.4854, 0.0989],\n",
      "        [0.2118, 0.3246, 0.1889, 0.2748],\n",
      "        [0.1945, 0.0598, 0.1506, 0.5951]], device='cuda:0')\n"
     ]
    }
   ],
   "source": [
    "# Convert our model's logit outputs to prediction probabilities\n",
    "y_pred_probs = torch.softmax(y_logits, dim=1)\n",
    "print(y_logits[:5])\n",
    "print(y_pred_probs[:5])"
   ]
  },
  {
   "cell_type": "code",
   "execution_count": 78,
   "metadata": {
    "button": false,
    "colab": {
     "base_uri": "https://localhost:8080/"
    },
    "collapsed": false,
    "deletable": true,
    "id": "vkH214Emh_Im",
    "new_sheet": false,
    "outputId": "aee7f53f-827a-4ea9-95fc-22c2c01c20a3",
    "run_control": {
     "read_only": false
    }
   },
   "outputs": [
    {
     "data": {
      "text/plain": [
       "tensor([3, 3, 2, 1, 3, 3, 2, 3, 2, 3, 3, 3, 3, 3, 3, 3, 3, 2, 3, 3, 3, 3, 3, 2,\n",
       "        2, 2, 3, 3, 3, 3, 3, 1, 1, 2, 1, 2, 1, 3, 3, 2, 3, 3, 3, 2, 3, 3, 3, 3,\n",
       "        3, 3, 1, 3, 3, 1, 3, 2, 3, 1, 3, 2, 2, 3, 3, 2, 2, 3, 3, 3, 3, 3, 3, 3,\n",
       "        3, 3, 2, 3, 3, 3, 3, 1, 3, 2, 3, 2, 3, 3, 2, 3, 3, 2, 3, 3, 1, 3, 3, 3,\n",
       "        1, 3, 3, 2, 3, 3, 3, 3, 2, 3, 1, 3, 3, 2, 1, 1, 3, 2, 2, 3, 3, 3, 1, 2,\n",
       "        2, 3, 3, 1, 2, 3, 3, 3, 2, 3, 3, 2, 3, 2, 3, 3, 3, 3, 3, 1, 1, 3, 2, 2,\n",
       "        2, 2, 3, 3, 3, 2, 2, 1, 3, 2, 3, 3, 3, 3, 2, 3, 2, 3, 3, 2, 3, 3, 2, 3,\n",
       "        2, 2, 2, 3, 3, 1, 1, 1, 1, 1, 3, 1, 3, 2, 2, 3, 2, 2, 3, 3, 2, 2, 3, 3,\n",
       "        1, 3, 2, 3, 3, 1, 2, 3], device='cuda:0')"
      ]
     },
     "execution_count": 78,
     "metadata": {},
     "output_type": "execute_result"
    }
   ],
   "source": [
    "# Convert our model's prediction probabilities to prediction labels\n",
    "y_preds = torch.argmax(y_pred_probs, dim=1)\n",
    "y_preds"
   ]
  },
  {
   "cell_type": "code",
   "execution_count": 79,
   "metadata": {
    "button": false,
    "colab": {
     "base_uri": "https://localhost:8080/"
    },
    "collapsed": false,
    "deletable": true,
    "id": "mzRST_n8i8yV",
    "new_sheet": false,
    "outputId": "68166c3d-b220-4482-c133-6e888abbe419",
    "run_control": {
     "read_only": false
    }
   },
   "outputs": [
    {
     "data": {
      "text/plain": [
       "tensor([1, 3, 2, 1, 0, 3, 2, 0, 2, 0, 0, 1, 0, 0, 0, 3, 3, 2, 3, 3, 3, 0, 1, 2,\n",
       "        2, 2, 3, 0, 1, 0, 3, 1, 1, 3, 1, 2, 1, 3, 0, 2, 0, 3, 3, 2, 0, 3, 1, 1,\n",
       "        0, 3, 1, 0, 1, 1, 3, 2, 1, 1, 3, 2, 2, 0, 3, 2, 2, 0, 0, 3, 3, 0, 0, 3,\n",
       "        3, 3, 2, 3, 3, 3, 3, 1, 0, 2, 3, 2, 3, 3, 2, 3, 3, 2, 3, 3, 1, 3, 3, 3,\n",
       "        1, 0, 3, 2, 0, 0, 3, 0, 2, 3, 1, 0, 3, 2, 1, 1, 0, 2, 2, 3, 0, 0, 1, 2,\n",
       "        2, 3, 0, 1, 2, 0, 0, 0, 2, 3, 1, 2, 3, 2, 0, 3, 0, 0, 1, 1, 1, 0, 2, 2,\n",
       "        2, 2, 0, 3, 3, 2, 2, 1, 3, 2, 0, 0, 3, 3, 2, 1, 2, 0, 3, 2, 0, 3, 2, 0,\n",
       "        2, 2, 2, 0, 3, 1, 1, 1, 1, 1, 3, 1, 0, 2, 2, 1, 2, 2, 0, 1, 2, 2, 0, 0,\n",
       "        1, 3, 2, 0, 3, 1, 2, 1])"
      ]
     },
     "execution_count": 79,
     "metadata": {},
     "output_type": "execute_result"
    }
   ],
   "source": [
    "y_blob_test"
   ]
  },
  {
   "cell_type": "markdown",
   "metadata": {
    "button": false,
    "deletable": true,
    "id": "vNUDES0mi8v-",
    "new_sheet": false,
    "run_control": {
     "read_only": false
    }
   },
   "source": [
    "### 8.5 Creating a training loop and testing loop for a multi-class PyTorch model"
   ]
  },
  {
   "cell_type": "code",
   "execution_count": 80,
   "metadata": {
    "button": false,
    "colab": {
     "base_uri": "https://localhost:8080/"
    },
    "collapsed": false,
    "deletable": true,
    "id": "TfFzD8T0m49e",
    "new_sheet": false,
    "outputId": "2e1f1b5b-4bec-4040-bcfd-859a96ed9aa8",
    "run_control": {
     "read_only": false
    }
   },
   "outputs": [
    {
     "data": {
      "text/plain": [
       "torch.int64"
      ]
     },
     "execution_count": 80,
     "metadata": {},
     "output_type": "execute_result"
    }
   ],
   "source": [
    "y_blob_train.dtype"
   ]
  },
  {
   "cell_type": "code",
   "execution_count": 81,
   "metadata": {
    "button": false,
    "colab": {
     "base_uri": "https://localhost:8080/"
    },
    "collapsed": false,
    "deletable": true,
    "id": "CzQG_INbi8tG",
    "new_sheet": false,
    "outputId": "c5213af8-976d-418a-9876-8e218d143710",
    "run_control": {
     "read_only": false
    }
   },
   "outputs": [
    {
     "name": "stdout",
     "output_type": "stream",
     "text": [
      "Epoch: 0 | Loss: 1.0432, Acc: 65.50% | Test loss: 0.5786, Test acc: 95.50%\n",
      "Epoch: 10 | Loss: 0.1440, Acc: 99.12% | Test loss: 0.1304, Test acc: 99.00%\n",
      "Epoch: 20 | Loss: 0.0806, Acc: 99.12% | Test loss: 0.0722, Test acc: 99.50%\n",
      "Epoch: 30 | Loss: 0.0592, Acc: 99.12% | Test loss: 0.0513, Test acc: 99.50%\n",
      "Epoch: 40 | Loss: 0.0489, Acc: 99.00% | Test loss: 0.0410, Test acc: 99.50%\n",
      "Epoch: 50 | Loss: 0.0429, Acc: 99.00% | Test loss: 0.0349, Test acc: 99.50%\n",
      "Epoch: 60 | Loss: 0.0391, Acc: 99.00% | Test loss: 0.0308, Test acc: 99.50%\n",
      "Epoch: 70 | Loss: 0.0364, Acc: 99.00% | Test loss: 0.0280, Test acc: 99.50%\n",
      "Epoch: 80 | Loss: 0.0345, Acc: 99.00% | Test loss: 0.0259, Test acc: 99.50%\n",
      "Epoch: 90 | Loss: 0.0330, Acc: 99.12% | Test loss: 0.0242, Test acc: 99.50%\n"
     ]
    }
   ],
   "source": [
    "# Fit the multi-class model to the data\n",
    "torch.manual_seed(42)\n",
    "torch.cuda.manual_seed(42)\n",
    "\n",
    "# Set number of epochs \n",
    "epochs = 100\n",
    "\n",
    "# Put data to the target device\n",
    "X_blob_train, y_blob_train = X_blob_train.to(device), y_blob_train.to(device)\n",
    "X_blob_test, y_blob_test = X_blob_test.to(device), y_blob_test.to(device)\n",
    "\n",
    "# Loop through data\n",
    "for epoch in range(epochs):\n",
    "  ### Training \n",
    "  model_4.train()\n",
    "\n",
    "  y_logits = model_4(X_blob_train)\n",
    "  y_pred = torch.softmax(y_logits, dim=1).argmax(dim=1)\n",
    "\n",
    "  loss = loss_fn(y_logits, y_blob_train)\n",
    "  acc = accuracy_fn(y_true=y_blob_train,\n",
    "                    y_pred=y_pred)\n",
    "  \n",
    "  optimizer.zero_grad()\n",
    "  loss.backward()\n",
    "  optimizer.step()\n",
    "\n",
    "  ### Testing\n",
    "  model_4.eval()\n",
    "  with torch.inference_mode():\n",
    "    test_logits = model_4(X_blob_test)\n",
    "    test_preds = torch.softmax(test_logits, dim=1).argmax(dim=1)\n",
    "    \n",
    "    test_loss = loss_fn(test_logits, y_blob_test)\n",
    "    test_acc = accuracy_fn(y_true=y_blob_test,\n",
    "                           y_pred=test_preds)\n",
    "    \n",
    "  # Print out what's happenin'\n",
    "  if epoch % 10 == 0:\n",
    "    print(f\"Epoch: {epoch} | Loss: {loss:.4f}, Acc: {acc:.2f}% | Test loss: {test_loss:.4f}, Test acc: {test_acc:.2f}%\")"
   ]
  },
  {
   "cell_type": "markdown",
   "metadata": {
    "button": false,
    "deletable": true,
    "id": "7GsIPbD3l81j",
    "new_sheet": false,
    "run_control": {
     "read_only": false
    }
   },
   "source": [
    "### 8.6 Making and evaluating predictions with a PyTorch multi-class model"
   ]
  },
  {
   "cell_type": "code",
   "execution_count": 82,
   "metadata": {
    "button": false,
    "colab": {
     "base_uri": "https://localhost:8080/"
    },
    "collapsed": false,
    "deletable": true,
    "id": "bcLD0Iqal84o",
    "new_sheet": false,
    "outputId": "fdeca146-db36-4613-8b16-c9659a365abd",
    "run_control": {
     "read_only": false
    }
   },
   "outputs": [
    {
     "data": {
      "text/plain": [
       "tensor([[  4.3377,  10.3539, -14.8948,  -9.7642],\n",
       "        [  5.0142, -12.0371,   3.3860,  10.6699],\n",
       "        [ -5.5885, -13.3448,  20.9894,  12.7711],\n",
       "        [  1.8400,   7.5599,  -8.6016,  -6.9942],\n",
       "        [  8.0726,   3.2906, -14.5998,  -3.6186],\n",
       "        [  5.5844, -14.9521,   5.0168,  13.2890],\n",
       "        [ -5.9739, -10.1913,  18.8655,   9.9179],\n",
       "        [  7.0755,  -0.7601,  -9.5531,   0.1736],\n",
       "        [ -5.5918, -18.5990,  25.5309,  17.5799],\n",
       "        [  7.3142,   0.7197, -11.2017,  -1.2011]], device='cuda:0')"
      ]
     },
     "execution_count": 82,
     "metadata": {},
     "output_type": "execute_result"
    }
   ],
   "source": [
    "# Make predictions\n",
    "model_4.eval()\n",
    "with torch.inference_mode():\n",
    "  y_logits = model_4(X_blob_test)\n",
    "\n",
    "# View the first 10 predictions\n",
    "y_logits[:10]"
   ]
  },
  {
   "cell_type": "code",
   "execution_count": 83,
   "metadata": {
    "button": false,
    "colab": {
     "base_uri": "https://localhost:8080/"
    },
    "collapsed": false,
    "deletable": true,
    "id": "Nsn_2gE5l9SG",
    "new_sheet": false,
    "outputId": "1be9dbd0-bb0b-4223-ab23-880eac5efa44",
    "run_control": {
     "read_only": false
    }
   },
   "outputs": [
    {
     "data": {
      "text/plain": [
       "tensor([[2.4332e-03, 9.9757e-01, 1.0804e-11, 1.8271e-09],\n",
       "        [3.4828e-03, 1.3698e-10, 6.8363e-04, 9.9583e-01],\n",
       "        [2.8657e-12, 1.2267e-15, 9.9973e-01, 2.6959e-04],\n",
       "        [3.2692e-03, 9.9673e-01, 9.5436e-08, 4.7620e-07],\n",
       "        [9.9168e-01, 8.3089e-03, 1.4120e-10, 8.2969e-06],\n",
       "        [4.5039e-04, 5.4288e-13, 2.5532e-04, 9.9929e-01],\n",
       "        [1.6306e-11, 2.4030e-13, 9.9987e-01, 1.3003e-04],\n",
       "        [9.9860e-01, 3.9485e-04, 5.9937e-08, 1.0045e-03],\n",
       "        [3.0436e-14, 6.8305e-20, 9.9965e-01, 3.5218e-04],\n",
       "        [9.9843e-01, 1.3657e-03, 9.0768e-09, 2.0006e-04]], device='cuda:0')"
      ]
     },
     "execution_count": 83,
     "metadata": {},
     "output_type": "execute_result"
    }
   ],
   "source": [
    "# Go from logits -> Prediction probabilities\n",
    "y_pred_probs = torch.softmax(y_logits, dim=1)\n",
    "y_pred_probs[:10]"
   ]
  },
  {
   "cell_type": "code",
   "execution_count": 84,
   "metadata": {
    "button": false,
    "colab": {
     "base_uri": "https://localhost:8080/"
    },
    "collapsed": false,
    "deletable": true,
    "id": "J7fXmpC-l9PI",
    "new_sheet": false,
    "outputId": "5165745c-5f0e-4355-f6b6-92e45f26a9ed",
    "run_control": {
     "read_only": false
    }
   },
   "outputs": [
    {
     "data": {
      "text/plain": [
       "tensor([1, 3, 2, 1, 0, 3, 2, 0, 2, 0], device='cuda:0')"
      ]
     },
     "execution_count": 84,
     "metadata": {},
     "output_type": "execute_result"
    }
   ],
   "source": [
    "# Go from pred probs to pred labels\n",
    "y_preds = torch.argmax(y_pred_probs, dim=1)\n",
    "y_preds[:10]"
   ]
  },
  {
   "cell_type": "code",
   "execution_count": 85,
   "metadata": {
    "button": false,
    "colab": {
     "base_uri": "https://localhost:8080/",
     "height": 390
    },
    "collapsed": false,
    "deletable": true,
    "id": "cvciOiS6q0Jo",
    "new_sheet": false,
    "outputId": "6b38fec5-b48b-4d4f-e957-058f04c43ef6",
    "run_control": {
     "read_only": false
    }
   },
   "outputs": [
    {
     "data": {
      "image/png": "[encoded data removed]",
      "text/plain": [
       "<Figure size 864x432 with 2 Axes>"
      ]
     },
     "metadata": {
      "needs_background": "light"
     },
     "output_type": "display_data"
    }
   ],
   "source": [
    "plt.figure(figsize=(12, 6))\n",
    "plt.subplot(1, 2, 1)\n",
    "plt.title(\"Train\")\n",
    "plot_decision_boundary(model_4, X_blob_train, y_blob_train)\n",
    "plt.subplot(1, 2, 2)\n",
    "plt.title(\"Test\")\n",
    "plot_decision_boundary(model_4, X_blob_test, y_blob_test)"
   ]
  },
  {
   "cell_type": "markdown",
   "metadata": {
    "button": false,
    "deletable": true,
    "id": "YyD62KSPq0HD",
    "new_sheet": false,
    "run_control": {
     "read_only": false
    }
   },
   "source": [
    "## 9. A few more classification metrics... (to evaluate our classification model)\n",
    "\n",
    "* Accuracy - out of 100 samples, how many does our model get right?\n",
    "* Precision\n",
    "* Recall \n",
    "* F1-score\n",
    "* Confusion matrix\n",
    "* Classification report\n",
    "\n",
    "See this article for when to use precision/recall - https://towardsdatascience.com/beyond-accuracy-precision-and-recall-3da06bea9f6c\n",
    "\n",
    "If you want access to a lot of PyTorch metrics, see TorchMetrics - https://torchmetrics.readthedocs.io/en/latest/ "
   ]
  },
  {
   "cell_type": "code",
   "execution_count": 86,
   "metadata": {
    "button": false,
    "colab": {
     "base_uri": "https://localhost:8080/"
    },
    "collapsed": false,
    "deletable": true,
    "id": "zUPfxaG7l869",
    "new_sheet": false,
    "outputId": "9647c129-0f65-4ee3-8b3b-df6b8e7bb2d5",
    "run_control": {
     "read_only": false
    }
   },
   "outputs": [
    {
     "name": "stdout",
     "output_type": "stream",
     "text": [
      "Looking in indexes: https://pypi.org/simple, https://us-python.pkg.dev/colab-wheels/public/simple/\n",
      "Collecting torchmetrics\n",
      "  Downloading torchmetrics-0.11.4-py3-none-any.whl (519 kB)\n",
      "\u001b[2K     \u001b[90m━━━━━━━━━━━━━━━━━━━━━━━━━━━━━━━━━━━━━━\u001b[0m \u001b[32m519.2/519.2 KB\u001b[0m \u001b[31m10.7 MB/s\u001b[0m eta \u001b[36m0:00:00\u001b[0m\n",
      "\u001b[?25hRequirement already satisfied: numpy>=1.17.2 in /usr/local/lib/python3.9/dist-packages (from torchmetrics) (1.22.4)\n",
      "Requirement already satisfied: packaging in /usr/local/lib/python3.9/dist-packages (from torchmetrics) (23.0)\n",
      "Requirement already satisfied: torch>=1.8.1 in /usr/local/lib/python3.9/dist-packages (from torchmetrics) (1.13.1+cu116)\n",
      "Requirement already satisfied: typing-extensions in /usr/local/lib/python3.9/dist-packages (from torch>=1.8.1->torchmetrics) (4.5.0)\n",
      "Installing collected packages: torchmetrics\n",
      "Successfully installed torchmetrics-0.11.4\n"
     ]
    }
   ],
   "source": [
    "!pip install torchmetrics"
   ]
  },
  {
   "cell_type": "code",
   "execution_count": 89,
   "metadata": {
    "button": false,
    "colab": {
     "base_uri": "https://localhost:8080/"
    },
    "collapsed": false,
    "deletable": true,
    "id": "YsKTgOmhlqyJ",
    "new_sheet": false,
    "outputId": "e13a69d7-7ca5-4a35-fa50-30c0c45210a2",
    "run_control": {
     "read_only": false
    }
   },
   "outputs": [
    {
     "name": "stdout",
     "output_type": "stream",
     "text": [
      "Exception: __new__() missing 1 required positional argument: 'task'\n"
     ]
    }
   ],
   "source": [
    "from torchmetrics import Accuracy\n",
    "\n",
    "try:\n",
    "  # Setup metric\n",
    "  torchmetric_accuracy = Accuracy().to(device)\n",
    "  # Calculuate accuracy\n",
    "  torchmetric_accuracy(y_preds, y_blob_test)\n",
    "except Exception as ex:\n",
    "  print(\"Exception:\", ex)"
   ]
  },
  {
   "cell_type": "code",
   "execution_count": null,
   "metadata": {
    "button": false,
    "collapsed": true,
    "deletable": true,
    "id": "_cST55cwuU4V",
    "new_sheet": false,
    "run_control": {
     "read_only": false
    }
   },
   "outputs": [],
   "source": [
    "torchmetric_accuracy.device"
   ]
  },
  {
   "cell_type": "markdown",
   "metadata": {
    "button": false,
    "deletable": true,
    "id": "vf_cd5t5uZQh",
    "new_sheet": false,
    "run_control": {
     "read_only": false
    }
   },
   "source": [
    "## Exercises & Extra-curriculum \n",
    "\n",
    "See exercises and extra-curriculum here: https://www.learnpytorch.io/02_pytorch_classification/#exercises"
   ]
  },
  {
   "cell_type": "code",
   "execution_count": null,
   "metadata": {
    "button": false,
    "collapsed": true,
    "deletable": true,
    "id": "ycgmZrSGvf_l",
    "new_sheet": false,
    "run_control": {
     "read_only": false
    }
   },
   "outputs": [],
   "source": []
  }
 ],
 "metadata": {
  "accelerator": "GPU",
  "colab": {
   "name": "02_pytorch_classification_video.ipynb",
   "provenance": [],
   "toc_visible": true
  },
  "kernelspec": {
   "display_name": "Python 3",
   "language": "python",
   "name": "python3"
  },
  "language_info": {
   "codemirror_mode": {
    "name": "ipython",
    "version": 3
   },
   "file_extension": ".py",
   "mimetype": "text/x-python",
   "name": "python",
   "nbconvert_exporter": "python",
   "pygments_lexer": "ipython3",
   "version": "3.5.0"
  }
 },
 "nbformat": 4,
 "nbformat_minor": 0
}
