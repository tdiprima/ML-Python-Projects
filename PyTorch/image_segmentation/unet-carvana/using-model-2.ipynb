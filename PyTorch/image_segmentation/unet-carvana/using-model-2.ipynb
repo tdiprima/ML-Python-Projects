{
 "cells": [
  {
   "cell_type": "markdown",
   "metadata": {
    "button": false,
    "new_sheet": false,
    "run_control": {
     "read_only": false
    }
   },
   "source": [
    "## Data Preprocessing"
   ]
  },
  {
   "cell_type": "code",
   "execution_count": 1,
   "metadata": {
    "_cell_guid": "b1076dfc-b9ad-4769-8c92-a6c4dae69d19",
    "_uuid": "8f2839f25d086af736a60e9eeb907d3b93b6e0e5",
    "button": false,
    "execution": {
     "iopub.execute_input": "2023-04-27T18:07:24.852848Z",
     "iopub.status.busy": "2023-04-27T18:07:24.851887Z",
     "iopub.status.idle": "2023-04-27T18:07:24.888969Z",
     "shell.execute_reply": "2023-04-27T18:07:24.887813Z",
     "shell.execute_reply.started": "2023-04-27T18:07:24.852791Z"
    },
    "new_sheet": false,
    "run_control": {
     "read_only": false
    }
   },
   "outputs": [
    {
     "name": "stdout",
     "output_type": "stream",
     "text": [
      "/kaggle/input/carvana-image-masking-challenge/train_masks.zip\n",
      "/kaggle/input/carvana-image-masking-challenge/29bb3ece3180_11.jpg\n",
      "/kaggle/input/carvana-image-masking-challenge/train_masks.csv.zip\n",
      "/kaggle/input/carvana-image-masking-challenge/train.zip\n",
      "/kaggle/input/carvana-image-masking-challenge/metadata.csv.zip\n",
      "/kaggle/input/carvana-image-masking-challenge/sample_submission.csv.zip\n",
      "/kaggle/input/carvana-image-masking-challenge/test.zip\n",
      "/kaggle/input/carvana-image-masking-challenge/test_hq.zip\n",
      "/kaggle/input/carvana-image-masking-challenge/train_hq.zip\n"
     ]
    }
   ],
   "source": [
    "import os\n",
    "\n",
    "import numpy as np  # linear algebra\n",
    "import pandas as pd  # data processing, CSV file I/O (e.g. pd.read_csv)\n",
    "\n",
    "# Input data files are available in the read-only \"../input/\" directory\n",
    "# For example, running this (by clicking run or pressing Shift+Enter) will list all files under the input directory\n",
    "for dirname, sub_dirs, filenames in os.walk('/kaggle/input'):\n",
    "    for filename in filenames:\n",
    "        print(os.path.join(dirname, filename))\n",
    "\n",
    "# You can write up to 20GB to the current directory (/kaggle/working/) that gets preserved as output when you create a version using \"Save & Run All\" \n",
    "# You can also write temporary files to /kaggle/temp/, but they won't be saved outside the current session"
   ]
  },
  {
   "cell_type": "code",
   "execution_count": 2,
   "metadata": {
    "button": false,
    "collapsed": true,
    "execution": {
     "iopub.execute_input": "2023-04-27T18:07:24.891616Z",
     "iopub.status.busy": "2023-04-27T18:07:24.891206Z",
     "iopub.status.idle": "2023-04-27T18:07:27.782080Z",
     "shell.execute_reply": "2023-04-27T18:07:27.781082Z",
     "shell.execute_reply.started": "2023-04-27T18:07:24.891575Z"
    },
    "new_sheet": false,
    "run_control": {
     "read_only": false
    }
   },
   "outputs": [],
   "source": [
    "import glob  # finds all the pathnames matching X\n",
    "import zipfile\n",
    "from PIL import Image\n",
    "\n",
    "import matplotlib.pyplot as plt\n",
    "from sklearn.model_selection import train_test_split\n",
    "\n",
    "import torch\n",
    "\n",
    "torch.manual_seed(42)\n",
    "import torch.nn as nn\n",
    "import torch.nn.functional as F  # handy functions (e.g. we don't have to write 'relu' ourselves)\n",
    "from torchvision.io import read_image\n",
    "from torch.utils.data import Dataset, DataLoader\n",
    "from torchvision.transforms import ToTensor, CenterCrop"
   ]
  },
  {
   "cell_type": "code",
   "execution_count": 3,
   "metadata": {
    "button": false,
    "collapsed": true,
    "execution": {
     "iopub.execute_input": "2023-04-27T18:07:27.784254Z",
     "iopub.status.busy": "2023-04-27T18:07:27.783591Z",
     "iopub.status.idle": "2023-04-27T18:07:27.789297Z",
     "shell.execute_reply": "2023-04-27T18:07:27.788259Z",
     "shell.execute_reply.started": "2023-04-27T18:07:27.784210Z"
    },
    "new_sheet": false,
    "run_control": {
     "read_only": false
    }
   },
   "outputs": [],
   "source": [
    "# Where's the data?\n",
    "input_dir = \"/kaggle/input/carvana-image-masking-challenge/\""
   ]
  },
  {
   "cell_type": "code",
   "execution_count": 4,
   "metadata": {
    "button": false,
    "execution": {
     "iopub.execute_input": "2023-04-27T18:07:27.793176Z",
     "iopub.status.busy": "2023-04-27T18:07:27.792095Z",
     "iopub.status.idle": "2023-04-27T18:10:39.104175Z",
     "shell.execute_reply": "2023-04-27T18:10:39.103069Z",
     "shell.execute_reply.started": "2023-04-27T18:07:27.793137Z"
    },
    "new_sheet": false,
    "run_control": {
     "read_only": false
    }
   },
   "outputs": [
    {
     "name": "stdout",
     "output_type": "stream",
     "text": [
      "\n",
      "--- 191.30200290679932 seconds ---\n"
     ]
    }
   ],
   "source": [
    "# Now, unzip our data\n",
    "import time\n",
    "start_time = time.time()\n",
    "\n",
    "with zipfile.ZipFile(input_dir + \"train.zip\", 'r') as zip_ref:\n",
    "    zip_ref.extractall(\".\")\n",
    "print(\"Train done\")\n",
    "\n",
    "with zipfile.ZipFile(input_dir + \"train_masks.zip\", 'r') as zip_ref:\n",
    "    zip_ref.extractall(\".\")\n",
    "print(\"Masks done\")\n",
    "\n",
    "with zipfile.ZipFile(input_dir + \"sample_submission.csv.zip\", 'r') as zip_ref:\n",
    "    zip_ref.extractall(\".\")\n",
    "print(\"CSV done\")\n",
    "\n",
    "# with zipfile.ZipFile(input_dir + \"test.zip\", 'r') as zip_ref:\n",
    "#     zip_ref.extractall(\".\")\n",
    "# print(\"Test done\")\n",
    "\n",
    "t1 = time.time() - start_time\n",
    "print(\"\\n--- %s seconds ---\" % t1)\n",
    "# t2 = t1 / 60\n",
    "# print(\"\\n--- %s minutes ---\" % t2)"
   ]
  },
  {
   "cell_type": "markdown",
   "metadata": {},
   "source": [
    "## Get just the filenames\n",
    "\n",
    "```python\n",
    "all_images = [s.split(\"/\")[-1]\n",
    "              .split(\".\")[0]\n",
    "              for s in train_val_images]\n",
    "```\n",
    "\n",
    "This creates a new list called `all_images` by iterating over the elements in the `train_val_images` list. For each element in the `train_val_images` list, the code performs the following operations:\n",
    "\n",
    "1. It splits the element by the forward slash (\"/\") separator using the `split(\"/\")` method.\n",
    "2. It takes the last element of the resulting list using the `[-1]` index.\n",
    "3. It splits the resulting string by the period (\".\") separator using the `split(\".\")` method.\n",
    "4. It takes the first element of the resulting list using the `[0]` index.\n",
    "\n",
    "The end result is a new list of strings called `all_images`, where each string is the filename of an image in the `train_val_images` list without the file extension.\n",
    "\n",
    "For example, if `train_val_images` contained the string `\"path/to/image1.jpg\"`, the corresponding element in `all_images` would be `\"image1\"`.\n",
    "\n",
    "### Real Example:\n",
    "\n",
    "```python\n",
    "blah = train_val_images[0]  # I just want 1 for this example\n",
    "# blah.split(\"/\")  # ['00087a6bd4dc_01']\n",
    "# blah.split(\"/\")[-1]  # '00087a6bd4dc_01'\n",
    "blah.split(\"/\")[-1].split(\".\")[0]  # remove .ext (if there is one!)\n",
    "```"
   ]
  },
  {
   "cell_type": "code",
   "execution_count": 5,
   "metadata": {
    "button": false,
    "execution": {
     "iopub.execute_input": "2023-04-27T18:10:39.106036Z",
     "iopub.status.busy": "2023-04-27T18:10:39.105690Z",
     "iopub.status.idle": "2023-04-27T18:10:39.137934Z",
     "shell.execute_reply": "2023-04-27T18:10:39.136986Z",
     "shell.execute_reply.started": "2023-04-27T18:10:39.106007Z"
    },
    "new_sheet": false,
    "run_control": {
     "read_only": false
    }
   },
   "outputs": [
    {
     "name": "stdout",
     "output_type": "stream",
     "text": [
      "\n",
      "There are 1272 images.\n"
     ]
    }
   ],
   "source": [
    "# search for files in the train folder\n",
    "train_val_images = glob.glob(\"train/*\")\n",
    "\n",
    "# sort the list of files\n",
    "train_val_images = sorted(train_val_images)\n",
    "\n",
    "# Get list of images without file extension\n",
    "all_images = [s.split(\"/\")[-1].split(\".\")[0] for s in train_val_images]\n",
    "\n",
    "# Grab a subset of the images\n",
    "to_train = 0.25  # 1\n",
    "train_val_images = all_images[:int(len(all_images) * to_train)]\n",
    "\n",
    "print(f\"\\nThere are {len(train_val_images)} images to do.\")\n"
   ]
  },
  {
   "cell_type": "code",
   "execution_count": 6,
   "metadata": {
    "button": false,
    "execution": {
     "iopub.execute_input": "2023-04-27T18:10:39.140997Z",
     "iopub.status.busy": "2023-04-27T18:10:39.140319Z",
     "iopub.status.idle": "2023-04-27T18:10:39.262387Z",
     "shell.execute_reply": "2023-04-27T18:10:39.261162Z",
     "shell.execute_reply.started": "2023-04-27T18:10:39.140956Z"
    },
    "new_sheet": false,
    "run_control": {
     "read_only": false
    }
   },
   "outputs": [
    {
     "data": {
      "text/html": [
       "<div>\n",
       "<style scoped>\n",
       "    .dataframe tbody tr th:only-of-type {\n",
       "        vertical-align: middle;\n",
       "    }\n",
       "\n",
       "    .dataframe tbody tr th {\n",
       "        vertical-align: top;\n",
       "    }\n",
       "\n",
       "    .dataframe thead th {\n",
       "        text-align: right;\n",
       "    }\n",
       "</style>\n",
       "<table border=\"1\" class=\"dataframe\">\n",
       "  <thead>\n",
       "    <tr style=\"text-align: right;\">\n",
       "      <th></th>\n",
       "      <th>img</th>\n",
       "      <th>rle_mask</th>\n",
       "    </tr>\n",
       "  </thead>\n",
       "  <tbody>\n",
       "    <tr>\n",
       "      <th>0</th>\n",
       "      <td>0004d4463b50_01.jpg</td>\n",
       "      <td>1 1</td>\n",
       "    </tr>\n",
       "    <tr>\n",
       "      <th>1</th>\n",
       "      <td>0004d4463b50_02.jpg</td>\n",
       "      <td>1 1</td>\n",
       "    </tr>\n",
       "  </tbody>\n",
       "</table>\n",
       "</div>"
      ],
      "text/plain": [
       "                   img rle_mask\n",
       "0  0004d4463b50_01.jpg      1 1\n",
       "1  0004d4463b50_02.jpg      1 1"
      ]
     },
     "execution_count": 6,
     "metadata": {},
     "output_type": "execute_result"
    }
   ],
   "source": [
    "# We get an example submission file.\n",
    "# Our file should look like that.\n",
    "sample_sub = pd.read_csv(\"sample_submission.csv\")\n",
    "\n",
    "sample_sub.head(2)"
   ]
  },
  {
   "cell_type": "code",
   "execution_count": 7,
   "metadata": {
    "button": false,
    "execution": {
     "iopub.execute_input": "2023-04-27T18:10:39.264713Z",
     "iopub.status.busy": "2023-04-27T18:10:39.264248Z",
     "iopub.status.idle": "2023-04-27T18:10:39.278534Z",
     "shell.execute_reply": "2023-04-27T18:10:39.277314Z",
     "shell.execute_reply.started": "2023-04-27T18:10:39.264667Z"
    },
    "new_sheet": false,
    "run_control": {
     "read_only": false
    }
   },
   "outputs": [
    {
     "name": "stdout",
     "output_type": "stream",
     "text": [
      "\n",
      "Training: 1144, Validation: 128\n"
     ]
    }
   ],
   "source": [
    "# Split matrix into random train and test subsets.\n",
    "train_images, val_images = train_test_split(train_val_images, test_size=0.1, random_state=42)\n",
    "\n",
    "# test_images = sample_sub.img.to_numpy()\n",
    "\n",
    "print(f\"\\nTraining: {len(train_images)}, Validation: {len(val_images)}\")"
   ]
  },
  {
   "cell_type": "code",
   "execution_count": 8,
   "metadata": {
    "button": false,
    "execution": {
     "iopub.execute_input": "2023-04-27T18:10:39.280623Z",
     "iopub.status.busy": "2023-04-27T18:10:39.280066Z",
     "iopub.status.idle": "2023-04-27T18:10:39.289292Z",
     "shell.execute_reply": "2023-04-27T18:10:39.288124Z",
     "shell.execute_reply.started": "2023-04-27T18:10:39.280580Z"
    },
    "new_sheet": false,
    "run_control": {
     "read_only": false
    }
   },
   "outputs": [
    {
     "data": {
      "text/plain": [
       "('0ee135a3cccc_01', '0de66245f268_01', '0004d4463b50_01.jpg')"
      ]
     },
     "execution_count": 8,
     "metadata": {},
     "output_type": "execute_result"
    }
   ],
   "source": [
    "train_images[0], val_images[0]  #, test_images[0]"
   ]
  },
  {
   "cell_type": "markdown",
   "metadata": {
    "button": false,
    "new_sheet": false,
    "run_control": {
     "read_only": false
    }
   },
   "source": [
    "## Create Model"
   ]
  },
  {
   "cell_type": "code",
   "execution_count": 9,
   "metadata": {
    "button": false,
    "collapsed": true,
    "execution": {
     "iopub.execute_input": "2023-04-27T18:10:39.292226Z",
     "iopub.status.busy": "2023-04-27T18:10:39.291087Z",
     "iopub.status.idle": "2023-04-27T18:10:39.302008Z",
     "shell.execute_reply": "2023-04-27T18:10:39.300802Z",
     "shell.execute_reply.started": "2023-04-27T18:10:39.292138Z"
    },
    "new_sheet": false,
    "run_control": {
     "read_only": false
    }
   },
   "outputs": [],
   "source": [
    "# INPUT_SIZE\n",
    "img_size = 576\n",
    "\n",
    "# [4, 3, 576, 576]\n",
    "\n",
    "\n",
    "class CustomImageDataset(Dataset):\n",
    "    \"\"\"\n",
    "    Resize, convert to grayscale, transform\n",
    "    \"\"\"\n",
    "    def __init__(self, img_ids, transform=None):\n",
    "        self.img_ids = img_ids\n",
    "        self.transform = transform  # ToTensor\n",
    "\n",
    "    def __len__(self):\n",
    "        return len(self.img_ids)\n",
    "\n",
    "    def __getitem__(self, idx):\n",
    "        img_id = self.img_ids[idx]\n",
    "\n",
    "        # WE KNOW THIS AHEAD OF TIME\n",
    "        img_path = \"train/\" + img_id + \".jpg\"\n",
    "        mask_path = \"train_masks/\" + img_id + \"_mask.gif\"\n",
    "\n",
    "        image = Image.open(img_path)\n",
    "        image = image.resize((img_size, img_size))\n",
    "\n",
    "        mask = Image.open(mask_path).convert(\"L\")\n",
    "        mask = mask.resize((img_size, img_size))\n",
    "\n",
    "        if self.transform:\n",
    "            image = self.transform(image)\n",
    "            mask = self.transform(mask)\n",
    "\n",
    "        return image, mask"
   ]
  },
  {
   "cell_type": "code",
   "execution_count": 10,
   "metadata": {
    "button": false,
    "execution": {
     "iopub.execute_input": "2023-04-27T18:10:39.307274Z",
     "iopub.status.busy": "2023-04-27T18:10:39.306932Z",
     "iopub.status.idle": "2023-04-27T18:10:39.314249Z",
     "shell.execute_reply": "2023-04-27T18:10:39.312882Z",
     "shell.execute_reply.started": "2023-04-27T18:10:39.307245Z"
    },
    "new_sheet": false,
    "run_control": {
     "read_only": false
    }
   },
   "outputs": [
    {
     "name": "stdout",
     "output_type": "stream",
     "text": [
      "\n",
      "Before: <class 'list'>\n",
      "\n",
      "After: <class '__main__.CustomImageDataset'>\n"
     ]
    }
   ],
   "source": [
    "# Convert train_images list to CustomImageDataset\n",
    "training_data = CustomImageDataset(train_images, ToTensor())\n",
    "\n",
    "# Convert val_images\n",
    "val_data = CustomImageDataset(val_images, ToTensor())\n"
   ]
  },
  {
   "cell_type": "code",
   "execution_count": 11,
   "metadata": {
    "button": false,
    "execution": {
     "iopub.execute_input": "2023-04-27T18:10:39.316395Z",
     "iopub.status.busy": "2023-04-27T18:10:39.316021Z",
     "iopub.status.idle": "2023-04-27T18:10:39.520855Z",
     "shell.execute_reply": "2023-04-27T18:10:39.519713Z",
     "shell.execute_reply.started": "2023-04-27T18:10:39.316342Z"
    },
    "new_sheet": false,
    "run_control": {
     "read_only": false
    }
   },
   "outputs": [
    {
     "name": "stdout",
     "output_type": "stream",
     "text": [
      "\n",
      "image: torch.Size([3, 576, 576])\n",
      "\n",
      "mask: torch.Size([1, 576, 576])\n"
     ]
    }
   ],
   "source": [
    "# Iterate the training data in order to see what it is\n",
    "for x, y in training_data:\n",
    "    print(\"\\nimage:\", x.shape)  # INPUT SIZE\n",
    "    print(\"\\nmask:\", y.shape)\n",
    "    break"
   ]
  },
  {
   "cell_type": "code",
   "execution_count": 12,
   "metadata": {
    "button": false,
    "collapsed": true,
    "execution": {
     "iopub.execute_input": "2023-04-27T18:10:39.526070Z",
     "iopub.status.busy": "2023-04-27T18:10:39.525058Z",
     "iopub.status.idle": "2023-04-27T18:10:39.537534Z",
     "shell.execute_reply": "2023-04-27T18:10:39.536286Z",
     "shell.execute_reply.started": "2023-04-27T18:10:39.526027Z"
    },
    "new_sheet": false,
    "run_control": {
     "read_only": false
    }
   },
   "outputs": [],
   "source": [
    "# Make DataLoaders and shuffle images\n",
    "train_dataloader = DataLoader(training_data, batch_size=4, shuffle=True)\n",
    "val_dataloader = DataLoader(val_data, batch_size=4, shuffle=True)"
   ]
  },
  {
   "cell_type": "code",
   "execution_count": 13,
   "metadata": {
    "button": false,
    "execution": {
     "iopub.execute_input": "2023-04-27T18:10:39.546401Z",
     "iopub.status.busy": "2023-04-27T18:10:39.542922Z",
     "iopub.status.idle": "2023-04-27T18:10:39.634639Z",
     "shell.execute_reply": "2023-04-27T18:10:39.633441Z",
     "shell.execute_reply.started": "2023-04-27T18:10:39.546337Z"
    },
    "new_sheet": false,
    "run_control": {
     "read_only": false
    }
   },
   "outputs": [
    {
     "name": "stdout",
     "output_type": "stream",
     "text": [
      "Using cuda device\n"
     ]
    }
   ],
   "source": [
    "# Device agnostic code\n",
    "device = \"cuda\" if torch.cuda.is_available() else \"mps\" if torch.backends.mps.is_available() else \"cpu\"\n",
    "print(f\"Using {device} device\")"
   ]
  },
  {
   "cell_type": "code",
   "execution_count": null,
   "metadata": {
    "button": false,
    "collapsed": true,
    "new_sheet": false,
    "run_control": {
     "read_only": false
    }
   },
   "outputs": [],
   "source": [
    "class ConvBlock(nn.Module):\n",
    "    def __init__(self, in_channels: int, out_channels: int):\n",
    "        super(ConvBlock, self).__init__()\n",
    "        self.block = nn.Sequential(\n",
    "            nn.Conv2d(in_channels, out_channels, kernel_size=3, stride=1, padding=1),\n",
    "            nn.BatchNorm2d(out_channels),\n",
    "            nn.ReLU(inplace=True),\n",
    "\n",
    "            nn.Conv2d(out_channels, out_channels, kernel_size=3, stride=1, padding=1),\n",
    "            nn.BatchNorm2d(out_channels),\n",
    "            nn.ReLU(inplace=True)\n",
    "        )\n",
    "\n",
    "    def forward(self, x: torch.Tensor):\n",
    "        return self.block(x)\n",
    "\n",
    "\n",
    "class CopyAndCrop(nn.Module):\n",
    "    def forward(self, x: torch.Tensor, encoded: torch.Tensor):\n",
    "        _, _, h, w = encoded.shape\n",
    "        crop = CenterCrop((h, w))(x)\n",
    "        output = torch.cat((x, crop), 1)\n",
    "\n",
    "        return output"
   ]
  },
  {
   "cell_type": "markdown",
   "metadata": {
    "button": false,
    "new_sheet": false,
    "run_control": {
     "read_only": false
    }
   },
   "source": [
    "## Model 1"
   ]
  },
  {
   "cell_type": "code",
   "execution_count": 14,
   "metadata": {
    "button": false,
    "execution": {
     "iopub.execute_input": "2023-04-27T18:10:39.637840Z",
     "iopub.status.busy": "2023-04-27T18:10:39.636834Z",
     "iopub.status.idle": "2023-04-27T18:10:43.264334Z",
     "shell.execute_reply": "2023-04-27T18:10:43.262947Z",
     "shell.execute_reply.started": "2023-04-27T18:10:39.637800Z"
    },
    "new_sheet": false,
    "run_control": {
     "read_only": false
    }
   },
   "outputs": [
    {
     "name": "stdout",
     "output_type": "stream",
     "text": [
      "UNet(\n",
      "  (encoders): ModuleList(\n",
      "    (0): ConvBlock(\n",
      "      (block): Sequential(\n",
      "        (0): Conv2d(3, 64, kernel_size=(3, 3), stride=(1, 1), padding=(1, 1))\n",
      "        (1): BatchNorm2d(64, eps=1e-05, momentum=0.1, affine=True, track_running_stats=True)\n",
      "        (2): ReLU(inplace=True)\n",
      "        (3): Conv2d(64, 64, kernel_size=(3, 3), stride=(1, 1), padding=(1, 1))\n",
      "        (4): BatchNorm2d(64, eps=1e-05, momentum=0.1, affine=True, track_running_stats=True)\n",
      "        (5): ReLU(inplace=True)\n",
      "      )\n",
      "    )\n",
      "    (1): ConvBlock(\n",
      "      (block): Sequential(\n",
      "        (0): Conv2d(64, 128, kernel_size=(3, 3), stride=(1, 1), padding=(1, 1))\n",
      "        (1): BatchNorm2d(128, eps=1e-05, momentum=0.1, affine=True, track_running_stats=True)\n",
      "        (2): ReLU(inplace=True)\n",
      "        (3): Conv2d(128, 128, kernel_size=(3, 3), stride=(1, 1), padding=(1, 1))\n",
      "        (4): BatchNorm2d(128, eps=1e-05, momentum=0.1, affine=True, track_running_stats=True)\n",
      "        (5): ReLU(inplace=True)\n",
      "      )\n",
      "    )\n",
      "    (2): ConvBlock(\n",
      "      (block): Sequential(\n",
      "        (0): Conv2d(128, 256, kernel_size=(3, 3), stride=(1, 1), padding=(1, 1))\n",
      "        (1): BatchNorm2d(256, eps=1e-05, momentum=0.1, affine=True, track_running_stats=True)\n",
      "        (2): ReLU(inplace=True)\n",
      "        (3): Conv2d(256, 256, kernel_size=(3, 3), stride=(1, 1), padding=(1, 1))\n",
      "        (4): BatchNorm2d(256, eps=1e-05, momentum=0.1, affine=True, track_running_stats=True)\n",
      "        (5): ReLU(inplace=True)\n",
      "      )\n",
      "    )\n",
      "    (3): ConvBlock(\n",
      "      (block): Sequential(\n",
      "        (0): Conv2d(256, 512, kernel_size=(3, 3), stride=(1, 1), padding=(1, 1))\n",
      "        (1): BatchNorm2d(512, eps=1e-05, momentum=0.1, affine=True, track_running_stats=True)\n",
      "        (2): ReLU(inplace=True)\n",
      "        (3): Conv2d(512, 512, kernel_size=(3, 3), stride=(1, 1), padding=(1, 1))\n",
      "        (4): BatchNorm2d(512, eps=1e-05, momentum=0.1, affine=True, track_running_stats=True)\n",
      "        (5): ReLU(inplace=True)\n",
      "      )\n",
      "    )\n",
      "  )\n",
      "  (down_sample): MaxPool2d(kernel_size=2, stride=2, padding=0, dilation=1, ceil_mode=False)\n",
      "  (copyAndCrop): CopyAndCrop()\n",
      "  (decoders): ModuleList(\n",
      "    (0): ConvBlock(\n",
      "      (block): Sequential(\n",
      "        (0): Conv2d(1024, 512, kernel_size=(3, 3), stride=(1, 1), padding=(1, 1))\n",
      "        (1): BatchNorm2d(512, eps=1e-05, momentum=0.1, affine=True, track_running_stats=True)\n",
      "        (2): ReLU(inplace=True)\n",
      "        (3): Conv2d(512, 512, kernel_size=(3, 3), stride=(1, 1), padding=(1, 1))\n",
      "        (4): BatchNorm2d(512, eps=1e-05, momentum=0.1, affine=True, track_running_stats=True)\n",
      "        (5): ReLU(inplace=True)\n",
      "      )\n",
      "    )\n",
      "    (1): ConvBlock(\n",
      "      (block): Sequential(\n",
      "        (0): Conv2d(512, 256, kernel_size=(3, 3), stride=(1, 1), padding=(1, 1))\n",
      "        (1): BatchNorm2d(256, eps=1e-05, momentum=0.1, affine=True, track_running_stats=True)\n",
      "        (2): ReLU(inplace=True)\n",
      "        (3): Conv2d(256, 256, kernel_size=(3, 3), stride=(1, 1), padding=(1, 1))\n",
      "        (4): BatchNorm2d(256, eps=1e-05, momentum=0.1, affine=True, track_running_stats=True)\n",
      "        (5): ReLU(inplace=True)\n",
      "      )\n",
      "    )\n",
      "    (2): ConvBlock(\n",
      "      (block): Sequential(\n",
      "        (0): Conv2d(256, 128, kernel_size=(3, 3), stride=(1, 1), padding=(1, 1))\n",
      "        (1): BatchNorm2d(128, eps=1e-05, momentum=0.1, affine=True, track_running_stats=True)\n",
      "        (2): ReLU(inplace=True)\n",
      "        (3): Conv2d(128, 128, kernel_size=(3, 3), stride=(1, 1), padding=(1, 1))\n",
      "        (4): BatchNorm2d(128, eps=1e-05, momentum=0.1, affine=True, track_running_stats=True)\n",
      "        (5): ReLU(inplace=True)\n",
      "      )\n",
      "    )\n",
      "    (3): ConvBlock(\n",
      "      (block): Sequential(\n",
      "        (0): Conv2d(128, 64, kernel_size=(3, 3), stride=(1, 1), padding=(1, 1))\n",
      "        (1): BatchNorm2d(64, eps=1e-05, momentum=0.1, affine=True, track_running_stats=True)\n",
      "        (2): ReLU(inplace=True)\n",
      "        (3): Conv2d(64, 64, kernel_size=(3, 3), stride=(1, 1), padding=(1, 1))\n",
      "        (4): BatchNorm2d(64, eps=1e-05, momentum=0.1, affine=True, track_running_stats=True)\n",
      "        (5): ReLU(inplace=True)\n",
      "      )\n",
      "    )\n",
      "  )\n",
      "  (up_samples): ModuleList(\n",
      "    (0): ConvTranspose2d(1024, 512, kernel_size=(2, 2), stride=(2, 2))\n",
      "    (1): ConvTranspose2d(512, 256, kernel_size=(2, 2), stride=(2, 2))\n",
      "    (2): ConvTranspose2d(256, 128, kernel_size=(2, 2), stride=(2, 2))\n",
      "    (3): ConvTranspose2d(128, 64, kernel_size=(2, 2), stride=(2, 2))\n",
      "  )\n",
      "  (bottleneck): ConvBlock(\n",
      "    (block): Sequential(\n",
      "      (0): Conv2d(512, 1024, kernel_size=(3, 3), stride=(1, 1), padding=(1, 1))\n",
      "      (1): BatchNorm2d(1024, eps=1e-05, momentum=0.1, affine=True, track_running_stats=True)\n",
      "      (2): ReLU(inplace=True)\n",
      "      (3): Conv2d(1024, 1024, kernel_size=(3, 3), stride=(1, 1), padding=(1, 1))\n",
      "      (4): BatchNorm2d(1024, eps=1e-05, momentum=0.1, affine=True, track_running_stats=True)\n",
      "      (5): ReLU(inplace=True)\n",
      "    )\n",
      "  )\n",
      "  (final_conv): Conv2d(64, 1, kernel_size=(1, 1), stride=(1, 1))\n",
      ")\n"
     ]
    }
   ],
   "source": [
    "class UNet(nn.Module):\n",
    "    \"\"\"\n",
    "    Model 1\n",
    "    \"\"\"\n",
    "    def __init__(self, in_channels: int, out_channels: int):\n",
    "        super(UNet, self).__init__()\n",
    "\n",
    "        self.encoders = nn.ModuleList([\n",
    "            ConvBlock(in_channels, 64),\n",
    "            ConvBlock(64, 128),\n",
    "            ConvBlock(128, 256),\n",
    "            ConvBlock(256, 512),\n",
    "        ])\n",
    "\n",
    "        self.down_sample = nn.MaxPool2d(2)\n",
    "\n",
    "        self.copyAndCrop = CopyAndCrop()\n",
    "\n",
    "        self.decoders = nn.ModuleList([\n",
    "            ConvBlock(1024, 512),\n",
    "            ConvBlock(512, 256),\n",
    "            ConvBlock(256, 128),\n",
    "            ConvBlock(128, 64),\n",
    "        ])\n",
    "\n",
    "        self.up_samples = nn.ModuleList([\n",
    "            nn.ConvTranspose2d(1024, 512, kernel_size=2, stride=2),\n",
    "            nn.ConvTranspose2d(512, 256, kernel_size=2, stride=2),\n",
    "            nn.ConvTranspose2d(256, 128, kernel_size=2, stride=2),\n",
    "            nn.ConvTranspose2d(128, 64, kernel_size=2, stride=2)\n",
    "        ])\n",
    "\n",
    "        self.bottleneck = ConvBlock(512, 1024)\n",
    "        self.final_conv = nn.Conv2d(64, out_channels, kernel_size=1, stride=1)\n",
    "\n",
    "    def forward(self, x: torch.Tensor):\n",
    "        # print('Input size:', x.size())\n",
    "\n",
    "        # encode\n",
    "        encoded_features = []\n",
    "        for enc in self.encoders:\n",
    "            x = enc(x)\n",
    "            encoded_features.append(x)\n",
    "            x = self.down_sample(x)\n",
    "\n",
    "        x = self.bottleneck(x)\n",
    "\n",
    "        # decode\n",
    "        for idx, denc in enumerate(self.decoders):\n",
    "            x = self.up_samples[idx](x)\n",
    "            encoded = encoded_features.pop()\n",
    "            x = self.copyAndCrop(x, encoded)\n",
    "            x = denc(x)\n",
    "\n",
    "        output = self.final_conv(x)\n",
    "        return output\n",
    "\n",
    "\n",
    "# create an instance of the model\n",
    "model = UNet(in_channels=3, out_channels=1).to(device)\n",
    "print(model)"
   ]
  },
  {
   "cell_type": "markdown",
   "metadata": {
    "button": false,
    "new_sheet": false,
    "run_control": {
     "read_only": false
    }
   },
   "source": [
    "## Model 2"
   ]
  },
  {
   "cell_type": "code",
   "execution_count": 16,
   "metadata": {
    "button": false,
    "execution": {
     "iopub.execute_input": "2023-04-27T18:10:43.275490Z",
     "iopub.status.busy": "2023-04-27T18:10:43.274558Z",
     "iopub.status.idle": "2023-04-27T18:10:43.734760Z",
     "shell.execute_reply": "2023-04-27T18:10:43.733537Z",
     "shell.execute_reply.started": "2023-04-27T18:10:43.275446Z"
    },
    "new_sheet": false,
    "run_control": {
     "read_only": false
    }
   },
   "outputs": [
    {
     "name": "stdout",
     "output_type": "stream",
     "text": [
      "UNet(\n",
      "  (conv1): Conv2d(3, 64, kernel_size=(3, 3), stride=(1, 1), padding=(1, 1))\n",
      "  (conv2): Conv2d(64, 64, kernel_size=(3, 3), stride=(1, 1), padding=(1, 1))\n",
      "  (conv3): Conv2d(64, 128, kernel_size=(3, 3), stride=(1, 1), padding=(1, 1))\n",
      "  (conv4): Conv2d(128, 128, kernel_size=(3, 3), stride=(1, 1), padding=(1, 1))\n",
      "  (conv5): Conv2d(128, 256, kernel_size=(3, 3), stride=(1, 1), padding=(1, 1))\n",
      "  (conv6): Conv2d(256, 256, kernel_size=(3, 3), stride=(1, 1), padding=(1, 1))\n",
      "  (conv7): Conv2d(256, 512, kernel_size=(3, 3), stride=(1, 1), padding=(1, 1))\n",
      "  (conv8): Conv2d(512, 512, kernel_size=(3, 3), stride=(1, 1), padding=(1, 1))\n",
      "  (conv9): Conv2d(512, 1024, kernel_size=(3, 3), stride=(1, 1), padding=(1, 1))\n",
      "  (conv10): Conv2d(1024, 1024, kernel_size=(3, 3), stride=(1, 1), padding=(1, 1))\n",
      "  (upconv1): ConvTranspose2d(1024, 512, kernel_size=(2, 2), stride=(2, 2))\n",
      "  (conv11): Conv2d(1024, 512, kernel_size=(3, 3), stride=(1, 1), padding=(1, 1))\n",
      "  (conv12): Conv2d(512, 512, kernel_size=(3, 3), stride=(1, 1), padding=(1, 1))\n",
      "  (upconv2): ConvTranspose2d(512, 256, kernel_size=(2, 2), stride=(2, 2))\n",
      "  (conv13): Conv2d(512, 256, kernel_size=(3, 3), stride=(1, 1), padding=(1, 1))\n",
      "  (conv14): Conv2d(256, 256, kernel_size=(3, 3), stride=(1, 1), padding=(1, 1))\n",
      "  (upconv3): ConvTranspose2d(256, 128, kernel_size=(2, 2), stride=(2, 2))\n",
      "  (conv15): Conv2d(256, 128, kernel_size=(3, 3), stride=(1, 1), padding=(1, 1))\n",
      "  (conv16): Conv2d(128, 128, kernel_size=(3, 3), stride=(1, 1), padding=(1, 1))\n",
      "  (upconv4): ConvTranspose2d(128, 64, kernel_size=(2, 2), stride=(2, 2))\n",
      "  (conv17): Conv2d(128, 64, kernel_size=(3, 3), stride=(1, 1), padding=(1, 1))\n",
      "  (conv18): Conv2d(64, 64, kernel_size=(3, 3), stride=(1, 1), padding=(1, 1))\n",
      "  (finalconv): Conv2d(64, 1, kernel_size=(1, 1), stride=(1, 1))\n",
      "  (pool): MaxPool2d(kernel_size=2, stride=2, padding=0, dilation=1, ceil_mode=False)\n",
      ")\n"
     ]
    }
   ],
   "source": [
    "# Input size: torch.Size([4, 3, 576, 576])\n",
    "\n",
    "# class UNet(nn.Module):\n",
    "#     \"\"\"\n",
    "#     Model 2\n",
    "#     \"\"\"\n",
    "#     def __init__(self):\n",
    "#         super().__init__()\n",
    "#         self.conv1 = nn.Conv2d(in_channels=3, out_channels=64, kernel_size=3, padding=1)\n",
    "#         self.conv2 = nn.Conv2d(in_channels=64, out_channels=64, kernel_size=3, padding=1)\n",
    "\n",
    "#         self.conv3 = nn.Conv2d(in_channels=64, out_channels=128, kernel_size=3, padding=1)\n",
    "#         self.conv4 = nn.Conv2d(in_channels=128, out_channels=128, kernel_size=3, padding=1)\n",
    "\n",
    "#         self.conv5 = nn.Conv2d(in_channels=128, out_channels=256, kernel_size=3, padding=1)\n",
    "#         self.conv6 = nn.Conv2d(in_channels=256, out_channels=256, kernel_size=3, padding=1)\n",
    "\n",
    "#         self.conv7 = nn.Conv2d(in_channels=256, out_channels=512, kernel_size=3, padding=1)\n",
    "#         self.conv8 = nn.Conv2d(in_channels=512, out_channels=512, kernel_size=3, padding=1)\n",
    "\n",
    "#         self.conv9 = nn.Conv2d(in_channels=512, out_channels=1024, kernel_size=3, padding=1)\n",
    "#         self.conv10 = nn.Conv2d(in_channels=1024, out_channels=1024, kernel_size=3, padding=1)\n",
    "\n",
    "#         self.upconv1 = nn.ConvTranspose2d(in_channels=1024, out_channels=512, kernel_size=2, stride=2)\n",
    "\n",
    "#         self.conv11 = nn.Conv2d(in_channels=1024, out_channels=512, kernel_size=3, padding=1)\n",
    "#         self.conv12 = nn.Conv2d(in_channels=512, out_channels=512, kernel_size=3, padding=1)\n",
    "\n",
    "#         self.upconv2 = nn.ConvTranspose2d(in_channels=512, out_channels=256, kernel_size=2, stride=2)\n",
    "\n",
    "#         self.conv13 = nn.Conv2d(in_channels=512, out_channels=256, kernel_size=3, padding=1)\n",
    "#         self.conv14 = nn.Conv2d(in_channels=256, out_channels=256, kernel_size=3, padding=1)\n",
    "\n",
    "#         self.upconv3 = nn.ConvTranspose2d(in_channels=256, out_channels=128, kernel_size=2, stride=2)\n",
    "\n",
    "#         self.conv15 = nn.Conv2d(in_channels=256, out_channels=128, kernel_size=3, padding=1)\n",
    "#         self.conv16 = nn.Conv2d(in_channels=128, out_channels=128, kernel_size=3, padding=1)\n",
    "\n",
    "#         self.upconv4 = nn.ConvTranspose2d(in_channels=128, out_channels=64, kernel_size=2, stride=2)\n",
    "\n",
    "#         self.conv17 = nn.Conv2d(in_channels=128, out_channels=64, kernel_size=3, padding=1)\n",
    "#         self.conv18 = nn.Conv2d(in_channels=64, out_channels=64, kernel_size=3, padding=1)\n",
    "\n",
    "#         self.finalconv = nn.Conv2d(in_channels=64, out_channels=1, kernel_size=1)\n",
    "\n",
    "#         self.pool = nn.MaxPool2d(kernel_size=2, stride=2)\n",
    "\n",
    "#     def forward(self, x):\n",
    "#         x = F.relu(self.conv1(x))\n",
    "#         x = F.relu(self.conv2(x))\n",
    "\n",
    "#         crop1 = CenterCrop((img_size, img_size))(x)\n",
    "\n",
    "#         x = F.relu(self.pool(x))\n",
    "\n",
    "#         x = F.relu(self.conv3(x))\n",
    "#         x = F.relu(self.conv4(x))\n",
    "\n",
    "#         crop2 = CenterCrop((img_size // 2, img_size // 2))(x)\n",
    "\n",
    "#         x = F.relu(self.pool(x))\n",
    "\n",
    "#         x = F.relu(self.conv5(x))\n",
    "#         x = F.relu(self.conv6(x))\n",
    "\n",
    "#         crop3 = CenterCrop((img_size // 4, img_size // 4))(x)\n",
    "\n",
    "#         x = F.relu(self.pool(x))\n",
    "\n",
    "#         x = F.relu(self.conv7(x))\n",
    "#         x = F.relu(self.conv8(x))\n",
    "#         crop4 = CenterCrop((img_size // 8, img_size // 8))(x)\n",
    "\n",
    "#         x = F.relu(self.pool(x))\n",
    "\n",
    "#         x = F.relu(self.conv9(x))\n",
    "#         x = F.relu(self.conv10(x))\n",
    "\n",
    "#         x = F.relu(torch.cat((self.upconv1(x), crop4), 1))\n",
    "\n",
    "#         x = F.relu(self.conv11(x))\n",
    "#         x = F.relu(self.conv12(x))\n",
    "\n",
    "#         x = F.relu(torch.cat((self.upconv2(x), crop3), 1))\n",
    "\n",
    "#         x = F.relu(self.conv13(x))\n",
    "#         x = F.relu(self.conv14(x))\n",
    "\n",
    "#         x = F.relu(torch.cat((self.upconv3(x), crop2), 1))\n",
    "\n",
    "#         x = F.relu(self.conv15(x))\n",
    "#         x = F.relu(self.conv16(x))\n",
    "\n",
    "#         x = F.relu(torch.cat((self.upconv4(x), crop1), 1))\n",
    "\n",
    "#         x = F.relu(self.conv17(x))\n",
    "#         x = F.relu(self.conv18(x))\n",
    "\n",
    "#         x = self.finalconv(x)\n",
    "\n",
    "#         return x\n",
    "\n",
    "\n",
    "# model = UNet().to(device)\n",
    "# print(model)"
   ]
  },
  {
   "cell_type": "code",
   "execution_count": 17,
   "metadata": {
    "button": false,
    "collapsed": true,
    "execution": {
     "iopub.execute_input": "2023-04-27T18:10:43.737186Z",
     "iopub.status.busy": "2023-04-27T18:10:43.736738Z",
     "iopub.status.idle": "2023-04-27T18:10:43.742616Z",
     "shell.execute_reply": "2023-04-27T18:10:43.741424Z",
     "shell.execute_reply.started": "2023-04-27T18:10:43.737145Z"
    },
    "new_sheet": false,
    "run_control": {
     "read_only": false
    }
   },
   "outputs": [],
   "source": [
    "loss_fn = nn.BCEWithLogitsLoss()\n",
    "optimizer = torch.optim.Adam(model.parameters(), lr=0.0002)"
   ]
  },
  {
   "cell_type": "code",
   "execution_count": 18,
   "metadata": {
    "button": false,
    "collapsed": true,
    "execution": {
     "iopub.execute_input": "2023-04-27T18:10:43.744796Z",
     "iopub.status.busy": "2023-04-27T18:10:43.744125Z",
     "iopub.status.idle": "2023-04-27T18:10:45.450430Z",
     "shell.execute_reply": "2023-04-27T18:10:45.449315Z",
     "shell.execute_reply.started": "2023-04-27T18:10:43.744758Z"
    },
    "new_sheet": false,
    "run_control": {
     "read_only": false
    }
   },
   "outputs": [],
   "source": [
    "def train(dataloader, model, loss_fn, optimizer):\n",
    "    size = len(dataloader.dataset)\n",
    "    model.train()\n",
    "    for batch, (X, y) in enumerate(dataloader):\n",
    "        X, y = X.to(device), y.to(device)\n",
    "\n",
    "        pred = model(X)\n",
    "        loss = loss_fn(pred, y)\n",
    "\n",
    "        # Backpropagation\n",
    "        optimizer.zero_grad()\n",
    "        loss.backward()\n",
    "        optimizer.step()\n",
    "\n",
    "        if batch % 100 == 0:\n",
    "            loss, current = loss.item(), (batch + 1) * len(X)\n",
    "            print(f\"\\nloss: {loss:>7f}  [{current:>5d}/{size:>5d}]\")"
   ]
  },
  {
   "cell_type": "code",
   "execution_count": 19,
   "metadata": {
    "button": false,
    "execution": {
     "iopub.execute_input": "2023-04-27T18:10:45.452760Z",
     "iopub.status.busy": "2023-04-27T18:10:45.452239Z",
     "iopub.status.idle": "2023-04-27T18:17:42.464867Z",
     "shell.execute_reply": "2023-04-27T18:17:42.463626Z",
     "shell.execute_reply.started": "2023-04-27T18:10:45.452718Z"
    },
    "new_sheet": false,
    "run_control": {
     "read_only": false
    }
   },
   "outputs": [
    {
     "name": "stdout",
     "output_type": "stream",
     "text": [
      "\n",
      "Epoch 1 of 2\n",
      "-------------------------------\n",
      "\n",
      "loss: 0.678402  [    4/ 1144]\n",
      "\n",
      "loss: 0.260017  [  404/ 1144]\n",
      "\n",
      "loss: 0.151286  [  804/ 1144]\n",
      "\n",
      "Epoch 2 of 2\n",
      "-------------------------------\n",
      "\n",
      "loss: 0.091677  [    4/ 1144]\n",
      "\n",
      "loss: 0.059867  [  404/ 1144]\n",
      "\n",
      "loss: 0.183781  [  804/ 1144]\n",
      "\n",
      "Done!\n",
      "\n",
      "--- 417.00000190734863 seconds ---\n",
      "\n",
      "--- 6.950000031789144 minutes ---\n"
     ]
    }
   ],
   "source": [
    "import time\n",
    "\n",
    "start_time = time.time()\n",
    "\n",
    "epochs = 2\n",
    "for t in range(epochs):\n",
    "    print(f\"\\nEpoch {t + 1} of {epochs}\\n-------------------------------\")\n",
    "    train(train_dataloader, model, loss_fn, optimizer)\n",
    "\n",
    "print(\"\\nDone!\")\n",
    "elapsed = time.time() - start_time\n",
    "\n",
    "print(\"\\n--- %s minutes ---\" % (elapsed / 60))"
   ]
  },
  {
   "cell_type": "code",
   "execution_count": 20,
   "metadata": {
    "button": false,
    "collapsed": true,
    "execution": {
     "iopub.execute_input": "2023-04-27T18:17:42.467233Z",
     "iopub.status.busy": "2023-04-27T18:17:42.466603Z",
     "iopub.status.idle": "2023-04-27T18:17:42.484211Z",
     "shell.execute_reply": "2023-04-27T18:17:42.482382Z",
     "shell.execute_reply.started": "2023-04-27T18:17:42.467192Z"
    },
    "new_sheet": false,
    "run_control": {
     "read_only": false
    }
   },
   "outputs": [],
   "source": [
    "def plot_images(images, mask=False):\n",
    "    \"\"\"\n",
    "    Images: returned from visualize_result\n",
    "    \"\"\"\n",
    "    fig = plt.figure(figsize=(10, 8))\n",
    "    columns = len(images)\n",
    "    rows = 1\n",
    "    for i in range(columns * rows):\n",
    "        img = images[i]\n",
    "        fig.add_subplot(rows, columns, i + 1)\n",
    "        if mask:\n",
    "            img = img > 0.5\n",
    "        plt.imshow(img, cmap=\"gray\")\n",
    "    plt.show()"
   ]
  },
  {
   "cell_type": "code",
   "execution_count": 21,
   "metadata": {
    "button": false,
    "execution": {
     "iopub.execute_input": "2023-04-27T18:17:42.489682Z",
     "iopub.status.busy": "2023-04-27T18:17:42.486626Z",
     "iopub.status.idle": "2023-04-27T18:17:44.457681Z",
     "shell.execute_reply": "2023-04-27T18:17:44.456587Z",
     "shell.execute_reply.started": "2023-04-27T18:17:42.489641Z"
    },
    "new_sheet": false,
    "run_control": {
     "read_only": false
    }
   },
   "outputs": [
    {
     "data": {
      "image/png": "[encoded data removed]",
      "text/plain": [
       "<Figure size 1000x800 with 4 Axes>"
      ]
     },
     "metadata": {},
     "output_type": "display_data"
    },
    {
     "data": {
      "image/png": "[encoded data removed]",
      "text/plain": [
       "<Figure size 1000x800 with 4 Axes>"
      ]
     },
     "metadata": {},
     "output_type": "display_data"
    }
   ],
   "source": [
    "def visualize_result(dataloader):\n",
    "    \"\"\"\n",
    "    Show images and predictions\n",
    "    \"\"\"\n",
    "    tr_imgs = []\n",
    "    msk_imgs = []\n",
    "\n",
    "    for x, y in dataloader:\n",
    "        x = x.to(device)\n",
    "\n",
    "        pred = model(x)\n",
    "\n",
    "        for i in range(x.shape[0]):\n",
    "            tr_img = x[i].cpu().detach().numpy()\n",
    "            tr_img = np.einsum('kij->ijk', tr_img)\n",
    "            tr_imgs.append(tr_img)\n",
    "\n",
    "            msk_img = pred[i].cpu().detach().numpy()\n",
    "            msk_img = msk_img.reshape((img_size, img_size))\n",
    "            msk_imgs.append(msk_img)\n",
    "\n",
    "        break\n",
    "\n",
    "    plot_images(tr_imgs, mask=False)\n",
    "    plot_images(msk_imgs, mask=True)\n",
    "\n",
    "\n",
    "visualize_result(val_dataloader)"
   ]
  },
  {
   "cell_type": "code",
   "execution_count": 22,
   "metadata": {
    "button": false,
    "collapsed": true,
    "execution": {
     "iopub.execute_input": "2023-04-27T18:17:44.459827Z",
     "iopub.status.busy": "2023-04-27T18:17:44.458992Z",
     "iopub.status.idle": "2023-04-27T18:17:44.672121Z",
     "shell.execute_reply": "2023-04-27T18:17:44.669968Z",
     "shell.execute_reply.started": "2023-04-27T18:17:44.459785Z"
    },
    "new_sheet": false,
    "run_control": {
     "read_only": false
    }
   },
   "outputs": [],
   "source": [
    "torch.save(model.state_dict(), \"model.pth\")"
   ]
  },
  {
   "cell_type": "code",
   "execution_count": 23,
   "metadata": {
    "button": false,
    "collapsed": true,
    "execution": {
     "iopub.execute_input": "2023-04-27T18:17:44.674122Z",
     "iopub.status.busy": "2023-04-27T18:17:44.673780Z",
     "iopub.status.idle": "2023-04-27T18:17:44.696411Z",
     "shell.execute_reply": "2023-04-27T18:17:44.695260Z",
     "shell.execute_reply.started": "2023-04-27T18:17:44.674084Z"
    },
    "new_sheet": false,
    "run_control": {
     "read_only": false
    }
   },
   "outputs": [],
   "source": [
    "def rle(img):\n",
    "    \"\"\"\n",
    "    Run-length encoding (RLE)\n",
    "    Lossless compression method where sequences that display redundant data \n",
    "    are stored as a single data value representing the repeated block and how \n",
    "    many times it appears in the image.\n",
    "    \"\"\"\n",
    "    flat_img = img.flatten()\n",
    "    flat_img = np.where(flat_img > 0.5, 1, 0).astype(np.uint8)\n",
    "    flat_img = np.insert(flat_img, [0, len(flat_img)], [0, 0])\n",
    "\n",
    "    starts = np.array((flat_img[:-1] == 0) & (flat_img[1:] == 1))\n",
    "    ends = np.array((flat_img[:-1] == 1) & (flat_img[1:] == 0))\n",
    "    starts_ix = np.where(starts)[0] + 1\n",
    "    ends_ix = np.where(ends)[0] + 1\n",
    "    lengths = ends_ix - starts_ix\n",
    "\n",
    "    encoding = ''\n",
    "    for idx in range(len(starts_ix)):\n",
    "        encoding += '%d %d ' % (starts_ix[idx], lengths[idx])\n",
    "    return encoding.strip()"
   ]
  },
  {
   "cell_type": "code",
   "execution_count": 25,
   "metadata": {
    "button": false,
    "collapsed": true,
    "execution": {
     "iopub.execute_input": "2023-04-27T18:25:09.268202Z",
     "iopub.status.busy": "2023-04-27T18:25:09.267796Z",
     "iopub.status.idle": "2023-04-27T18:25:09.272963Z",
     "shell.execute_reply": "2023-04-27T18:25:09.271412Z",
     "shell.execute_reply.started": "2023-04-27T18:25:09.268169Z"
    },
    "new_sheet": false,
    "run_control": {
     "read_only": false
    }
   },
   "outputs": [],
   "source": [
    "# TODO: This requires test.zip\n",
    "# test_rle = np.zeros((test_images.shape[0]), dtype=object)\n",
    "\n",
    "# shape = test_images.shape[0]\n",
    "# print(f\"Test images shape: {shape}, la: {test_images.shape}\")\n",
    "# # Test images shape: 100064, la: (100064,)\n",
    "\n",
    "# start_time = time.time()\n",
    "\n",
    "# for i in range(shape):\n",
    "#     img = np.array(Image.open(\"/kaggle/working/test/\" + test_images[i]))\n",
    "#     test_rle[i] = rle(img)\n",
    "\n",
    "#     if i % 1000 == 0:\n",
    "#         print(i)  # 1000, 2000, etc.\n",
    "\n",
    "# print(\"\\n--- %s minutes ---\" % (time.time() - start_time) / 60)"
   ]
  },
  {
   "cell_type": "code",
   "execution_count": 26,
   "metadata": {
    "button": false,
    "execution": {
     "iopub.execute_input": "2023-04-27T18:25:13.169764Z",
     "iopub.status.busy": "2023-04-27T18:25:13.169386Z",
     "iopub.status.idle": "2023-04-27T18:25:13.184698Z",
     "shell.execute_reply": "2023-04-27T18:25:13.183386Z",
     "shell.execute_reply.started": "2023-04-27T18:25:13.169733Z"
    },
    "new_sheet": false,
    "run_control": {
     "read_only": false
    }
   },
   "outputs": [
    {
     "data": {
      "text/html": [
       "<div>\n",
       "<style scoped>\n",
       "    .dataframe tbody tr th:only-of-type {\n",
       "        vertical-align: middle;\n",
       "    }\n",
       "\n",
       "    .dataframe tbody tr th {\n",
       "        vertical-align: top;\n",
       "    }\n",
       "\n",
       "    .dataframe thead th {\n",
       "        text-align: right;\n",
       "    }\n",
       "</style>\n",
       "<table border=\"1\" class=\"dataframe\">\n",
       "  <thead>\n",
       "    <tr style=\"text-align: right;\">\n",
       "      <th></th>\n",
       "      <th>img</th>\n",
       "      <th>rle_mask</th>\n",
       "    </tr>\n",
       "  </thead>\n",
       "  <tbody>\n",
       "    <tr>\n",
       "      <th>0</th>\n",
       "      <td>0004d4463b50_01.jpg</td>\n",
       "      <td>1 2177145 2177149 97785 2274937 30021 2304959 ...</td>\n",
       "    </tr>\n",
       "    <tr>\n",
       "      <th>1</th>\n",
       "      <td>0004d4463b50_02.jpg</td>\n",
       "      <td>1 2148250 2148253 109260 2257514 1 2257516 427...</td>\n",
       "    </tr>\n",
       "    <tr>\n",
       "      <th>2</th>\n",
       "      <td>0004d4463b50_03.jpg</td>\n",
       "      <td>1 2172979 2172981 586898 2759881 20784 2780671...</td>\n",
       "    </tr>\n",
       "    <tr>\n",
       "      <th>3</th>\n",
       "      <td>0004d4463b50_04.jpg</td>\n",
       "      <td>1 2339995 2339997 296830 2636830 11484 2648316...</td>\n",
       "    </tr>\n",
       "    <tr>\n",
       "      <th>4</th>\n",
       "      <td>0004d4463b50_05.jpg</td>\n",
       "      <td>1 2246363 2246365 189620 2435986 74735 2510722...</td>\n",
       "    </tr>\n",
       "  </tbody>\n",
       "</table>\n",
       "</div>"
      ],
      "text/plain": [
       "                   img                                           rle_mask\n",
       "0  0004d4463b50_01.jpg  1 2177145 2177149 97785 2274937 30021 2304959 ...\n",
       "1  0004d4463b50_02.jpg  1 2148250 2148253 109260 2257514 1 2257516 427...\n",
       "2  0004d4463b50_03.jpg  1 2172979 2172981 586898 2759881 20784 2780671...\n",
       "3  0004d4463b50_04.jpg  1 2339995 2339997 296830 2636830 11484 2648316...\n",
       "4  0004d4463b50_05.jpg  1 2246363 2246365 189620 2435986 74735 2510722..."
      ]
     },
     "execution_count": 26,
     "metadata": {},
     "output_type": "execute_result"
    }
   ],
   "source": [
    "# df_ans = pd.DataFrame({\"img\": test_images, \"rle_mask\": test_rle})\n",
    "\n",
    "# df_ans.head()  # 100064 rows × 2 columns"
   ]
  },
  {
   "cell_type": "code",
   "execution_count": null,
   "metadata": {
    "button": false,
    "collapsed": true,
    "execution": {
     "iopub.status.busy": "2023-04-27T18:24:15.539143Z",
     "iopub.status.idle": "2023-04-27T18:24:15.539887Z",
     "shell.execute_reply": "2023-04-27T18:24:15.539652Z",
     "shell.execute_reply.started": "2023-04-27T18:24:15.539627Z"
    },
    "new_sheet": false,
    "run_control": {
     "read_only": false
    }
   },
   "outputs": [],
   "source": [
    "# Print to CSV file\n",
    "# df_ans.to_csv(\"ans1.csv\", index=False)"
   ]
  }
 ],
 "metadata": {
  "kernelspec": {
   "display_name": "Python 3 (ipykernel)",
   "language": "python",
   "name": "python3"
  },
  "language_info": {
   "codemirror_mode": {
    "name": "ipython",
    "version": 3
   },
   "file_extension": ".py",
   "mimetype": "text/x-python",
   "name": "python",
   "nbconvert_exporter": "python",
   "pygments_lexer": "ipython3",
   "version": "3.9.13"
  }
 },
 "nbformat": 4,
 "nbformat_minor": 4
}
