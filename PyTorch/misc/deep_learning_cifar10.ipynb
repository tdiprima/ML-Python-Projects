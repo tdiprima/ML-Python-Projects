{
 "cells": [
  {
   "cell_type": "markdown",
   "id": "de6776f5",
   "metadata": {},
   "source": [
    "## CIFAR-10 Tutorial\n",
    "\n",
    "### Training a Classifier\n",
    "\n",
    "https://pytorch.org/tutorials/beginner/blitz/cifar10_tutorial.html\n",
    "\n",
    "Classes: 'airplane', 'automobile', 'bird', 'cat', 'deer', 'dog', 'frog', 'horse', 'ship', 'truck'\n",
    "\n",
    "Size: 3 x 32 x 32\n",
    "\n",
    "Output of torchvision datasets are PILImage images of range [0, 1]\n",
    "\n",
    "We transform them to Tensors of normalized range [-1, 1]\n"
   ]
  },
  {
   "cell_type": "code",
   "execution_count": 1,
   "id": "c66f9319",
   "metadata": {},
   "outputs": [],
   "source": [
    "import torch\n",
    "import torchvision\n",
    "import torchvision.transforms as transforms"
   ]
  },
  {
   "cell_type": "markdown",
   "id": "721b1d1b",
   "metadata": {},
   "source": [
    "## Load and normalize CIFAR10"
   ]
  },
  {
   "cell_type": "code",
   "execution_count": 2,
   "id": "4b64c00c",
   "metadata": {},
   "outputs": [
    {
     "name": "stdout",
     "output_type": "stream",
     "text": [
      "Downloading https://www.cs.toronto.edu/~kriz/cifar-10-python.tar.gz to ./data/cifar-10-python.tar.gz\n"
     ]
    },
    {
     "data": {
      "application/vnd.jupyter.widget-view+json": {
       "model_id": "bb1c4b448be844a1aab0914cdd436421",
       "version_major": 2,
       "version_minor": 0
      },
      "text/plain": [
       "  0%|          | 0/170498071 [00:00<?, ?it/s]"
      ]
     },
     "metadata": {},
     "output_type": "display_data"
    },
    {
     "name": "stdout",
     "output_type": "stream",
     "text": [
      "Extracting ./data/cifar-10-python.tar.gz to ./data\n",
      "Files already downloaded and verified\n"
     ]
    }
   ],
   "source": [
    "transform = transforms.Compose(\n",
    "    [transforms.ToTensor(),\n",
    "     transforms.Normalize((0.5, 0.5, 0.5), (0.5, 0.5, 0.5))])\n",
    "\n",
    "batch_size = 4\n",
    "\n",
    "trainset = torchvision.datasets.CIFAR10(root='./data', train=True,\n",
    "                                        download=True, transform=transform)\n",
    "trainloader = torch.utils.data.DataLoader(trainset, batch_size=batch_size,\n",
    "                                          shuffle=True, num_workers=2)\n",
    "\n",
    "testset = torchvision.datasets.CIFAR10(root='./data', train=False,\n",
    "                                       download=True, transform=transform)\n",
    "testloader = torch.utils.data.DataLoader(testset, batch_size=batch_size,\n",
    "                                         shuffle=False, num_workers=2)\n",
    "\n",
    "classes = ('plane', 'car', 'bird', 'cat',\n",
    "           'deer', 'dog', 'frog', 'horse', 'ship', 'truck')\n"
   ]
  },
  {
   "cell_type": "markdown",
   "id": "49261f53",
   "metadata": {},
   "source": [
    "## Show some of the training images, for fun."
   ]
  },
  {
   "cell_type": "code",
   "execution_count": 3,
   "id": "2417ea4a",
   "metadata": {},
   "outputs": [
    {
     "data": {
      "image/png": "[encoded data removed]",
      "text/plain": [
       "<Figure size 640x480 with 1 Axes>"
      ]
     },
     "metadata": {},
     "output_type": "display_data"
    },
    {
     "name": "stdout",
     "output_type": "stream",
     "text": [
      "bird  horse frog  horse\n"
     ]
    }
   ],
   "source": [
    "import matplotlib.pyplot as plt\n",
    "import numpy as np\n",
    "\n",
    "\n",
    "def imshow(img):\n",
    "    \"\"\"\n",
    "    show an image\n",
    "    \"\"\"\n",
    "    img = img / 2 + 0.5  # un-normalize\n",
    "    npimg = img.numpy()\n",
    "    plt.imshow(np.transpose(npimg, (1, 2, 0)))\n",
    "    plt.show()\n",
    "\n",
    "\n",
    "# Get some random training images\n",
    "dataiter = iter(trainloader)\n",
    "images, labels = next(dataiter)\n",
    "\n",
    "# plt.figure(figsize=[3, 3])  # OK smaller doesn't equal clearer.\n",
    "\n",
    "# show images\n",
    "imshow(torchvision.utils.make_grid(images))\n",
    "\n",
    "# print labels\n",
    "print(' '.join(f'{classes[labels[j]]:5s}' for j in range(batch_size)))\n"
   ]
  },
  {
   "cell_type": "markdown",
   "id": "04343253",
   "metadata": {},
   "source": [
    "## Define a Convolutional Neural Network"
   ]
  },
  {
   "cell_type": "code",
   "execution_count": 4,
   "id": "28905e2d",
   "metadata": {},
   "outputs": [],
   "source": [
    "import torch.nn as nn\n",
    "import torch.nn.functional as F\n",
    "\n",
    "\n",
    "class Net(nn.Module):\n",
    "    def __init__(self):\n",
    "        super().__init__()\n",
    "        self.conv1 = nn.Conv2d(3, 6, 5)\n",
    "        self.pool = nn.MaxPool2d(2, 2)\n",
    "        self.conv2 = nn.Conv2d(6, 16, 5)\n",
    "        self.fc1 = nn.Linear(16 * 5 * 5, 120)\n",
    "        self.fc2 = nn.Linear(120, 84)\n",
    "        self.fc3 = nn.Linear(84, 10)\n",
    "\n",
    "    def forward(self, x):\n",
    "        x = self.pool(F.relu(self.conv1(x)))\n",
    "        x = self.pool(F.relu(self.conv2(x)))\n",
    "        x = torch.flatten(x, 1)  # flatten all dimensions except batch\n",
    "        x = F.relu(self.fc1(x))\n",
    "        x = F.relu(self.fc2(x))\n",
    "        x = self.fc3(x)\n",
    "        return x\n",
    "\n",
    "\n",
    "net = Net()\n"
   ]
  },
  {
   "cell_type": "markdown",
   "id": "6410ef41",
   "metadata": {},
   "source": [
    "## Define a Loss function and optimizer"
   ]
  },
  {
   "cell_type": "code",
   "execution_count": 6,
   "id": "6ad51f86",
   "metadata": {},
   "outputs": [],
   "source": [
    "import torch.optim as optim\n",
    "\n",
    "criterion = nn.CrossEntropyLoss()\n",
    "\n",
    "optimizer = optim.SGD(net.parameters(), lr=0.001, momentum=0.9)\n"
   ]
  },
  {
   "cell_type": "markdown",
   "id": "c0700a1e",
   "metadata": {},
   "source": [
    "## Train the network\n",
    "\n",
    "Loop over our data iterator, and feed the inputs to the network and optimize."
   ]
  },
  {
   "cell_type": "code",
   "execution_count": 7,
   "id": "9660b404",
   "metadata": {},
   "outputs": [
    {
     "name": "stdout",
     "output_type": "stream",
     "text": [
      "[1,  2000] loss: 2.179\n",
      "[1,  4000] loss: 1.864\n",
      "[1,  6000] loss: 1.683\n",
      "[1,  8000] loss: 1.568\n",
      "[1, 10000] loss: 1.527\n",
      "[1, 12000] loss: 1.485\n",
      "[2,  2000] loss: 1.402\n",
      "[2,  4000] loss: 1.392\n",
      "[2,  6000] loss: 1.373\n",
      "[2,  8000] loss: 1.332\n",
      "[2, 10000] loss: 1.322\n",
      "[2, 12000] loss: 1.306\n",
      "\n",
      "Finished Training\n"
     ]
    }
   ],
   "source": [
    "# loop over the dataset multiple times\n",
    "for epoch in range(2):\n",
    "\n",
    "    running_loss = 0.0\n",
    "    for i, data in enumerate(trainloader, 0):\n",
    "        # get the inputs; data is a list of [inputs, labels]\n",
    "        inputs, labels = data\n",
    "\n",
    "        # zero the parameter gradients\n",
    "        optimizer.zero_grad()\n",
    "\n",
    "        # forward + backward + optimize\n",
    "        outputs = net(inputs)\n",
    "        loss = criterion(outputs, labels)\n",
    "        loss.backward()\n",
    "        optimizer.step()\n",
    "\n",
    "        # print statistics\n",
    "        running_loss += loss.item()\n",
    "        if i % 2000 == 1999:  # print every 2000 mini-batches\n",
    "            print(f'[{epoch + 1}, {i + 1:5d}] loss: {running_loss / 2000:.3f}')\n",
    "            running_loss = 0.0\n",
    "\n",
    "print('\\nFinished Training')\n"
   ]
  },
  {
   "cell_type": "markdown",
   "id": "4da604b7",
   "metadata": {},
   "source": [
    "## Save it"
   ]
  },
  {
   "cell_type": "code",
   "execution_count": 8,
   "id": "4d19c3bc",
   "metadata": {},
   "outputs": [],
   "source": [
    "PATH = './cifar_net.pth'\n",
    "torch.save(net.state_dict(), PATH)"
   ]
  },
  {
   "cell_type": "markdown",
   "id": "a16cecdf",
   "metadata": {},
   "source": [
    "## Test the network on the test data"
   ]
  },
  {
   "cell_type": "code",
   "execution_count": 10,
   "id": "cdd4a621",
   "metadata": {},
   "outputs": [
    {
     "data": {
      "image/png": "[encoded data removed]",
      "text/plain": [
       "<Figure size 640x480 with 1 Axes>"
      ]
     },
     "metadata": {},
     "output_type": "display_data"
    },
    {
     "name": "stdout",
     "output_type": "stream",
     "text": [
      "\n",
      "GroundTruth:  cat   ship  ship  plane\n"
     ]
    }
   ],
   "source": [
    "dataiter = iter(testloader)\n",
    "images, labels = next(dataiter)\n",
    "\n",
    "imshow(torchvision.utils.make_grid(images))  # make grid\n",
    "\n",
    "print('\\nGroundTruth: ', ' '.join(f'{classes[labels[j]]:5s}' for j in range(4)))\n"
   ]
  },
  {
   "cell_type": "markdown",
   "id": "79f390b6",
   "metadata": {},
   "source": [
    "## Load back in our saved model"
   ]
  },
  {
   "cell_type": "code",
   "execution_count": 11,
   "id": "7f6af11a",
   "metadata": {},
   "outputs": [
    {
     "data": {
      "text/plain": [
       "<All keys matched successfully>"
      ]
     },
     "execution_count": 11,
     "metadata": {},
     "output_type": "execute_result"
    }
   ],
   "source": [
    "net = Net()\n",
    "net.load_state_dict(torch.load(PATH))"
   ]
  },
  {
   "cell_type": "markdown",
   "id": "df4b7dc3",
   "metadata": {},
   "source": [
    "### Let's see what the neural network thinks these examples above are:"
   ]
  },
  {
   "cell_type": "code",
   "execution_count": 13,
   "id": "a2e604b0",
   "metadata": {},
   "outputs": [
    {
     "name": "stdout",
     "output_type": "stream",
     "text": [
      "\n",
      "Predicted:  cat   frog  car   frog \n"
     ]
    }
   ],
   "source": [
    "_, predicted = torch.max(outputs, 1)\n",
    "\n",
    "print('\\nPredicted: ', ' '.join(f'{classes[predicted[j]]:5s}'\n",
    "                                for j in range(4)))\n"
   ]
  },
  {
   "cell_type": "markdown",
   "id": "dd0c889b",
   "metadata": {},
   "source": [
    "### Let's see how the network performs on the whole dataset."
   ]
  },
  {
   "cell_type": "code",
   "execution_count": 14,
   "id": "be5f7c0e",
   "metadata": {},
   "outputs": [
    {
     "name": "stdout",
     "output_type": "stream",
     "text": [
      "\n",
      "Accuracy of the network on the 10000 test images: 53 %\n"
     ]
    }
   ],
   "source": [
    "correct = 0\n",
    "total = 0\n",
    "\n",
    "# Since we're not training, we don't need to calculate the gradients for our outputs\n",
    "with torch.no_grad():\n",
    "    for data in testloader:\n",
    "        images, labels = data\n",
    "\n",
    "        # calculate outputs by running images through the network\n",
    "        outputs = net(images)\n",
    "\n",
    "        # the class with the highest energy is what we choose as prediction\n",
    "        _, predicted = torch.max(outputs.data, 1)\n",
    "        total += labels.size(0)\n",
    "        correct += (predicted == labels).sum().item()\n",
    "\n",
    "print(f'\\nAccuracy of the network on the 10000 test images: {100 * correct // total} %')\n"
   ]
  },
  {
   "cell_type": "markdown",
   "id": "d90c5417",
   "metadata": {},
   "source": [
    "That looks way better than **chance, which is 10% accuracy** (randomly picking a class out of 10 classes). Seems like the network learnt something.\n",
    "\n",
    "### What classes performed well?"
   ]
  },
  {
   "cell_type": "code",
   "execution_count": 15,
   "id": "7834549e",
   "metadata": {},
   "outputs": [
    {
     "name": "stdout",
     "output_type": "stream",
     "text": [
      "\n",
      "Accuracy for class: plane is 59.9 %\n",
      "\n",
      "Accuracy for class: car   is 54.8 %\n",
      "\n",
      "Accuracy for class: bird  is 54.1 %\n",
      "\n",
      "Accuracy for class: cat   is 37.2 %\n",
      "\n",
      "Accuracy for class: deer  is 26.7 %\n",
      "\n",
      "Accuracy for class: dog   is 31.7 %\n",
      "\n",
      "Accuracy for class: frog  is 66.9 %\n",
      "\n",
      "Accuracy for class: horse is 67.5 %\n",
      "\n",
      "Accuracy for class: ship  is 74.5 %\n",
      "\n",
      "Accuracy for class: truck is 64.0 %\n"
     ]
    }
   ],
   "source": [
    "# prepare to count predictions for each class\n",
    "correct_pred = {classname: 0 for classname in classes}\n",
    "total_pred = {classname: 0 for classname in classes}\n",
    "\n",
    "# again no gradients needed\n",
    "with torch.no_grad():\n",
    "    for data in testloader:\n",
    "        images, labels = data\n",
    "        outputs = net(images)\n",
    "        _, predictions = torch.max(outputs, 1)\n",
    "\n",
    "        # collect the correct predictions for each class\n",
    "        for label, prediction in zip(labels, predictions):\n",
    "            if label == prediction:\n",
    "                correct_pred[classes[label]] += 1\n",
    "            total_pred[classes[label]] += 1\n",
    "\n",
    "# print accuracy for each class\n",
    "for classname, correct_count in correct_pred.items():\n",
    "    accuracy = 100 * float(correct_count) / total_pred[classname]\n",
    "    print(f'\\nAccuracy for class: {classname:5s} is {accuracy:.1f} %')\n"
   ]
  },
  {
   "cell_type": "code",
   "execution_count": null,
   "id": "e685f843",
   "metadata": {},
   "outputs": [],
   "source": []
  }
 ],
 "metadata": {
  "kernelspec": {
   "display_name": "Python 3 (ipykernel)",
   "language": "python",
   "name": "python3"
  },
  "language_info": {
   "codemirror_mode": {
    "name": "ipython",
    "version": 3
   },
   "file_extension": ".py",
   "mimetype": "text/x-python",
   "name": "python",
   "nbconvert_exporter": "python",
   "pygments_lexer": "ipython3",
   "version": "3.9.13"
  }
 },
 "nbformat": 4,
 "nbformat_minor": 5
}
