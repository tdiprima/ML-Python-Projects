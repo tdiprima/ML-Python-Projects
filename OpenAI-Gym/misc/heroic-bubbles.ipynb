{
 "cells": [
  {
   "cell_type": "markdown",
   "id": "097b474a",
   "metadata": {},
   "source": [
    "# Reinforcement Q-Learning from Scratch in Python with OpenAI Gym\n",
    "\n",
    "https://www.learndatasci.com/tutorials/reinforcement-q-learning-scratch-python-openai-gym/"
   ]
  },
  {
   "cell_type": "code",
   "execution_count": null,
   "id": "6acea648",
   "metadata": {},
   "outputs": [],
   "source": [
    "#!pip install cmake 'gym[atari]' scipy"
   ]
  },
  {
   "cell_type": "code",
   "execution_count": 1,
   "id": "7544a9eb",
   "metadata": {},
   "outputs": [],
   "source": [
    "from time import sleep\n",
    "\n",
    "import gym\n",
    "from IPython.display import clear_output"
   ]
  },
  {
   "cell_type": "code",
   "execution_count": 3,
   "id": "98c0ec16",
   "metadata": {},
   "outputs": [],
   "source": [
    "env = gym.make(\"Taxi-v3\", render_mode=\"human\")\n",
    "env.reset()  # reset environment to a new, random state\n",
    "env.render()\n"
   ]
  },
  {
   "cell_type": "code",
   "execution_count": 5,
   "id": "dd0be473",
   "metadata": {},
   "outputs": [
    {
     "data": {
      "text/plain": [
       "(500, 6)"
      ]
     },
     "execution_count": 5,
     "metadata": {},
     "output_type": "execute_result"
    }
   ],
   "source": [
    "import numpy as np\n",
    "\n",
    "q_table = np.zeros([env.observation_space.n, env.action_space.n])\n",
    "q_table.shape"
   ]
  },
  {
   "cell_type": "markdown",
   "id": "e761c4f1",
   "metadata": {},
   "source": [
    "* observation: Observations of the environment\n",
    "* reward: If your action was beneficial or not\n",
    "* done: Indicates if we have successfully picked up and dropped off a passenger, also called one episode\n",
    "* info: Additional info such as performance and latency for debugging purposes"
   ]
  },
  {
   "cell_type": "code",
   "execution_count": 7,
   "id": "bf17a8e1",
   "metadata": {},
   "outputs": [
    {
     "name": "stdout",
     "output_type": "stream",
     "text": [
      "\n",
      "Action Space Discrete(6)\n",
      "\n",
      "State Space Discrete(500)\n",
      "\n",
      "State: 328\n"
     ]
    }
   ],
   "source": [
    "print(\"\\nAction Space {}\".format(env.action_space))\n",
    "print(\"\\nState Space {}\".format(env.observation_space))\n",
    "\n",
    "state = env.encode(3, 1, 2, 0)  # (taxi row, taxi column, passenger index, destination index)\n",
    "print(\"\\nState:\", state)\n",
    "\n",
    "env.s = state\n",
    "env.render()"
   ]
  },
  {
   "cell_type": "code",
   "execution_count": 8,
   "id": "04a373c1",
   "metadata": {},
   "outputs": [
    {
     "name": "stdout",
     "output_type": "stream",
     "text": [
      "{0: [(1.0, 428, -1, False)],\n",
      " 1: [(1.0, 228, -1, False)],\n",
      " 2: [(1.0, 348, -1, False)],\n",
      " 3: [(1.0, 328, -1, False)],\n",
      " 4: [(1.0, 328, -10, False)],\n",
      " 5: [(1.0, 328, -10, False)]}\n"
     ]
    }
   ],
   "source": [
    "import pprint as pp\n",
    "\n",
    "pp.pprint(env.P[328])  # current state in reward table"
   ]
  },
  {
   "cell_type": "code",
   "execution_count": 9,
   "id": "9dffc3ed",
   "metadata": {},
   "outputs": [
    {
     "name": "stdout",
     "output_type": "stream",
     "text": [
      "Timestep: 50\n",
      "\n",
      "Timesteps taken (epochs): 50\n",
      "\n",
      "Penalties incurred: 12\n"
     ]
    }
   ],
   "source": [
    "env.s = 328  # set environment to illustration's state\n",
    "\n",
    "epochs = 0\n",
    "penalties, reward = 0, 0\n",
    "\n",
    "frames = []  # for animation\n",
    "\n",
    "done = False\n",
    "\n",
    "# while not done:\n",
    "# NEVER MIND \"WHILE NOT DONE\".\n",
    "for i in range(100):\n",
    "    action = env.action_space.sample()\n",
    "    state, reward, done, truncated, info = env.step(action)\n",
    "\n",
    "    if reward == -10:\n",
    "        penalties += 1\n",
    "\n",
    "    # Put each rendered frame into dict for animation\n",
    "    frames.append({\n",
    "        # 'frame': env.render(mode='ansi'),\n",
    "        'frame': env.render(),\n",
    "        'state': state,\n",
    "        'action': action,\n",
    "        'reward': reward\n",
    "    })\n",
    "\n",
    "    epochs += 1\n",
    "    clear_output(wait=True)\n",
    "    print(f\"Timestep: {i + 1}\")\n",
    "    # state, reward, done, info\n",
    "\n",
    "    if done or truncated:\n",
    "        observation, info = env.reset()\n",
    "\n",
    "print(\"\\nTimesteps taken (epochs): {}\".format(epochs))\n",
    "print(\"\\nPenalties incurred: {}\".format(penalties))"
   ]
  },
  {
   "cell_type": "code",
   "execution_count": 10,
   "id": "01ae8b13",
   "metadata": {},
   "outputs": [
    {
     "name": "stdout",
     "output_type": "stream",
     "text": [
      "Timestep: 50\n",
      "State: 321\n",
      "Action: 5\n",
      "Reward: -10\n"
     ]
    }
   ],
   "source": [
    "def print_frames(cadres):\n",
    "    for item, frame in enumerate(cadres):\n",
    "        clear_output(wait=True)\n",
    "        # print(frame['frame'].getvalue())\n",
    "        print(f\"Timestep: {item + 1}\")\n",
    "        print(f\"State: {frame['state']}\")\n",
    "        print(f\"Action: {frame['action']}\")\n",
    "        print(f\"Reward: {frame['reward']}\")\n",
    "        sleep(.1)\n",
    "\n",
    "# That's the key to printing that nice little ascii table [env.render(mode='ansi')]\n",
    "print_frames(frames)"
   ]
  },
  {
   "cell_type": "code",
   "execution_count": null,
   "id": "b202d44f",
   "metadata": {},
   "outputs": [],
   "source": []
  }
 ],
 "metadata": {
  "kernelspec": {
   "display_name": "Python 3 (ipykernel)",
   "language": "python",
   "name": "python3"
  },
  "language_info": {
   "codemirror_mode": {
    "name": "ipython",
    "version": 3
   },
   "file_extension": ".py",
   "mimetype": "text/x-python",
   "name": "python",
   "nbconvert_exporter": "python",
   "pygments_lexer": "ipython3",
   "version": "3.9.13"
  }
 },
 "nbformat": 4,
 "nbformat_minor": 5
}
