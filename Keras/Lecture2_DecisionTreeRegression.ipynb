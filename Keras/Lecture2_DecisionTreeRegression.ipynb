{
 "cells": [
  {
   "cell_type": "code",
   "execution_count": 27,
   "metadata": {},
   "outputs": [],
   "source": [
    "import pandas as pd\n",
    "from sklearn import datasets  # imports datasets from scikit-learn\n",
    "from sklearn.model_selection import train_test_split\n",
    "from sklearn.tree import DecisionTreeRegressor  # decision tree regression\n",
    "from sklearn import metrics\n",
    "import numpy as np"
   ]
  },
  {
   "cell_type": "code",
   "execution_count": 3,
   "metadata": {},
   "outputs": [],
   "source": [
    "# import json\n",
    "# from sklearn import datasets  # imports datasets from scikit-learn\n",
    "# from sklearn.model_selection import train_test_split\n",
    "# from sklearn import model_selection\n",
    "# from sklearn.tree import DecisionTreeRegressor  # decision tree regression\n",
    "# from sklearn.metrics import accuracy_score"
   ]
  },
  {
   "cell_type": "code",
   "execution_count": 5,
   "metadata": {},
   "outputs": [],
   "source": [
    "# data = datasets.load_boston()  # loads Boston dataset from datasets library\n",
    "# parsed = json.loads(data)\n",
    "# print(json.dumps(parsed, indent=4, sort_keys=True))\n",
    "\n",
    "\n",
    "# def pp_json(json_thing, sort=True, indents=4):\n",
    "#     if type(json_thing) is str:\n",
    "#         print(json.dumps(json.loads(json_thing), sort_keys=sort, indent=indents))\n",
    "#     else:\n",
    "#         print(json.dumps(json_thing, sort_keys=sort, indent=indents))\n",
    "#     return None\n",
    "\n",
    "\n",
    "# pp_json(data)\n",
    "\n",
    "# data"
   ]
  },
  {
   "cell_type": "code",
   "execution_count": 7,
   "metadata": {},
   "outputs": [
    {
     "data": {
      "text/html": [
       "<div>\n",
       "<style scoped>\n",
       "    .dataframe tbody tr th:only-of-type {\n",
       "        vertical-align: middle;\n",
       "    }\n",
       "\n",
       "    .dataframe tbody tr th {\n",
       "        vertical-align: top;\n",
       "    }\n",
       "\n",
       "    .dataframe thead th {\n",
       "        text-align: right;\n",
       "    }\n",
       "</style>\n",
       "<table border=\"1\" class=\"dataframe\">\n",
       "  <thead>\n",
       "    <tr style=\"text-align: right;\">\n",
       "      <th></th>\n",
       "      <th>CRIM</th>\n",
       "      <th>ZN</th>\n",
       "      <th>INDUS</th>\n",
       "      <th>CHAS</th>\n",
       "      <th>NOX</th>\n",
       "      <th>RM</th>\n",
       "      <th>AGE</th>\n",
       "      <th>DIS</th>\n",
       "      <th>RAD</th>\n",
       "      <th>TAX</th>\n",
       "      <th>PTRATIO</th>\n",
       "      <th>B</th>\n",
       "      <th>LSTAT</th>\n",
       "    </tr>\n",
       "  </thead>\n",
       "  <tbody>\n",
       "    <tr>\n",
       "      <th>0</th>\n",
       "      <td>0.00632</td>\n",
       "      <td>18.0</td>\n",
       "      <td>2.31</td>\n",
       "      <td>0.0</td>\n",
       "      <td>0.538</td>\n",
       "      <td>6.575</td>\n",
       "      <td>65.2</td>\n",
       "      <td>4.0900</td>\n",
       "      <td>1.0</td>\n",
       "      <td>296.0</td>\n",
       "      <td>15.3</td>\n",
       "      <td>396.90</td>\n",
       "      <td>4.98</td>\n",
       "    </tr>\n",
       "    <tr>\n",
       "      <th>1</th>\n",
       "      <td>0.02731</td>\n",
       "      <td>0.0</td>\n",
       "      <td>7.07</td>\n",
       "      <td>0.0</td>\n",
       "      <td>0.469</td>\n",
       "      <td>6.421</td>\n",
       "      <td>78.9</td>\n",
       "      <td>4.9671</td>\n",
       "      <td>2.0</td>\n",
       "      <td>242.0</td>\n",
       "      <td>17.8</td>\n",
       "      <td>396.90</td>\n",
       "      <td>9.14</td>\n",
       "    </tr>\n",
       "    <tr>\n",
       "      <th>2</th>\n",
       "      <td>0.02729</td>\n",
       "      <td>0.0</td>\n",
       "      <td>7.07</td>\n",
       "      <td>0.0</td>\n",
       "      <td>0.469</td>\n",
       "      <td>7.185</td>\n",
       "      <td>61.1</td>\n",
       "      <td>4.9671</td>\n",
       "      <td>2.0</td>\n",
       "      <td>242.0</td>\n",
       "      <td>17.8</td>\n",
       "      <td>392.83</td>\n",
       "      <td>4.03</td>\n",
       "    </tr>\n",
       "    <tr>\n",
       "      <th>3</th>\n",
       "      <td>0.03237</td>\n",
       "      <td>0.0</td>\n",
       "      <td>2.18</td>\n",
       "      <td>0.0</td>\n",
       "      <td>0.458</td>\n",
       "      <td>6.998</td>\n",
       "      <td>45.8</td>\n",
       "      <td>6.0622</td>\n",
       "      <td>3.0</td>\n",
       "      <td>222.0</td>\n",
       "      <td>18.7</td>\n",
       "      <td>394.63</td>\n",
       "      <td>2.94</td>\n",
       "    </tr>\n",
       "    <tr>\n",
       "      <th>4</th>\n",
       "      <td>0.06905</td>\n",
       "      <td>0.0</td>\n",
       "      <td>2.18</td>\n",
       "      <td>0.0</td>\n",
       "      <td>0.458</td>\n",
       "      <td>7.147</td>\n",
       "      <td>54.2</td>\n",
       "      <td>6.0622</td>\n",
       "      <td>3.0</td>\n",
       "      <td>222.0</td>\n",
       "      <td>18.7</td>\n",
       "      <td>396.90</td>\n",
       "      <td>5.33</td>\n",
       "    </tr>\n",
       "  </tbody>\n",
       "</table>\n",
       "</div>"
      ],
      "text/plain": [
       "      CRIM    ZN  INDUS  CHAS    NOX     RM   AGE     DIS  RAD    TAX  \\\n",
       "0  0.00632  18.0   2.31   0.0  0.538  6.575  65.2  4.0900  1.0  296.0   \n",
       "1  0.02731   0.0   7.07   0.0  0.469  6.421  78.9  4.9671  2.0  242.0   \n",
       "2  0.02729   0.0   7.07   0.0  0.469  7.185  61.1  4.9671  2.0  242.0   \n",
       "3  0.03237   0.0   2.18   0.0  0.458  6.998  45.8  6.0622  3.0  222.0   \n",
       "4  0.06905   0.0   2.18   0.0  0.458  7.147  54.2  6.0622  3.0  222.0   \n",
       "\n",
       "   PTRATIO       B  LSTAT  \n",
       "0     15.3  396.90   4.98  \n",
       "1     17.8  396.90   9.14  \n",
       "2     17.8  392.83   4.03  \n",
       "3     18.7  394.63   2.94  \n",
       "4     18.7  396.90   5.33  "
      ]
     },
     "execution_count": 7,
     "metadata": {},
     "output_type": "execute_result"
    }
   ],
   "source": [
    "# define the data/predictors as the pre-set feature names\n",
    "X = pd.DataFrame(data.data, columns=data.feature_names)\n",
    "X.head()"
   ]
  },
  {
   "cell_type": "code",
   "execution_count": 8,
   "metadata": {},
   "outputs": [
    {
     "data": {
      "text/html": [
       "<div>\n",
       "<style scoped>\n",
       "    .dataframe tbody tr th:only-of-type {\n",
       "        vertical-align: middle;\n",
       "    }\n",
       "\n",
       "    .dataframe tbody tr th {\n",
       "        vertical-align: top;\n",
       "    }\n",
       "\n",
       "    .dataframe thead th {\n",
       "        text-align: right;\n",
       "    }\n",
       "</style>\n",
       "<table border=\"1\" class=\"dataframe\">\n",
       "  <thead>\n",
       "    <tr style=\"text-align: right;\">\n",
       "      <th></th>\n",
       "      <th>MEDV</th>\n",
       "    </tr>\n",
       "  </thead>\n",
       "  <tbody>\n",
       "    <tr>\n",
       "      <th>0</th>\n",
       "      <td>24.0</td>\n",
       "    </tr>\n",
       "    <tr>\n",
       "      <th>1</th>\n",
       "      <td>21.6</td>\n",
       "    </tr>\n",
       "    <tr>\n",
       "      <th>2</th>\n",
       "      <td>34.7</td>\n",
       "    </tr>\n",
       "    <tr>\n",
       "      <th>3</th>\n",
       "      <td>33.4</td>\n",
       "    </tr>\n",
       "    <tr>\n",
       "      <th>4</th>\n",
       "      <td>36.2</td>\n",
       "    </tr>\n",
       "  </tbody>\n",
       "</table>\n",
       "</div>"
      ],
      "text/plain": [
       "   MEDV\n",
       "0  24.0\n",
       "1  21.6\n",
       "2  34.7\n",
       "3  33.4\n",
       "4  36.2"
      ]
     },
     "execution_count": 8,
     "metadata": {},
     "output_type": "execute_result"
    }
   ],
   "source": [
    "# Put the target (housing value -- MEDV) in another DataFrame\n",
    "Y = pd.DataFrame(data.target, columns=[\"MEDV\"])\n",
    "# data.target\n",
    "Y.head()"
   ]
  },
  {
   "cell_type": "code",
   "execution_count": 9,
   "metadata": {},
   "outputs": [
    {
     "name": "stdout",
     "output_type": "stream",
     "text": [
      "\n",
      "X_train\n",
      "\n",
      "        CRIM    ZN  INDUS  CHAS    NOX     RM    AGE     DIS   RAD    TAX  \\\n",
      "112  0.12329   0.0  10.01   0.0  0.547  5.913   92.9  2.3534   6.0  432.0   \n",
      "100  0.14866   0.0   8.56   0.0  0.520  6.727   79.9  2.7778   5.0  384.0   \n",
      "161  1.46336   0.0  19.58   0.0  0.605  7.489   90.8  1.9709   5.0  403.0   \n",
      "490  0.20746   0.0  27.74   0.0  0.609  5.093   98.0  1.8226   4.0  711.0   \n",
      "199  0.03150  95.0   1.47   0.0  0.403  6.975   15.3  7.6534   3.0  402.0   \n",
      "..       ...   ...    ...   ...    ...    ...    ...     ...   ...    ...   \n",
      "317  0.24522   0.0   9.90   0.0  0.544  5.782   71.7  4.0317   4.0  304.0   \n",
      "143  4.09740   0.0  19.58   0.0  0.871  5.468  100.0  1.4118   5.0  403.0   \n",
      "474  8.05579   0.0  18.10   0.0  0.584  5.427   95.4  2.4298  24.0  666.0   \n",
      "318  0.40202   0.0   9.90   0.0  0.544  6.382   67.2  3.5325   4.0  304.0   \n",
      "132  0.59005   0.0  21.89   0.0  0.624  6.372   97.9  2.3274   4.0  437.0   \n",
      "\n",
      "     PTRATIO       B  LSTAT  \n",
      "112     17.8  394.95  16.21  \n",
      "100     20.9  394.76   9.42  \n",
      "161     14.7  374.43   1.73  \n",
      "490     20.1  318.43  29.68  \n",
      "199     17.0  396.90   4.56  \n",
      "..       ...     ...    ...  \n",
      "317     18.4  396.90  15.94  \n",
      "143     14.7  396.90  26.42  \n",
      "474     20.2  352.58  18.14  \n",
      "318     18.4  395.21  10.36  \n",
      "132     21.2  385.76  11.12  \n",
      "\n",
      "[379 rows x 13 columns]\n",
      "\n",
      "X_test\n",
      "\n",
      "         CRIM    ZN  INDUS  CHAS    NOX     RM    AGE     DIS   RAD    TAX  \\\n",
      "125   0.16902   0.0  25.65   0.0  0.581  5.986   88.4  1.9929   2.0  188.0   \n",
      "486   5.69175   0.0  18.10   0.0  0.583  6.114   79.8  3.5459  24.0  666.0   \n",
      "324   0.34109   0.0   7.38   0.0  0.493  6.415   40.1  4.7211   5.0  287.0   \n",
      "386  24.39380   0.0  18.10   0.0  0.700  4.652  100.0  1.4672  24.0  666.0   \n",
      "459   6.80117   0.0  18.10   0.0  0.713  6.081   84.4  2.7175  24.0  666.0   \n",
      "..        ...   ...    ...   ...    ...    ...    ...     ...   ...    ...   \n",
      "285   0.01096  55.0   2.25   0.0  0.389  6.453   31.9  7.3073   1.0  300.0   \n",
      "133   0.32982   0.0  21.89   0.0  0.624  5.822   95.4  2.4699   4.0  437.0   \n",
      "308   0.49298   0.0   9.90   0.0  0.544  6.635   82.5  3.3175   4.0  304.0   \n",
      "296   0.05372   0.0  13.92   0.0  0.437  6.549   51.0  5.9604   4.0  289.0   \n",
      "153   2.14918   0.0  19.58   0.0  0.871  5.709   98.5  1.6232   5.0  403.0   \n",
      "\n",
      "     PTRATIO       B  LSTAT  \n",
      "125     19.1  385.02  14.81  \n",
      "486     20.2  392.68  14.98  \n",
      "324     19.6  396.90   6.12  \n",
      "386     20.2  396.90  28.28  \n",
      "459     20.2  396.90  14.70  \n",
      "..       ...     ...    ...  \n",
      "285     15.3  394.72   8.23  \n",
      "133     21.2  388.69  15.03  \n",
      "308     18.4  396.90   4.54  \n",
      "296     16.0  392.85   7.39  \n",
      "153     14.7  261.95  15.79  \n",
      "\n",
      "[127 rows x 13 columns]\n",
      "\n",
      "y_train\n",
      "\n",
      "     MEDV\n",
      "112  18.8\n",
      "100  27.5\n",
      "161  50.0\n",
      "490   8.1\n",
      "199  34.9\n",
      "..    ...\n",
      "317  19.8\n",
      "143  15.6\n",
      "474  13.8\n",
      "318  23.1\n",
      "132  23.0\n",
      "\n",
      "[379 rows x 1 columns]\n",
      "\n",
      "y_test\n",
      "\n",
      "     MEDV\n",
      "125  21.4\n",
      "486  19.1\n",
      "324  25.0\n",
      "386  10.5\n",
      "459  20.0\n",
      "..    ...\n",
      "285  22.0\n",
      "133  18.4\n",
      "308  22.8\n",
      "296  27.1\n",
      "153  19.4\n",
      "\n",
      "[127 rows x 1 columns]\n"
     ]
    }
   ],
   "source": [
    "# SPLIT THE DATA\n",
    "\n",
    "# 25% hold out for testing\n",
    "X_train, X_test, y_train, y_test = train_test_split(X, Y, test_size=.25, random_state=25)\n",
    "\n",
    "print('\\nX_train\\n')\n",
    "print(X_train)\n",
    "print('\\nX_test\\n')\n",
    "print(X_test)\n",
    "print('\\ny_train\\n')\n",
    "print(y_train)\n",
    "print('\\ny_test\\n')\n",
    "print(y_test)"
   ]
  },
  {
   "cell_type": "markdown",
   "metadata": {},
   "source": [
    "## Instantiate decision tree model (depth = 2)\n",
    "\n",
    "If the maximum depth of the tree (controlled by the max_depth parameter) is set too high, overfitting may happen."
   ]
  },
  {
   "cell_type": "code",
   "execution_count": 14,
   "metadata": {},
   "outputs": [
    {
     "data": {
      "text/plain": [
       "DecisionTreeRegressor(max_depth=2)"
      ]
     },
     "execution_count": 14,
     "metadata": {},
     "output_type": "execute_result"
    }
   ],
   "source": [
    "regressor = DecisionTreeRegressor(max_depth=2)\n",
    "\n",
    "# FIT = Build a decision tree regressor from the training set (X, y).\n",
    "regressor.fit(X_train, y_train)"
   ]
  },
  {
   "cell_type": "code",
   "execution_count": 17,
   "metadata": {},
   "outputs": [
    {
     "data": {
      "text/plain": [
       "14.800000000000002"
      ]
     },
     "execution_count": 17,
     "metadata": {},
     "output_type": "execute_result"
    }
   ],
   "source": [
    "# predict Y values- 25% training data\n",
    "Y_pred = regressor.predict(X_test)\n",
    "\n",
    "Y_pred[0]"
   ]
  },
  {
   "cell_type": "code",
   "execution_count": 18,
   "metadata": {},
   "outputs": [
    {
     "data": {
      "text/plain": [
       "32.299068640612354"
      ]
     },
     "execution_count": 18,
     "metadata": {},
     "output_type": "execute_result"
    }
   ],
   "source": [
    "from sklearn.metrics import mean_squared_error\n",
    "\n",
    "mean_squared_error(y_test, Y_pred)  # MSE\n",
    "\n",
    "# ONLY GOOD FOR PYTHON 2 - ce n'est pas vrai"
   ]
  },
  {
   "cell_type": "markdown",
   "metadata": {},
   "source": [
    "## Use cross-validation\n",
    "\n",
    "When we can't split our data into training and testing sets"
   ]
  },
  {
   "cell_type": "code",
   "execution_count": 19,
   "metadata": {},
   "outputs": [
    {
     "data": {
      "text/plain": [
       "DecisionTreeRegressor(min_samples_leaf=10, min_samples_split=30, random_state=0)"
      ]
     },
     "execution_count": 19,
     "metadata": {},
     "output_type": "execute_result"
    }
   ],
   "source": [
    "regression_tree = DecisionTreeRegressor(min_samples_split=30, min_samples_leaf=10, random_state=0)\n",
    "regression_tree\n"
   ]
  },
  {
   "cell_type": "markdown",
   "metadata": {},
   "source": [
    "## Cross-validation: evaluating estimator performance"
   ]
  },
  {
   "cell_type": "code",
   "execution_count": 31,
   "metadata": {},
   "outputs": [
    {
     "data": {
      "text/plain": [
       "KFold(n_splits=10, random_state=1, shuffle=True)"
      ]
     },
     "execution_count": 31,
     "metadata": {},
     "output_type": "execute_result"
    }
   ],
   "source": [
    "from sklearn.model_selection import cross_val_score\n",
    "from sklearn.model_selection import KFold\n",
    "from sklearn.model_selection import KFold\n",
    "\n",
    "# crossvalidation = KFold(n=X.shape[0], n_folds=10, shuffle=True, random_state=1) # 10-fold CV\n",
    "\n",
    "# class sklearn.model_selection.KFold(n_splits=’warn’, shuffle=False, random_state=None)\n",
    "crossvalidation = KFold(n_splits=10, shuffle=True, random_state=1)  # 10 fold CV\n",
    "crossvalidation\n"
   ]
  },
  {
   "cell_type": "code",
   "execution_count": 22,
   "metadata": {},
   "outputs": [
    {
     "data": {
      "text/plain": [
       "DecisionTreeRegressor(min_samples_leaf=10, min_samples_split=30, random_state=0)"
      ]
     },
     "execution_count": 22,
     "metadata": {},
     "output_type": "execute_result"
    }
   ],
   "source": [
    "regression_tree.fit(X, Y)\n"
   ]
  },
  {
   "cell_type": "code",
   "execution_count": 33,
   "metadata": {},
   "outputs": [],
   "source": [
    "# sorted(sklearn.metrics.SCORERS.keys())\n",
    "sorted(metrics.SCORERS.keys())\n",
    "\n",
    "# mean_squared_error\n",
    "score = np.mean(cross_val_score(regression_tree, X, Y, scoring='neg_mean_squared_error', cv=crossvalidation, n_jobs=1))\n",
    "\n",
    "# 10-fold CV based MSE"
   ]
  },
  {
   "cell_type": "code",
   "execution_count": 34,
   "metadata": {},
   "outputs": [
    {
     "name": "stdout",
     "output_type": "stream",
     "text": [
      "Mean squared error: 20.107\n"
     ]
    }
   ],
   "source": [
    "print(\"Mean squared error: %.3f\" % abs(score))"
   ]
  },
  {
   "cell_type": "markdown",
   "metadata": {},
   "source": [
    "## Decide on the depth"
   ]
  },
  {
   "cell_type": "code",
   "execution_count": 36,
   "metadata": {},
   "outputs": [
    {
     "name": "stdout",
     "output_type": "stream",
     "text": [
      "Depth: 1 Accuracy: -20.107\n",
      "Depth: 2 Accuracy: -20.107\n",
      "Depth: 3 Accuracy: -20.107\n",
      "Depth: 4 Accuracy: -20.107\n",
      "Depth: 5 Accuracy: -20.107\n",
      "Depth: 6 Accuracy: -20.107\n",
      "Depth: 7 Accuracy: -20.107\n",
      "Depth: 8 Accuracy: -20.107\n",
      "Depth: 9 Accuracy: -20.107\n"
     ]
    }
   ],
   "source": [
    "for depth in range(1, 10):\n",
    "    regression_tree2 = DecisionTreeRegressor(min_samples_split=30, min_samples_leaf=10, random_state=0)\n",
    "\n",
    "    if regression_tree2.fit(X, Y).tree_.max_depth < depth:\n",
    "        break\n",
    "        score = np.mean(cross_val_score(tree_classifier, X, Y, scoring=\"mean_squared_error\", cv=crossvalidation, n_jobs=1))\n",
    "\n",
    "    print(\"Depth: %i Accuracy: %.3f\" % (depth, score))\n"
   ]
  },
  {
   "cell_type": "code",
   "execution_count": null,
   "metadata": {},
   "outputs": [],
   "source": []
  }
 ],
 "metadata": {
  "kernelspec": {
   "display_name": "Python 3 (ipykernel)",
   "language": "python",
   "name": "python3"
  },
  "language_info": {
   "codemirror_mode": {
    "name": "ipython",
    "version": 3
   },
   "file_extension": ".py",
   "mimetype": "text/x-python",
   "name": "python",
   "nbconvert_exporter": "python",
   "pygments_lexer": "ipython3",
   "version": "3.9.13"
  }
 },
 "nbformat": 4,
 "nbformat_minor": 2
}
