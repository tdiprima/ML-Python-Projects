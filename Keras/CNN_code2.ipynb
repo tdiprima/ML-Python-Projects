{
 "cells": [
  {
   "cell_type": "code",
   "execution_count": 1,
   "metadata": {},
   "outputs": [],
   "source": [
    "from warnings import simplefilter\n",
    "\n",
    "simplefilter(action='ignore', category=FutureWarning)"
   ]
  },
  {
   "cell_type": "code",
   "execution_count": 2,
   "metadata": {},
   "outputs": [
    {
     "name": "stderr",
     "output_type": "stream",
     "text": [
      "2023-05-02 14:44:59.169671: I tensorflow/core/platform/cpu_feature_guard.cc:193] This TensorFlow binary is optimized with oneAPI Deep Neural Network Library (oneDNN) to use the following CPU instructions in performance-critical operations:  AVX2 FMA\n",
      "To enable them in other operations, rebuild TensorFlow with the appropriate compiler flags.\n"
     ]
    }
   ],
   "source": [
    "from keras.datasets import cifar10  # subroutines for fetching the CIFAR-10 dataset\n",
    "from keras.models import Model  # basic class for specifying and training a neural network\n",
    "from keras.layers import Input, Convolution2D, MaxPooling2D, Dense, Dropout, Flatten\n",
    "from keras.utils import np_utils  # utilities for one-hot encoding of ground truth values\n",
    "import numpy as np"
   ]
  },
  {
   "cell_type": "markdown",
   "metadata": {},
   "source": [
    "## a CNN will typically have more hyperparameters than an MLP"
   ]
  },
  {
   "cell_type": "markdown",
   "metadata": {},
   "source": [
    "**batch size**, representing the number of training examples being used simultaneously during a single iteration of the gradient descent algorithm;\n",
    "\n",
    "The **number of epochs**, representing the number of times the training algorithm will iterate over the entire training set before terminating1;\n",
    "\n",
    "The **kernel sizes** in the convolutional layers;\n",
    "\n",
    "The **pooling size** in the pooling layers;\n",
    "\n",
    "The **number of kernels** in the convolutional layers;\n",
    "\n",
    "The **dropout probability** (we will apply dropout after each pooling, and after the fully connected layer) to prevent overfitting\n",
    "\n",
    "The **number of neurons** in the fully connected layer of the MLP"
   ]
  },
  {
   "cell_type": "code",
   "execution_count": 3,
   "metadata": {},
   "outputs": [],
   "source": [
    "batch_size = 32     # in each iteration, we consider 32 training examples at once\n",
    "\n",
    "# num_epochs = 200  # we iterate 200 times over the entire training set\n",
    "num_epochs = 10     # EVEN 10 TIMES IS A LOT\n",
    "\n",
    "kernel_size = 3     # we will use 3x3 kernels throughout\n",
    "\n",
    "pool_size = 2       # we will use 2x2 pooling throughout\n",
    "\n",
    "conv_depth_1 = 32   # we will initially have 32 kernels per conv. layer...\n",
    "\n",
    "conv_depth_2 = 64   # ...switching to 64 after the first pooling layer\n",
    "\n",
    "drop_prob_1 = 0.25  # dropout after pooling with probability 0.25\n",
    "\n",
    "drop_prob_2 = 0.5   # dropout in the FC layer with probability 0.5\n",
    "\n",
    "hidden_size = 512   # the FC layer will have 512 neurons"
   ]
  },
  {
   "cell_type": "code",
   "execution_count": 4,
   "metadata": {},
   "outputs": [
    {
     "name": "stdout",
     "output_type": "stream",
     "text": [
      "\n",
      "num_train: 50000\n",
      "height: 32\n",
      "width: 32 \n",
      "depth: 3\n"
     ]
    }
   ],
   "source": [
    "# fetch CIFAR-10 data\n",
    "(X_train, y_train), (X_test, y_test) = cifar10.load_data()\n",
    "\n",
    "# there are 50000 training examples in CIFAR-10\n",
    "num_train, height, width, depth = X_train.shape  # (50000, 32, 32, 3)\n",
    "\n",
    "print(f\"\\nnum_train: {num_train}\\nheight: {height}\\nwidth: {width} \\ndepth: {depth}\")"
   ]
  },
  {
   "cell_type": "markdown",
   "metadata": {},
   "source": [
    "## shape[0] gets you \"number of...\""
   ]
  },
  {
   "cell_type": "code",
   "execution_count": 5,
   "metadata": {},
   "outputs": [
    {
     "name": "stdout",
     "output_type": "stream",
     "text": [
      "\n",
      "num_test: 10000\n",
      "num_classes: 10\n"
     ]
    }
   ],
   "source": [
    "num_test = X_test.shape[0]  # there are 10000 test examples in CIFAR-10\n",
    "\n",
    "num_classes = np.unique(y_train).shape[0]  # there are 10 image classes\n",
    "\n",
    "print(f\"\\nnum_test: {num_test}\\nnum_classes: {num_classes}\")"
   ]
  },
  {
   "cell_type": "markdown",
   "metadata": {},
   "source": [
    "## How to normalize"
   ]
  },
  {
   "cell_type": "code",
   "execution_count": 6,
   "metadata": {},
   "outputs": [],
   "source": [
    "X_train = X_train.astype('float32')\n",
    "X_test = X_test.astype('float32')\n",
    "\n",
    "X_train /= np.max(X_train)  # Normalize data to [0, 1] range\n",
    "X_test /= np.max(X_test)    # Normalize data to [0, 1] range\n"
   ]
  },
  {
   "cell_type": "markdown",
   "metadata": {},
   "source": [
    "## One-hot encode the labels\n",
    "\n",
    "### to_categorical\n",
    "\n",
    "```py\n",
    "tf.keras.utils.to_categorical(\n",
    "    y, num_classes=None, dtype=\"float32\"\n",
    ")\n",
    "```\n",
    "\n",
    "Converts a class vector (integers) to binary class matrix.\n"
   ]
  },
  {
   "cell_type": "code",
   "execution_count": 7,
   "metadata": {},
   "outputs": [],
   "source": [
    "Y_train = np_utils.to_categorical(y_train, num_classes)\n",
    "\n",
    "Y_test = np_utils.to_categorical(y_test, num_classes)"
   ]
  },
  {
   "cell_type": "markdown",
   "metadata": {},
   "source": [
    "## Model\n",
    "\n",
    "**four** Convolution2D layers, with a MaxPooling2D layer following after the second and the fourth convolution\n",
    "\n",
    "the output of the second pooling layer is **flattened to 1D** (via the Flatten layer), and passed through two fully connected (Dense) layers\n",
    "\n",
    "**ReLU activations** will once again be used for all layers except the output dense layer, which will use a softmax activation (for purposes of probabilistic classification)\n",
    "\n",
    "**Dropout** used for regularization and to prevent overfitting"
   ]
  },
  {
   "cell_type": "code",
   "execution_count": 8,
   "metadata": {},
   "outputs": [
    {
     "name": "stderr",
     "output_type": "stream",
     "text": [
      "2023-05-02 14:45:04.796515: I tensorflow/core/platform/cpu_feature_guard.cc:193] This TensorFlow binary is optimized with oneAPI Deep Neural Network Library (oneDNN) to use the following CPU instructions in performance-critical operations:  AVX2 FMA\n",
      "To enable them in other operations, rebuild TensorFlow with the appropriate compiler flags.\n"
     ]
    }
   ],
   "source": [
    "inp = Input(shape=(height, width, depth)) # depth goes last in TensorFlow back-end (first in Theano)\n",
    "\n",
    "# Conv [32] -> Conv [32] -> Pool (with dropout on the pooling layer)\n",
    "conv_1 = Convolution2D(conv_depth_1, (kernel_size, kernel_size), padding='same', activation='relu')(inp)\n",
    "conv_2 = Convolution2D(conv_depth_1, (kernel_size, kernel_size), padding='same', activation='relu')(conv_1)\n",
    "pool_1 = MaxPooling2D(pool_size=(pool_size, pool_size))(conv_2)\n",
    "drop_1 = Dropout(drop_prob_1)(pool_1)\n",
    "\n",
    "# Conv [64] -> Conv [64] -> Pool (with dropout on the pooling layer)\n",
    "conv_3 = Convolution2D(conv_depth_2, (kernel_size, kernel_size), padding='same', activation='relu')(drop_1)\n",
    "conv_4 = Convolution2D(conv_depth_2, (kernel_size, kernel_size), padding='same', activation='relu')(conv_3)\n",
    "pool_2 = MaxPooling2D(pool_size=(pool_size, pool_size))(conv_4)\n",
    "drop_2 = Dropout(drop_prob_1)(pool_2)\n",
    "\n",
    "# Now flatten to 1D, apply FC -> ReLU (with dropout) -> softmax\n",
    "flat = Flatten()(drop_2)\n",
    "hidden = Dense(hidden_size, activation='relu')(flat)\n",
    "drop_3 = Dropout(drop_prob_2)(hidden)\n",
    "\n",
    "out = Dense(num_classes, activation='softmax')(drop_3)"
   ]
  },
  {
   "cell_type": "code",
   "execution_count": 9,
   "metadata": {},
   "outputs": [
    {
     "name": "stdout",
     "output_type": "stream",
     "text": [
      "Model: \"model\"\n",
      "_________________________________________________________________\n",
      " Layer (type)                Output Shape              Param #   \n",
      "=================================================================\n",
      " input_1 (InputLayer)        [(None, 32, 32, 3)]       0         \n",
      "                                                                 \n",
      " conv2d (Conv2D)             (None, 32, 32, 32)        896       \n",
      "                                                                 \n",
      " conv2d_1 (Conv2D)           (None, 32, 32, 32)        9248      \n",
      "                                                                 \n",
      " max_pooling2d (MaxPooling2D  (None, 16, 16, 32)       0         \n",
      " )                                                               \n",
      "                                                                 \n",
      " dropout (Dropout)           (None, 16, 16, 32)        0         \n",
      "                                                                 \n",
      " conv2d_2 (Conv2D)           (None, 16, 16, 64)        18496     \n",
      "                                                                 \n",
      " conv2d_3 (Conv2D)           (None, 16, 16, 64)        36928     \n",
      "                                                                 \n",
      " max_pooling2d_1 (MaxPooling  (None, 8, 8, 64)         0         \n",
      " 2D)                                                             \n",
      "                                                                 \n",
      " dropout_1 (Dropout)         (None, 8, 8, 64)          0         \n",
      "                                                                 \n",
      " flatten (Flatten)           (None, 4096)              0         \n",
      "                                                                 \n",
      " dense (Dense)               (None, 512)               2097664   \n",
      "                                                                 \n",
      " dropout_2 (Dropout)         (None, 512)               0         \n",
      "                                                                 \n",
      " dense_1 (Dense)             (None, 10)                5130      \n",
      "                                                                 \n",
      "=================================================================\n",
      "Total params: 2,168,362\n",
      "Trainable params: 2,168,362\n",
      "Non-trainable params: 0\n",
      "_________________________________________________________________\n"
     ]
    }
   ],
   "source": [
    "# To define a model, just specify its input and output layers\n",
    "model = Model(inputs=inp, outputs=out)\n",
    "\n",
    "model.summary()"
   ]
  },
  {
   "cell_type": "markdown",
   "metadata": {},
   "source": [
    "## Compile the model"
   ]
  },
  {
   "cell_type": "code",
   "execution_count": 10,
   "metadata": {},
   "outputs": [],
   "source": [
    "model.compile(loss='categorical_crossentropy', # cross-entropy loss function\n",
    "              optimizer='adam',                # Adam optimiser\n",
    "              metrics=['accuracy'])            # reporting the accuracy\n"
   ]
  },
  {
   "cell_type": "markdown",
   "metadata": {},
   "source": [
    "## Train the model using the training set"
   ]
  },
  {
   "cell_type": "code",
   "execution_count": 11,
   "metadata": {},
   "outputs": [
    {
     "name": "stdout",
     "output_type": "stream",
     "text": [
      "Epoch 1/10\n",
      "1407/1407 [==============================] - 108s 76ms/step - loss: 1.6035 - accuracy: 0.4133 - val_loss: 1.1777 - val_accuracy: 0.5792\n",
      "Epoch 2/10\n",
      "1407/1407 [==============================] - 331s 236ms/step - loss: 1.1956 - accuracy: 0.5689 - val_loss: 0.9811 - val_accuracy: 0.6540\n",
      "Epoch 3/10\n",
      "1407/1407 [==============================] - 123s 87ms/step - loss: 1.0227 - accuracy: 0.6364 - val_loss: 0.8547 - val_accuracy: 0.7044\n",
      "Epoch 4/10\n",
      "1407/1407 [==============================] - 120s 85ms/step - loss: 0.9100 - accuracy: 0.6778 - val_loss: 0.7869 - val_accuracy: 0.7244\n",
      "Epoch 5/10\n",
      "1407/1407 [==============================] - 116s 83ms/step - loss: 0.8372 - accuracy: 0.7034 - val_loss: 0.7648 - val_accuracy: 0.7416\n",
      "Epoch 6/10\n",
      "1407/1407 [==============================] - 118s 84ms/step - loss: 0.7752 - accuracy: 0.7247 - val_loss: 0.7333 - val_accuracy: 0.7514\n",
      "Epoch 7/10\n",
      "1407/1407 [==============================] - 116s 82ms/step - loss: 0.7286 - accuracy: 0.7438 - val_loss: 0.7431 - val_accuracy: 0.7522\n",
      "Epoch 8/10\n",
      "1407/1407 [==============================] - 116s 83ms/step - loss: 0.6908 - accuracy: 0.7560 - val_loss: 0.6761 - val_accuracy: 0.7688\n",
      "Epoch 9/10\n",
      "1407/1407 [==============================] - 120s 85ms/step - loss: 0.6480 - accuracy: 0.7708 - val_loss: 0.6815 - val_accuracy: 0.7660\n",
      "Epoch 10/10\n",
      "1407/1407 [==============================] - 118s 84ms/step - loss: 0.6228 - accuracy: 0.7805 - val_loss: 0.6575 - val_accuracy: 0.7824\n"
     ]
    },
    {
     "data": {
      "text/plain": [
       "<keras.callbacks.History at 0x7fd57795dfa0>"
      ]
     },
     "execution_count": 11,
     "metadata": {},
     "output_type": "execute_result"
    }
   ],
   "source": [
    "model.fit(X_train, Y_train,\n",
    "          batch_size=batch_size, epochs=num_epochs,\n",
    "          verbose=1, validation_split=0.1)  # ...holding out 10% of the data for validation\n"
   ]
  },
  {
   "cell_type": "markdown",
   "metadata": {},
   "source": [
    "## Evaluate the trained model on the test set"
   ]
  },
  {
   "cell_type": "code",
   "execution_count": 12,
   "metadata": {},
   "outputs": [
    {
     "name": "stdout",
     "output_type": "stream",
     "text": [
      "313/313 [==============================] - 6s 20ms/step - loss: 0.6869 - accuracy: 0.7660\n"
     ]
    },
    {
     "data": {
      "text/plain": [
       "[0.6868680715560913, 0.765999972820282]"
      ]
     },
     "execution_count": 12,
     "metadata": {},
     "output_type": "execute_result"
    }
   ],
   "source": [
    "model.evaluate(X_test, Y_test, verbose=1)\n"
   ]
  },
  {
   "cell_type": "markdown",
   "metadata": {},
   "source": [
    "# Keras One-Hot-Encoding\n",
    "\n",
    "Keras' `np_utils.to_categorical()` is considered one-hot encoding.\n",
    "\n",
    "It is used to **convert integer class labels** into a **one-hot encoded representation.**\n",
    "\n",
    "One-hot encoding is a process that **converts categorical data**, such as **class labels**, into a **binary vector** where each element represents a unique category\n",
    "\n",
    "It has a value of 1 if the sample belongs to that category, and 0 otherwise.\n",
    "\n",
    "For example, if we have 3 classes represented by integers 0, 1, and 2, `to_categorical()` will convert a list of labels `[0, 1, 2, 1]` into a one-hot encoded matrix of shape `(4, 3)` (4 rows, 3 columns):\n",
    "\n",
    "```c\n",
    "array([[1., 0., 0.],\n",
    "       [0., 1., 0.],\n",
    "       [0., 0., 1.],\n",
    "       [0., 1., 0.]], dtype=float32)\n",
    "```\n",
    "\n",
    "In this matrix, the **rows** correspond to the **samples**\n",
    "\n",
    "The **columns** correspond to the **unique categories.**\n",
    "\n",
    "The value of 1 in each row indicates the category to which the sample belongs."
   ]
  },
  {
   "cell_type": "code",
   "execution_count": null,
   "metadata": {},
   "outputs": [],
   "source": []
  }
 ],
 "metadata": {
  "kernelspec": {
   "display_name": "Python 3 (ipykernel)",
   "language": "python",
   "name": "python3"
  },
  "language_info": {
   "codemirror_mode": {
    "name": "ipython",
    "version": 3
   },
   "file_extension": ".py",
   "mimetype": "text/x-python",
   "name": "python",
   "nbconvert_exporter": "python",
   "pygments_lexer": "ipython3",
   "version": "3.9.13"
  }
 },
 "nbformat": 4,
 "nbformat_minor": 2
}
