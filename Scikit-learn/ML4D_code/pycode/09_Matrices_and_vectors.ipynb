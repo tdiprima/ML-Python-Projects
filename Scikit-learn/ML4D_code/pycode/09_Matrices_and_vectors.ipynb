{
 "cells": [
  {
   "cell_type": "markdown",
   "metadata": {},
   "source": [
    "# Demystifying the Math Behind Machine Learning"
   ]
  },
  {
   "cell_type": "code",
   "execution_count": 1,
   "metadata": {},
   "outputs": [
    {
     "name": "stdout",
     "output_type": "stream",
     "text": [
      "\n",
      "y shape: (3,)\n"
     ]
    }
   ],
   "source": [
    "import numpy as np\n",
    "\n",
    "y = np.array([44, 21, 37])\n",
    "\n",
    "print(\"\\ny shape:\", y.shape)  # an array of 3 things\n"
   ]
  },
  {
   "cell_type": "code",
   "execution_count": 2,
   "metadata": {},
   "outputs": [
    {
     "name": "stdout",
     "output_type": "stream",
     "text": [
      "\n",
      "X shape: (3, 4)\n"
     ]
    }
   ],
   "source": [
    "X = np.array([\n",
    "    [1.1, 1, 545, 1],\n",
    "    [4.6, 0, 345, 2],\n",
    "    [7.2, 1, 754, 3]\n",
    "])\n",
    "\n",
    "print(\"\\nX shape:\", X.shape)  # 3 samples with 4 things in it\n"
   ]
  },
  {
   "cell_type": "code",
   "execution_count": 3,
   "metadata": {},
   "outputs": [
    {
     "name": "stdout",
     "output_type": "stream",
     "text": [
      "\n",
      "arr shape: (12,)\n",
      "\n",
      "reshape: (3, 4)\n"
     ]
    }
   ],
   "source": [
    "# Reshape\n",
    "arr = np.array([1.1, 1, 545, 1, 4.6, 0, 345, 2, 7.2, 1, 754, 3])\n",
    "\n",
    "print(\"\\narr shape:\", arr.shape)\n",
    "\n",
    "X = arr.reshape(3, 4)\n",
    "\n",
    "print(\"\\nreshape:\", X.shape)"
   ]
  },
  {
   "cell_type": "code",
   "execution_count": 4,
   "metadata": {},
   "outputs": [
    {
     "name": "stdout",
     "output_type": "stream",
     "text": [
      "[[ 0  1]\n",
      " [ 1 -1]]\n"
     ]
    }
   ],
   "source": [
    "# Matrix subtraction\n",
    "a = np.array([[1, 1], [1, 0]])\n",
    "b = np.array([[1, 0], [0, 1]])\n",
    "\n",
    "print(a - b)\n"
   ]
  },
  {
   "cell_type": "code",
   "execution_count": 5,
   "metadata": {},
   "outputs": [
    {
     "name": "stdout",
     "output_type": "stream",
     "text": [
      "[[ 0 -2]\n",
      " [-2  2]]\n"
     ]
    }
   ],
   "source": [
    "# Matrix multiplication\n",
    "a = np.array([[0, 1], [1, -1]])\n",
    "\n",
    "print(a * -2)\n"
   ]
  },
  {
   "cell_type": "code",
   "execution_count": 6,
   "metadata": {},
   "outputs": [
    {
     "name": "stdout",
     "output_type": "stream",
     "text": [
      "[ 2 -2  3]\n"
     ]
    }
   ],
   "source": [
    "# Dot product\n",
    "X = np.array([[4, 5], [2, 4], [3, 3]])\n",
    "b = np.array([3, -2])\n",
    "\n",
    "print(np.dot(X, b))\n"
   ]
  },
  {
   "cell_type": "code",
   "execution_count": 7,
   "metadata": {},
   "outputs": [
    {
     "name": "stdout",
     "output_type": "stream",
     "text": [
      "[[ 2 17]\n",
      " [-2 16]\n",
      " [ 3  9]]\n"
     ]
    }
   ],
   "source": [
    "B = np.array([[3, -2], [-2, 5]])\n",
    "\n",
    "print(np.dot(X, B))\n"
   ]
  },
  {
   "cell_type": "code",
   "execution_count": 8,
   "metadata": {},
   "outputs": [
    {
     "data": {
      "text/plain": [
       "array([[4, 2, 3],\n",
       "       [5, 4, 3]])"
      ]
     },
     "execution_count": 8,
     "metadata": {},
     "output_type": "execute_result"
    }
   ],
   "source": [
    "# Transpose\n",
    "X.transpose()\n"
   ]
  },
  {
   "cell_type": "code",
   "execution_count": null,
   "metadata": {},
   "outputs": [],
   "source": []
  }
 ],
 "metadata": {
  "kernelspec": {
   "display_name": "Python 3 (ipykernel)",
   "language": "python",
   "name": "python3"
  },
  "language_info": {
   "codemirror_mode": {
    "name": "ipython",
    "version": 3
   },
   "file_extension": ".py",
   "mimetype": "text/x-python",
   "name": "python",
   "nbconvert_exporter": "python",
   "pygments_lexer": "ipython3",
   "version": "3.9.13"
  }
 },
 "nbformat": 4,
 "nbformat_minor": 1
}
