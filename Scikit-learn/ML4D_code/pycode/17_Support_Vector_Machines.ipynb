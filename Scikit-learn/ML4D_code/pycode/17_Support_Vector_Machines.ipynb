{
 "cells": [
  {
   "cell_type": "markdown",
   "metadata": {},
   "source": [
    "# Going a Step Beyond using Support Vector Machines"
   ]
  },
  {
   "cell_type": "markdown",
   "metadata": {},
   "source": [
    "## Kernel exemplification"
   ]
  },
  {
   "cell_type": "code",
   "execution_count": 1,
   "metadata": {},
   "outputs": [],
   "source": [
    "import numpy as np\n",
    "\n",
    "X = np.array([[1, 2, 3], [3, 2, 1]])\n",
    "\n",
    "\n",
    "def poly_expansion(A):\n",
    "    return np.array([[x * y for x in\n",
    "                      row for y in row] for row in A])\n"
   ]
  },
  {
   "cell_type": "code",
   "execution_count": 2,
   "metadata": {},
   "outputs": [
    {
     "name": "stdout",
     "output_type": "stream",
     "text": [
      "\n",
      "Dimensions after expanding: (2, 9)\n",
      "\n",
      "poly_X:\n",
      " [[1 2 3 2 4 6 3 6 9]\n",
      " [9 6 3 6 4 2 3 2 1]]\n"
     ]
    }
   ],
   "source": [
    "poly_X = poly_expansion(X)\n",
    "\n",
    "print ('\\nDimensions after expanding: %s' % str(poly_X.shape))\n",
    "print (\"\\npoly_X:\\n\", poly_X)"
   ]
  },
  {
   "cell_type": "code",
   "execution_count": 3,
   "metadata": {},
   "outputs": [
    {
     "data": {
      "text/plain": [
       "100"
      ]
     },
     "execution_count": 3,
     "metadata": {},
     "output_type": "execute_result"
    }
   ],
   "source": [
    "np.dot(poly_X[0],poly_X[1])"
   ]
  },
  {
   "cell_type": "code",
   "execution_count": 4,
   "metadata": {},
   "outputs": [
    {
     "data": {
      "text/plain": [
       "100"
      ]
     },
     "execution_count": 4,
     "metadata": {},
     "output_type": "execute_result"
    }
   ],
   "source": [
    "def poly_kernel(a, b):\n",
    "    return np.sum(a * b) ** 2\n",
    "\n",
    "\n",
    "poly_kernel(X[0], X[1])\n"
   ]
  },
  {
   "cell_type": "markdown",
   "metadata": {},
   "source": [
    "## Numpy array multiplication\n",
    "\n",
    "```py\n",
    "np.sum(a * b) ** 2\n",
    "```\n",
    "\n",
    "This is performing an element-wise multiplication between two numpy arrays `a` and `b`.\n",
    "\n",
    "Then it calculates the sum of the resulting array.\n",
    "\n",
    "Finally, it takes the square of the sum.\n",
    "\n",
    "This code snippet uses the `np.sum()` function to calculate the sum of the product of corresponding elements of `a` and `b`. The resulting scalar is then squared using the `**` operator.\n",
    "\n",
    "This is essentially equivalent to the following mathematical expression:\n",
    "\n",
    "```py\n",
    "(sum_i(a_i * b_i))^2\n",
    "```\n",
    "\n",
    "where `a_i` and `b_i` are the elements of the arrays `a` and `b` respectively.\n",
    "\n",
    "`sum_i` denotes the summation over all the elements in the arrays.\n",
    "\n",
    "### Note:\n",
    "\n",
    "The multiplication is performed element-wise, because `a` and `b` are numpy arrays.\n",
    "\n",
    "The `*` operator for numpy arrays performs element-wise multiplication."
   ]
  },
  {
   "cell_type": "markdown",
   "metadata": {},
   "source": [
    "## When might we do such a thing?\n",
    "\n",
    "### When calculating the similarity between two feature vectors.\n",
    "\n",
    "In general, this expression calculates the square of the dot product of the vectors represented by the numpy arrays `a` and `b`.\n",
    "\n",
    "The dot product is a mathematical operation that takes two vectors of equal length and returns a scalar. It is defined as the sum of the product of corresponding elements of the two vectors. In other words, the dot product of two vectors `a` and `b` of length `n` is:\n",
    "\n",
    "```css\n",
    "a . b = sum_i=1_to_n (a_i * b_i)\n",
    "```\n",
    "\n",
    "Taking the square of the dot product has various uses, such as:\n",
    "\n",
    "1. Calculating the magnitude of a vector\n",
    "2. Computing the cosine similarity between two vectors\n",
    "\n",
    "Therefore, the expression `np.sum(a * b) ** 2` might be used in various applications that involve calculating the square of the dot product of two vectors represented by numpy arrays `a` and `b`.\n",
    "\n",
    "For example, it could be used in machine learning algorithms that involve **calculating the similarity between two feature vectors**, or in signal processing applications that involve calculating the correlation between two signals.\n",
    "\n",
    "<br>\n"
   ]
  },
  {
   "cell_type": "markdown",
   "metadata": {
    "collapsed": true
   },
   "source": [
    "# Classifying handwritten digits"
   ]
  },
  {
   "cell_type": "code",
   "execution_count": 5,
   "metadata": {},
   "outputs": [],
   "source": [
    "import matplotlib.pyplot as plt\n",
    "import matplotlib as mpl\n",
    "from sklearn.datasets import load_digits\n",
    "import numpy as np\n",
    "import random\n",
    "\n",
    "digits = load_digits()\n",
    "X, y = digits.data, digits.target\n"
   ]
  },
  {
   "cell_type": "code",
   "execution_count": 6,
   "metadata": {},
   "outputs": [
    {
     "data": {
      "image/png": "[encoded data removed]",
      "text/plain": [
       "<Figure size 640x480 with 10 Axes>"
      ]
     },
     "metadata": {},
     "output_type": "display_data"
    }
   ],
   "source": [
    "random_examples = [random.randint(0, len(digits.images))\n",
    "                   for i in range(10)]\n",
    "\n",
    "for n, number in enumerate(random_examples):\n",
    "    plt.subplot(2, 5, n + 1)\n",
    "    # cmap='binary'\n",
    "    plt.imshow(digits.images[number], cmap='Wistia',\n",
    "               interpolation='none', extent=[0, 8, 0, 8])\n",
    "    plt.grid()\n",
    "    plt.axis(False)\n",
    "\n",
    "plt.show()\n"
   ]
  },
  {
   "cell_type": "code",
   "execution_count": 7,
   "metadata": {},
   "outputs": [],
   "source": [
    "from sklearn.model_selection import train_test_split\n",
    "from sklearn.model_selection import cross_val_score\n",
    "from sklearn.preprocessing import MinMaxScaler\n",
    "\n",
    "# We keep 30% random examples for test\n",
    "X_train, X_test, y_train, y_test = train_test_split(X,\n",
    "                                                    y, test_size=0.3, random_state=101)\n",
    "# We scale the data in the range [-1,1]\n",
    "scaling = MinMaxScaler(feature_range=(-1, 1)).fit(X_train)\n",
    "\n",
    "X_train = scaling.transform(X_train)\n",
    "X_test = scaling.transform(X_test)\n"
   ]
  },
  {
   "cell_type": "code",
   "execution_count": 8,
   "metadata": {},
   "outputs": [
    {
     "name": "stdout",
     "output_type": "stream",
     "text": [
      "\n",
      "Cross-validation accuracy score: 0.986, test accuracy score: 0.987\n"
     ]
    }
   ],
   "source": [
    "from sklearn.svm import SVC\n",
    "\n",
    "svm = SVC()\n",
    "cv_performance = cross_val_score(svm, X_train, y_train, cv=10)\n",
    "test_performance = svm.fit(X_train, y_train).score(X_test, y_test)\n",
    "\n",
    "print('\\nCross-validation accuracy score: %0.3f, test accuracy score: %0.3f' %\n",
    "      (np.mean(cv_performance), test_performance))\n"
   ]
  },
  {
   "cell_type": "code",
   "execution_count": 9,
   "metadata": {},
   "outputs": [
    {
     "name": "stdout",
     "output_type": "stream",
     "text": [
      "\n",
      "Best parameter: {'C': 10.0, 'gamma': 0.1, 'kernel': 'rbf'}\n",
      "\n",
      "Cross-validation accuracy score: 0.988, test accuracy score: 0.987\n"
     ]
    }
   ],
   "source": [
    "# HELLO! This one takes a long time to run.\n",
    "import numpy as np\n",
    "from sklearn.model_selection import GridSearchCV\n",
    "\n",
    "learning_algo = SVC(kernel='linear', random_state=101)\n",
    "\n",
    "search_space = [{'kernel': ['linear'],\n",
    "                 'C': np.logspace(-3, 3, 7)},\n",
    "                {'kernel': ['rbf'],\n",
    "                 'C': np.logspace(-3, 3, 7),\n",
    "                 'gamma': np.logspace(-3, 2, 6)}]\n",
    "\n",
    "gridsearch = GridSearchCV(learning_algo,\n",
    "                          param_grid=search_space,\n",
    "                          refit=True, cv=10)\n",
    "\n",
    "gridsearch.fit(X_train, y_train)\n",
    "\n",
    "print('\\nBest parameter: %s' % str(gridsearch.best_params_))\n",
    "cv_performance = gridsearch.best_score_\n",
    "test_performance = gridsearch.score(X_test, y_test)\n",
    "\n",
    "print('\\nCross-validation accuracy score: %0.3f, test accuracy score: %0.3f' %\n",
    "      (cv_performance, test_performance))\n"
   ]
  },
  {
   "cell_type": "code",
   "execution_count": 11,
   "metadata": {},
   "outputs": [
    {
     "data": {
      "image/png": "[encoded data removed]",
      "text/plain": [
       "<Figure size 640x480 with 7 Axes>"
      ]
     },
     "metadata": {},
     "output_type": "display_data"
    }
   ],
   "source": [
    "prediction = gridsearch.predict(X_test)\n",
    "wrong_prediction = (prediction != y_test)\n",
    "test_digits = scaling.inverse_transform(X_test)\n",
    "\n",
    "# Plot the wrong predictions\n",
    "for n, (number, yp, yt) in enumerate(zip(\n",
    "    scaling.inverse_transform(X_test)[wrong_prediction],\n",
    "    prediction[wrong_prediction],\n",
    "    y_test[wrong_prediction])):\n",
    "\n",
    "    plt.subplot(2, 5, n + 1)\n",
    "\n",
    "    # cmap='binary'\n",
    "    plt.imshow(number.reshape((8, 8)), cmap='Wistia',\n",
    "               interpolation='none',\n",
    "               extent=[0, 8, 0, 8])\n",
    "\n",
    "    plt.title('pred:' + str(yp) + \"!=\" + str(yt))\n",
    "    plt.grid()\n",
    "    plt.axis(False)\n",
    "\n",
    "plt.show()\n"
   ]
  },
  {
   "cell_type": "code",
   "execution_count": null,
   "metadata": {},
   "outputs": [],
   "source": []
  }
 ],
 "metadata": {
  "kernelspec": {
   "display_name": "Python 3 (ipykernel)",
   "language": "python",
   "name": "python3"
  },
  "language_info": {
   "codemirror_mode": {
    "name": "ipython",
    "version": 3
   },
   "file_extension": ".py",
   "mimetype": "text/x-python",
   "name": "python",
   "nbconvert_exporter": "python",
   "pygments_lexer": "ipython3",
   "version": "3.9.13"
  }
 },
 "nbformat": 4,
 "nbformat_minor": 1
}
