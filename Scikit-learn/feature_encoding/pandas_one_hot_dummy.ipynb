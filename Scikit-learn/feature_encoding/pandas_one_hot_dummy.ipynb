{
 "cells": [
  {
   "cell_type": "markdown",
   "metadata": {
    "button": false,
    "id": "EiZMIoBAT83d",
    "new_sheet": false,
    "pycharm": {
     "name": "#%% md\n"
    },
    "run_control": {
     "read_only": false
    }
   },
   "source": [
    "# High Cardinality Encoding\n",
    "\n",
    "## Datasets with high cardinality = too many variables\n",
    "\n",
    "[Pandas for One-Hot Encoding Data Preventing High Cardinality](https://towardsdatascience.com/pandas-for-one-hot-encoding-data-preventing-high-cardinality-16148a0ca399)\n",
    "\n",
    "[OHE_Dimensionality.ipynb](https://github.com/gurezende/Studying/blob/master/Python/Pandas/OHE_Dimensionality.ipynb)\n",
    "\n",
    "[Book2.csv](https://github.com/gurezende/Studying/blob/master/Python/Pandas/Book2.csv)"
   ]
  },
  {
   "cell_type": "code",
   "execution_count": 1,
   "metadata": {
    "button": false,
    "id": "RSRJXKpRrZ8Y",
    "new_sheet": false,
    "pycharm": {
     "name": "#%%\n"
    },
    "run_control": {
     "read_only": false
    }
   },
   "outputs": [],
   "source": [
    "import pandas as pd"
   ]
  },
  {
   "cell_type": "code",
   "execution_count": 2,
   "metadata": {},
   "outputs": [
    {
     "data": {
      "text/html": [
       "<div>\n",
       "<style scoped>\n",
       "    .dataframe tbody tr th:only-of-type {\n",
       "        vertical-align: middle;\n",
       "    }\n",
       "\n",
       "    .dataframe tbody tr th {\n",
       "        vertical-align: top;\n",
       "    }\n",
       "\n",
       "    .dataframe thead th {\n",
       "        text-align: right;\n",
       "    }\n",
       "</style>\n",
       "<table border=\"1\" class=\"dataframe\">\n",
       "  <thead>\n",
       "    <tr style=\"text-align: right;\">\n",
       "      <th></th>\n",
       "      <th>city</th>\n",
       "      <th>product_dsc</th>\n",
       "      <th>qty</th>\n",
       "      <th>total</th>\n",
       "    </tr>\n",
       "  </thead>\n",
       "  <tbody>\n",
       "    <tr>\n",
       "      <th>289</th>\n",
       "      <td>Paris</td>\n",
       "      <td>FRC</td>\n",
       "      <td>7</td>\n",
       "      <td>105</td>\n",
       "    </tr>\n",
       "    <tr>\n",
       "      <th>270</th>\n",
       "      <td>Paris</td>\n",
       "      <td>FRC</td>\n",
       "      <td>2</td>\n",
       "      <td>30</td>\n",
       "    </tr>\n",
       "    <tr>\n",
       "      <th>230</th>\n",
       "      <td>Paris</td>\n",
       "      <td>FRC</td>\n",
       "      <td>9</td>\n",
       "      <td>135</td>\n",
       "    </tr>\n",
       "    <tr>\n",
       "      <th>2</th>\n",
       "      <td>NYC</td>\n",
       "      <td>ABC</td>\n",
       "      <td>4</td>\n",
       "      <td>48</td>\n",
       "    </tr>\n",
       "    <tr>\n",
       "      <th>152</th>\n",
       "      <td>Rome</td>\n",
       "      <td>ITC</td>\n",
       "      <td>5</td>\n",
       "      <td>50</td>\n",
       "    </tr>\n",
       "  </tbody>\n",
       "</table>\n",
       "</div>"
      ],
      "text/plain": [
       "      city product_dsc  qty  total\n",
       "289  Paris         FRC    7    105\n",
       "270  Paris         FRC    2     30\n",
       "230  Paris         FRC    9    135\n",
       "2      NYC         ABC    4     48\n",
       "152   Rome         ITC    5     50"
      ]
     },
     "execution_count": 2,
     "metadata": {},
     "output_type": "execute_result"
    }
   ],
   "source": [
    "df = pd.read_csv('Book2.csv')\n",
    "# df.head(5)\n",
    "df.sample(5)"
   ]
  },
  {
   "cell_type": "code",
   "execution_count": 3,
   "metadata": {
    "button": false,
    "colab": {
     "base_uri": "https://localhost:8080/"
    },
    "id": "mGdu7D1qYn1Q",
    "new_sheet": false,
    "outputId": "9b291817-a59e-4010-a895-57f6b7a278a2",
    "pycharm": {
     "name": "#%%\n"
    },
    "run_control": {
     "read_only": false
    }
   },
   "outputs": [
    {
     "data": {
      "text/plain": [
       "24"
      ]
     },
     "execution_count": 3,
     "metadata": {},
     "output_type": "execute_result"
    }
   ],
   "source": [
    "# Count number of distinct cities\n",
    "df.city.nunique()"
   ]
  },
  {
   "cell_type": "code",
   "execution_count": 4,
   "metadata": {
    "button": false,
    "colab": {
     "base_uri": "https://localhost:8080/"
    },
    "id": "JrAIcvvPY5eF",
    "new_sheet": false,
    "outputId": "a0500fa5-1a3e-4a36-8188-e7f5b7d7bec8",
    "pycharm": {
     "name": "#%%\n"
    },
    "run_control": {
     "read_only": false
    }
   },
   "outputs": [
    {
     "data": {
      "text/plain": [
       "21"
      ]
     },
     "execution_count": 4,
     "metadata": {},
     "output_type": "execute_result"
    }
   ],
   "source": [
    "# Count number of unique products\n",
    "df.product_dsc.nunique()"
   ]
  },
  {
   "cell_type": "markdown",
   "metadata": {},
   "source": [
    "Notice the high number of different cities and products. If we use OHE for this dataset, we'll get a very large dataset."
   ]
  },
  {
   "cell_type": "code",
   "execution_count": 5,
   "metadata": {
    "button": false,
    "colab": {
     "base_uri": "https://localhost:8080/",
     "height": 317
    },
    "id": "CAMRUsaOZIKQ",
    "new_sheet": false,
    "outputId": "874a28b3-83c9-44b5-aec9-29d32c275428",
    "pycharm": {
     "name": "#%%\n"
    },
    "run_control": {
     "read_only": false
    }
   },
   "outputs": [
    {
     "data": {
      "text/html": [
       "<div>\n",
       "<style scoped>\n",
       "    .dataframe tbody tr th:only-of-type {\n",
       "        vertical-align: middle;\n",
       "    }\n",
       "\n",
       "    .dataframe tbody tr th {\n",
       "        vertical-align: top;\n",
       "    }\n",
       "\n",
       "    .dataframe thead th {\n",
       "        text-align: right;\n",
       "    }\n",
       "</style>\n",
       "<table border=\"1\" class=\"dataframe\">\n",
       "  <thead>\n",
       "    <tr style=\"text-align: right;\">\n",
       "      <th></th>\n",
       "      <th>qty</th>\n",
       "      <th>total</th>\n",
       "      <th>city_Baltimore</th>\n",
       "      <th>city_Boston</th>\n",
       "      <th>city_El Paso</th>\n",
       "      <th>city_Florence</th>\n",
       "      <th>city_Le Mans</th>\n",
       "      <th>city_Lille</th>\n",
       "      <th>city_Los Angeles</th>\n",
       "      <th>city_Lyon</th>\n",
       "      <th>...</th>\n",
       "      <th>product_dsc_DGF</th>\n",
       "      <th>product_dsc_FFF</th>\n",
       "      <th>product_dsc_FRC</th>\n",
       "      <th>product_dsc_GDS</th>\n",
       "      <th>product_dsc_ITC</th>\n",
       "      <th>product_dsc_SFS</th>\n",
       "      <th>product_dsc_SSD</th>\n",
       "      <th>product_dsc_VVV</th>\n",
       "      <th>product_dsc_WES</th>\n",
       "      <th>product_dsc_WW</th>\n",
       "    </tr>\n",
       "  </thead>\n",
       "  <tbody>\n",
       "    <tr>\n",
       "      <th>0</th>\n",
       "      <td>1</td>\n",
       "      <td>12</td>\n",
       "      <td>0</td>\n",
       "      <td>0</td>\n",
       "      <td>0</td>\n",
       "      <td>0</td>\n",
       "      <td>0</td>\n",
       "      <td>0</td>\n",
       "      <td>0</td>\n",
       "      <td>0</td>\n",
       "      <td>...</td>\n",
       "      <td>0</td>\n",
       "      <td>0</td>\n",
       "      <td>0</td>\n",
       "      <td>0</td>\n",
       "      <td>0</td>\n",
       "      <td>0</td>\n",
       "      <td>0</td>\n",
       "      <td>0</td>\n",
       "      <td>0</td>\n",
       "      <td>0</td>\n",
       "    </tr>\n",
       "    <tr>\n",
       "      <th>1</th>\n",
       "      <td>7</td>\n",
       "      <td>84</td>\n",
       "      <td>0</td>\n",
       "      <td>0</td>\n",
       "      <td>0</td>\n",
       "      <td>0</td>\n",
       "      <td>0</td>\n",
       "      <td>0</td>\n",
       "      <td>0</td>\n",
       "      <td>0</td>\n",
       "      <td>...</td>\n",
       "      <td>0</td>\n",
       "      <td>0</td>\n",
       "      <td>0</td>\n",
       "      <td>0</td>\n",
       "      <td>0</td>\n",
       "      <td>0</td>\n",
       "      <td>0</td>\n",
       "      <td>0</td>\n",
       "      <td>0</td>\n",
       "      <td>0</td>\n",
       "    </tr>\n",
       "    <tr>\n",
       "      <th>2</th>\n",
       "      <td>4</td>\n",
       "      <td>48</td>\n",
       "      <td>0</td>\n",
       "      <td>0</td>\n",
       "      <td>0</td>\n",
       "      <td>0</td>\n",
       "      <td>0</td>\n",
       "      <td>0</td>\n",
       "      <td>0</td>\n",
       "      <td>0</td>\n",
       "      <td>...</td>\n",
       "      <td>0</td>\n",
       "      <td>0</td>\n",
       "      <td>0</td>\n",
       "      <td>0</td>\n",
       "      <td>0</td>\n",
       "      <td>0</td>\n",
       "      <td>0</td>\n",
       "      <td>0</td>\n",
       "      <td>0</td>\n",
       "      <td>0</td>\n",
       "    </tr>\n",
       "    <tr>\n",
       "      <th>3</th>\n",
       "      <td>3</td>\n",
       "      <td>36</td>\n",
       "      <td>0</td>\n",
       "      <td>0</td>\n",
       "      <td>0</td>\n",
       "      <td>0</td>\n",
       "      <td>0</td>\n",
       "      <td>0</td>\n",
       "      <td>0</td>\n",
       "      <td>0</td>\n",
       "      <td>...</td>\n",
       "      <td>0</td>\n",
       "      <td>0</td>\n",
       "      <td>0</td>\n",
       "      <td>0</td>\n",
       "      <td>0</td>\n",
       "      <td>0</td>\n",
       "      <td>0</td>\n",
       "      <td>0</td>\n",
       "      <td>0</td>\n",
       "      <td>0</td>\n",
       "    </tr>\n",
       "    <tr>\n",
       "      <th>4</th>\n",
       "      <td>2</td>\n",
       "      <td>24</td>\n",
       "      <td>0</td>\n",
       "      <td>0</td>\n",
       "      <td>0</td>\n",
       "      <td>0</td>\n",
       "      <td>0</td>\n",
       "      <td>0</td>\n",
       "      <td>0</td>\n",
       "      <td>0</td>\n",
       "      <td>...</td>\n",
       "      <td>0</td>\n",
       "      <td>0</td>\n",
       "      <td>0</td>\n",
       "      <td>0</td>\n",
       "      <td>0</td>\n",
       "      <td>0</td>\n",
       "      <td>0</td>\n",
       "      <td>0</td>\n",
       "      <td>0</td>\n",
       "      <td>0</td>\n",
       "    </tr>\n",
       "  </tbody>\n",
       "</table>\n",
       "<p>5 rows × 45 columns</p>\n",
       "</div>"
      ],
      "text/plain": [
       "   qty  total  city_Baltimore  city_Boston  city_El Paso  city_Florence  \\\n",
       "0    1     12               0            0             0              0   \n",
       "1    7     84               0            0             0              0   \n",
       "2    4     48               0            0             0              0   \n",
       "3    3     36               0            0             0              0   \n",
       "4    2     24               0            0             0              0   \n",
       "\n",
       "   city_Le Mans  city_Lille  city_Los Angeles  city_Lyon  ...  \\\n",
       "0             0           0                 0          0  ...   \n",
       "1             0           0                 0          0  ...   \n",
       "2             0           0                 0          0  ...   \n",
       "3             0           0                 0          0  ...   \n",
       "4             0           0                 0          0  ...   \n",
       "\n",
       "   product_dsc_DGF  product_dsc_FFF  product_dsc_FRC  product_dsc_GDS  \\\n",
       "0                0                0                0                0   \n",
       "1                0                0                0                0   \n",
       "2                0                0                0                0   \n",
       "3                0                0                0                0   \n",
       "4                0                0                0                0   \n",
       "\n",
       "   product_dsc_ITC  product_dsc_SFS  product_dsc_SSD  product_dsc_VVV  \\\n",
       "0                0                0                0                0   \n",
       "1                0                0                0                0   \n",
       "2                0                0                0                0   \n",
       "3                0                0                0                0   \n",
       "4                0                0                0                0   \n",
       "\n",
       "   product_dsc_WES  product_dsc_WW  \n",
       "0                0               0  \n",
       "1                0               0  \n",
       "2                0               0  \n",
       "3                0               0  \n",
       "4                0               0  \n",
       "\n",
       "[5 rows x 45 columns]"
      ]
     },
     "execution_count": 5,
     "metadata": {},
     "output_type": "execute_result"
    }
   ],
   "source": [
    "# One Hot Encoding\n",
    "fluff = pd.get_dummies(df, drop_first=True).head()\n",
    "\n",
    "# drop-first removed: city_Austin, product_dsc_AAA, city2_NYC, and product2_ABC.\n",
    "fluff"
   ]
  },
  {
   "cell_type": "markdown",
   "metadata": {},
   "source": [
    "Even using the argument `drop_first=True` to discard the first category of each variable, we still get 45 variables."
   ]
  },
  {
   "cell_type": "code",
   "execution_count": 6,
   "metadata": {
    "button": false,
    "colab": {
     "base_uri": "https://localhost:8080/"
    },
    "id": "tlQpHOA9ZcYF",
    "new_sheet": false,
    "outputId": "e0cee7ef-7e1d-4f0a-a3a2-18c5d653ed6e",
    "pycharm": {
     "name": "#%%\n"
    },
    "run_control": {
     "read_only": false
    }
   },
   "outputs": [
    {
     "data": {
      "text/plain": [
       "Rome             145\n",
       "Paris            124\n",
       "NYC               47\n",
       "Lyon               3\n",
       "Naples             2\n",
       "Boston             2\n",
       "Milan              1\n",
       "Le Mans            1\n",
       "Nantes             1\n",
       "Nice               1\n",
       "Lille              1\n",
       "Raleigh            1\n",
       "Florence           1\n",
       "Venice             1\n",
       "Richmond           1\n",
       "Miami              1\n",
       "Austin             1\n",
       "El Paso            1\n",
       "Tulsa              1\n",
       "San Francisco      1\n",
       "Los Angeles        1\n",
       "Baltimore          1\n",
       "Pittsburgh         1\n",
       "St Dennis          1\n",
       "Name: city, dtype: int64"
      ]
     },
     "execution_count": 6,
     "metadata": {},
     "output_type": "execute_result"
    }
   ],
   "source": [
    "# Counting by city\n",
    "df.city.value_counts()\n",
    "# df.city.value_counts(normalize=True)  # if want to see %"
   ]
  },
  {
   "cell_type": "code",
   "execution_count": 7,
   "metadata": {
    "button": false,
    "colab": {
     "base_uri": "https://localhost:8080/"
    },
    "id": "p_EE1YoWbGGa",
    "new_sheet": false,
    "outputId": "eda7b0cf-a615-4843-9646-b48a4b698bf2",
    "pycharm": {
     "name": "#%%\n"
    },
    "run_control": {
     "read_only": false
    }
   },
   "outputs": [
    {
     "data": {
      "text/plain": [
       "ITC    148\n",
       "FRC    126\n",
       "ABC     47\n",
       "SSD      2\n",
       "WW       2\n",
       "CC       1\n",
       "GDS      1\n",
       "FFF      1\n",
       "DDS      1\n",
       "DDE      1\n",
       "DD       1\n",
       "CDE      1\n",
       "WES      1\n",
       "VVV      1\n",
       "BBB      1\n",
       "AAA      1\n",
       "DDF      1\n",
       "DDD      1\n",
       "DGF      1\n",
       "DFS      1\n",
       "SFS      1\n",
       "Name: product_dsc, dtype: int64"
      ]
     },
     "execution_count": 7,
     "metadata": {},
     "output_type": "execute_result"
    }
   ],
   "source": [
    "# Counting by product\n",
    "df.product_dsc.value_counts()"
   ]
  },
  {
   "cell_type": "markdown",
   "metadata": {},
   "source": [
    "We can see that there are only 3 cities and 3 products that make approx. 90% of the data. So, in cases like this, the simple solution proposed here is to use Pandas to reduce the number of categories, keeping only those top values as is and gather everything else under an \"other\" bucket."
   ]
  },
  {
   "cell_type": "code",
   "execution_count": 8,
   "metadata": {
    "button": false,
    "id": "IXq-Lqf4bPnV",
    "new_sheet": false,
    "pycharm": {
     "name": "#%%\n"
    },
    "run_control": {
     "read_only": false
    }
   },
   "outputs": [],
   "source": [
    "# LIST TOP 3\n",
    "city_top3 = df.groupby('city').city.count().nlargest(3).index\n",
    "# 'Rome', 'Paris', 'NYC'\n",
    "\n",
    "prod_top3 = df.groupby('product_dsc').product_dsc.count().nlargest(3).index\n",
    "# 'ITC', 'FRC', 'ABC'"
   ]
  },
  {
   "cell_type": "code",
   "execution_count": 9,
   "metadata": {
    "button": false,
    "id": "4_YAvEAPbc8e",
    "new_sheet": false,
    "pycharm": {
     "name": "#%%\n"
    },
    "run_control": {
     "read_only": false
    }
   },
   "outputs": [
    {
     "data": {
      "text/plain": [
       "0        NYC\n",
       "1        NYC\n",
       "2        NYC\n",
       "3      Other\n",
       "4      Other\n",
       "       ...  \n",
       "336    Paris\n",
       "337    Paris\n",
       "338    Paris\n",
       "339    Paris\n",
       "340    Paris\n",
       "Name: city2, Length: 341, dtype: object"
      ]
     },
     "execution_count": 9,
     "metadata": {},
     "output_type": "execute_result"
    }
   ],
   "source": [
    "# Keep top 3 as is and the rest as \"Other\"\n",
    "df['city2'] = df.city.where(df.city.isin(city_top3), other='Other')\n",
    "df['product2'] = df.product_dsc.where(df.product_dsc.isin(prod_top3), other='Other')\n",
    "\n",
    "df['city2']"
   ]
  },
  {
   "cell_type": "code",
   "execution_count": 10,
   "metadata": {},
   "outputs": [
    {
     "data": {
      "text/plain": [
       "0      ABC\n",
       "1      ABC\n",
       "2      ABC\n",
       "3      ABC\n",
       "4      ABC\n",
       "      ... \n",
       "336    FRC\n",
       "337    FRC\n",
       "338    FRC\n",
       "339    FRC\n",
       "340    FRC\n",
       "Name: product2, Length: 341, dtype: object"
      ]
     },
     "execution_count": 10,
     "metadata": {},
     "output_type": "execute_result"
    }
   ],
   "source": [
    "df['product2']"
   ]
  },
  {
   "cell_type": "markdown",
   "metadata": {},
   "source": [
    "Let's look at a sample of the resulting data so far."
   ]
  },
  {
   "cell_type": "code",
   "execution_count": 11,
   "metadata": {
    "button": false,
    "colab": {
     "base_uri": "https://localhost:8080/",
     "height": 237
    },
    "id": "72V6uBcscOTG",
    "new_sheet": false,
    "outputId": "2759fdc2-0226-4fd6-b021-ef6d502f1ee2",
    "pycharm": {
     "name": "#%%\n"
    },
    "run_control": {
     "read_only": false
    }
   },
   "outputs": [
    {
     "data": {
      "text/html": [
       "<div>\n",
       "<style scoped>\n",
       "    .dataframe tbody tr th:only-of-type {\n",
       "        vertical-align: middle;\n",
       "    }\n",
       "\n",
       "    .dataframe tbody tr th {\n",
       "        vertical-align: top;\n",
       "    }\n",
       "\n",
       "    .dataframe thead th {\n",
       "        text-align: right;\n",
       "    }\n",
       "</style>\n",
       "<table border=\"1\" class=\"dataframe\">\n",
       "  <thead>\n",
       "    <tr style=\"text-align: right;\">\n",
       "      <th></th>\n",
       "      <th>city</th>\n",
       "      <th>product_dsc</th>\n",
       "      <th>qty</th>\n",
       "      <th>total</th>\n",
       "      <th>city2</th>\n",
       "      <th>product2</th>\n",
       "    </tr>\n",
       "  </thead>\n",
       "  <tbody>\n",
       "    <tr>\n",
       "      <th>293</th>\n",
       "      <td>Paris</td>\n",
       "      <td>FRC</td>\n",
       "      <td>10</td>\n",
       "      <td>150</td>\n",
       "      <td>Paris</td>\n",
       "      <td>FRC</td>\n",
       "    </tr>\n",
       "    <tr>\n",
       "      <th>103</th>\n",
       "      <td>Rome</td>\n",
       "      <td>ITC</td>\n",
       "      <td>1</td>\n",
       "      <td>10</td>\n",
       "      <td>Rome</td>\n",
       "      <td>ITC</td>\n",
       "    </tr>\n",
       "    <tr>\n",
       "      <th>57</th>\n",
       "      <td>NYC</td>\n",
       "      <td>WW</td>\n",
       "      <td>6</td>\n",
       "      <td>42</td>\n",
       "      <td>NYC</td>\n",
       "      <td>Other</td>\n",
       "    </tr>\n",
       "    <tr>\n",
       "      <th>149</th>\n",
       "      <td>Rome</td>\n",
       "      <td>ITC</td>\n",
       "      <td>5</td>\n",
       "      <td>50</td>\n",
       "      <td>Rome</td>\n",
       "      <td>ITC</td>\n",
       "    </tr>\n",
       "    <tr>\n",
       "      <th>280</th>\n",
       "      <td>Paris</td>\n",
       "      <td>FRC</td>\n",
       "      <td>3</td>\n",
       "      <td>45</td>\n",
       "      <td>Paris</td>\n",
       "      <td>FRC</td>\n",
       "    </tr>\n",
       "    <tr>\n",
       "      <th>30</th>\n",
       "      <td>NYC</td>\n",
       "      <td>ABC</td>\n",
       "      <td>5</td>\n",
       "      <td>60</td>\n",
       "      <td>NYC</td>\n",
       "      <td>ABC</td>\n",
       "    </tr>\n",
       "  </tbody>\n",
       "</table>\n",
       "</div>"
      ],
      "text/plain": [
       "      city product_dsc  qty  total  city2 product2\n",
       "293  Paris         FRC   10    150  Paris      FRC\n",
       "103   Rome         ITC    1     10   Rome      ITC\n",
       "57     NYC          WW    6     42    NYC    Other\n",
       "149   Rome         ITC    5     50   Rome      ITC\n",
       "280  Paris         FRC    3     45  Paris      FRC\n",
       "30     NYC         ABC    5     60    NYC      ABC"
      ]
     },
     "execution_count": 11,
     "metadata": {},
     "output_type": "execute_result"
    }
   ],
   "source": [
    "df.sample(6)"
   ]
  },
  {
   "cell_type": "markdown",
   "metadata": {},
   "source": [
    "Next, we can just drop the old variables `city` and `product_dsc` and we're ready to use OHE again."
   ]
  },
  {
   "cell_type": "code",
   "execution_count": 12,
   "metadata": {
    "button": false,
    "id": "OmA8cIMTcXFF",
    "new_sheet": false,
    "pycharm": {
     "name": "#%%\n"
    },
    "run_control": {
     "read_only": false
    }
   },
   "outputs": [
    {
     "data": {
      "text/html": [
       "<div>\n",
       "<style scoped>\n",
       "    .dataframe tbody tr th:only-of-type {\n",
       "        vertical-align: middle;\n",
       "    }\n",
       "\n",
       "    .dataframe tbody tr th {\n",
       "        vertical-align: top;\n",
       "    }\n",
       "\n",
       "    .dataframe thead th {\n",
       "        text-align: right;\n",
       "    }\n",
       "</style>\n",
       "<table border=\"1\" class=\"dataframe\">\n",
       "  <thead>\n",
       "    <tr style=\"text-align: right;\">\n",
       "      <th></th>\n",
       "      <th>qty</th>\n",
       "      <th>total</th>\n",
       "      <th>city2</th>\n",
       "      <th>product2</th>\n",
       "    </tr>\n",
       "  </thead>\n",
       "  <tbody>\n",
       "    <tr>\n",
       "      <th>0</th>\n",
       "      <td>1</td>\n",
       "      <td>12</td>\n",
       "      <td>NYC</td>\n",
       "      <td>ABC</td>\n",
       "    </tr>\n",
       "    <tr>\n",
       "      <th>1</th>\n",
       "      <td>7</td>\n",
       "      <td>84</td>\n",
       "      <td>NYC</td>\n",
       "      <td>ABC</td>\n",
       "    </tr>\n",
       "    <tr>\n",
       "      <th>2</th>\n",
       "      <td>4</td>\n",
       "      <td>48</td>\n",
       "      <td>NYC</td>\n",
       "      <td>ABC</td>\n",
       "    </tr>\n",
       "    <tr>\n",
       "      <th>3</th>\n",
       "      <td>3</td>\n",
       "      <td>36</td>\n",
       "      <td>Other</td>\n",
       "      <td>ABC</td>\n",
       "    </tr>\n",
       "    <tr>\n",
       "      <th>4</th>\n",
       "      <td>2</td>\n",
       "      <td>24</td>\n",
       "      <td>Other</td>\n",
       "      <td>ABC</td>\n",
       "    </tr>\n",
       "  </tbody>\n",
       "</table>\n",
       "</div>"
      ],
      "text/plain": [
       "   qty  total  city2 product2\n",
       "0    1     12    NYC      ABC\n",
       "1    7     84    NYC      ABC\n",
       "2    4     48    NYC      ABC\n",
       "3    3     36  Other      ABC\n",
       "4    2     24  Other      ABC"
      ]
     },
     "execution_count": 12,
     "metadata": {},
     "output_type": "execute_result"
    }
   ],
   "source": [
    "# Drop old city and product\n",
    "df2 = df.drop(['city', 'product_dsc'], axis=1)\n",
    "df2.head()"
   ]
  },
  {
   "cell_type": "code",
   "execution_count": 13,
   "metadata": {
    "button": false,
    "colab": {
     "base_uri": "https://localhost:8080/",
     "height": 423
    },
    "id": "ddmW4LG2eSOt",
    "new_sheet": false,
    "outputId": "48ad8ece-0488-4b32-cdab-efe942999a69",
    "pycharm": {
     "name": "#%%\n"
    },
    "run_control": {
     "read_only": false
    }
   },
   "outputs": [
    {
     "data": {
      "text/plain": [
       "(341, 10)"
      ]
     },
     "execution_count": 13,
     "metadata": {},
     "output_type": "execute_result"
    }
   ],
   "source": [
    "aFrame = pd.get_dummies(df2)\n",
    "\n",
    "aFrame.shape  # yes, you can get shape from a dataframe :)"
   ]
  },
  {
   "cell_type": "code",
   "execution_count": 14,
   "metadata": {
    "button": false,
    "id": "Ni9goedLeUXE",
    "new_sheet": false,
    "pycharm": {
     "name": "#%%\n"
    },
    "run_control": {
     "read_only": false
    }
   },
   "outputs": [
    {
     "data": {
      "text/html": [
       "<div>\n",
       "<style scoped>\n",
       "    .dataframe tbody tr th:only-of-type {\n",
       "        vertical-align: middle;\n",
       "    }\n",
       "\n",
       "    .dataframe tbody tr th {\n",
       "        vertical-align: top;\n",
       "    }\n",
       "\n",
       "    .dataframe thead th {\n",
       "        text-align: right;\n",
       "    }\n",
       "</style>\n",
       "<table border=\"1\" class=\"dataframe\">\n",
       "  <thead>\n",
       "    <tr style=\"text-align: right;\">\n",
       "      <th></th>\n",
       "      <th>qty</th>\n",
       "      <th>total</th>\n",
       "      <th>city2_NYC</th>\n",
       "      <th>city2_Other</th>\n",
       "      <th>city2_Paris</th>\n",
       "      <th>city2_Rome</th>\n",
       "      <th>product2_ABC</th>\n",
       "      <th>product2_FRC</th>\n",
       "      <th>product2_ITC</th>\n",
       "      <th>product2_Other</th>\n",
       "    </tr>\n",
       "  </thead>\n",
       "  <tbody>\n",
       "    <tr>\n",
       "      <th>0</th>\n",
       "      <td>1</td>\n",
       "      <td>12</td>\n",
       "      <td>1</td>\n",
       "      <td>0</td>\n",
       "      <td>0</td>\n",
       "      <td>0</td>\n",
       "      <td>1</td>\n",
       "      <td>0</td>\n",
       "      <td>0</td>\n",
       "      <td>0</td>\n",
       "    </tr>\n",
       "    <tr>\n",
       "      <th>1</th>\n",
       "      <td>7</td>\n",
       "      <td>84</td>\n",
       "      <td>1</td>\n",
       "      <td>0</td>\n",
       "      <td>0</td>\n",
       "      <td>0</td>\n",
       "      <td>1</td>\n",
       "      <td>0</td>\n",
       "      <td>0</td>\n",
       "      <td>0</td>\n",
       "    </tr>\n",
       "    <tr>\n",
       "      <th>2</th>\n",
       "      <td>4</td>\n",
       "      <td>48</td>\n",
       "      <td>1</td>\n",
       "      <td>0</td>\n",
       "      <td>0</td>\n",
       "      <td>0</td>\n",
       "      <td>1</td>\n",
       "      <td>0</td>\n",
       "      <td>0</td>\n",
       "      <td>0</td>\n",
       "    </tr>\n",
       "    <tr>\n",
       "      <th>3</th>\n",
       "      <td>3</td>\n",
       "      <td>36</td>\n",
       "      <td>0</td>\n",
       "      <td>1</td>\n",
       "      <td>0</td>\n",
       "      <td>0</td>\n",
       "      <td>1</td>\n",
       "      <td>0</td>\n",
       "      <td>0</td>\n",
       "      <td>0</td>\n",
       "    </tr>\n",
       "    <tr>\n",
       "      <th>4</th>\n",
       "      <td>2</td>\n",
       "      <td>24</td>\n",
       "      <td>0</td>\n",
       "      <td>1</td>\n",
       "      <td>0</td>\n",
       "      <td>0</td>\n",
       "      <td>1</td>\n",
       "      <td>0</td>\n",
       "      <td>0</td>\n",
       "      <td>0</td>\n",
       "    </tr>\n",
       "  </tbody>\n",
       "</table>\n",
       "</div>"
      ],
      "text/plain": [
       "   qty  total  city2_NYC  city2_Other  city2_Paris  city2_Rome  product2_ABC  \\\n",
       "0    1     12          1            0            0           0             1   \n",
       "1    7     84          1            0            0           0             1   \n",
       "2    4     48          1            0            0           0             1   \n",
       "3    3     36          0            1            0           0             1   \n",
       "4    2     24          0            1            0           0             1   \n",
       "\n",
       "   product2_FRC  product2_ITC  product2_Other  \n",
       "0             0             0               0  \n",
       "1             0             0               0  \n",
       "2             0             0               0  \n",
       "3             0             0               0  \n",
       "4             0             0               0  "
      ]
     },
     "execution_count": 14,
     "metadata": {},
     "output_type": "execute_result"
    }
   ],
   "source": [
    "aFrame.head()"
   ]
  },
  {
   "cell_type": "markdown",
   "metadata": {},
   "source": [
    "Notice that we reduced the number of variables after OHE from 45 to only 10 columns!\n",
    "\n",
    "## Summary\n",
    "\n",
    "* One Hot Encoding is useful to transform categorical data into numbers.\n",
    "* Using OHE in a dataset with too many variable will create a wide dataset.\n",
    "* Too wide data can suffer with \"the Curse of Dimensionality\", putting the performance of the model in jeopardy.\n",
    "* A simple solution can be using Pandas `.groupby()`, `.nlargest()` and `.where()` to reduce the number of categories prior to OHE."
   ]
  }
 ],
 "metadata": {
  "colab": {
   "collapsed_sections": [
    "gZ6xOrWncoLt",
    "5VGjway0ctbt",
    "ywM0vqkkc00f",
    "yCaRaCUAsDpk",
    "dqnciX_wMTtE",
    "vilk_sQGJHkz",
    "eVyd1zjgg4jJ",
    "gD9ChPoxsPNE",
    "rlImXcfGSa-y",
    "bx6qPckGhoDY",
    "kvM7Vpr59Mxw",
    "2TF3I1LrtAyJ"
   ],
   "provenance": []
  },
  "kernelspec": {
   "display_name": "Python 3 (ipykernel)",
   "language": "python",
   "name": "python3"
  },
  "language_info": {
   "codemirror_mode": {
    "name": "ipython",
    "version": 3
   },
   "file_extension": ".py",
   "mimetype": "text/x-python",
   "name": "python",
   "nbconvert_exporter": "python",
   "pygments_lexer": "ipython3",
   "version": "3.9.13"
  }
 },
 "nbformat": 4,
 "nbformat_minor": 1
}
