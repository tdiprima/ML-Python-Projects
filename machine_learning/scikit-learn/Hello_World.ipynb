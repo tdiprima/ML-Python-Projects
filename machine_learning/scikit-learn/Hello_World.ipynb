{
 "cells": [
  {
   "cell_type": "markdown",
   "metadata": {},
   "source": [
    "## HELLO WORLD Program With SCIKIT LEARN\n",
    "\n",
    "[repo](https://github.com/parthvadhadiya/hello-world-program-in-Scikit-Learn),\n",
    "[article](https://medium.com/@parthvadhadiya424/hello-world-program-with-scikit-learn-a869beb55deb)\n",
    "\n",
    "Following is pipeline of model building in SK-Learn:\n",
    "\n",
    "### Import -> Initialize -> Fit(Train) -> Predict\n",
    "<br>"
   ]
  },
  {
   "cell_type": "code",
   "execution_count": 1,
   "metadata": {},
   "outputs": [],
   "source": [
    "import numpy as np"
   ]
  },
  {
   "cell_type": "markdown",
   "metadata": {},
   "source": [
    "### Loading Data-Set\n",
    "\n",
    "First we create a simple matrix in Numpy:"
   ]
  },
  {
   "cell_type": "code",
   "execution_count": 7,
   "metadata": {},
   "outputs": [
    {
     "name": "stdout",
     "output_type": "stream",
     "text": [
      "shape: (10, 5)\n",
      "\n",
      "random array: [[0.73300596 0.95212403 0.9102191  0.95025522 0.4545641 ]\n",
      " [0.63314637 0.04661544 0.75931578 0.98142014 0.9008036 ]\n",
      " [0.46639179 0.95367503 0.84668171 0.46853314 0.41802841]\n",
      " [0.24934605 0.50697892 0.83727587 0.3417669  0.34389248]\n",
      " [0.78316128 0.6964057  0.3606834  0.81410236 0.8713395 ]\n",
      " [0.42016431 0.13957179 0.0089049  0.21873519 0.79670351]\n",
      " [0.82632631 0.87254799 0.41272359 0.39557873 0.59178659]\n",
      " [0.27427864 0.72429084 0.35459739 0.21412522 0.04451131]\n",
      " [0.02992162 0.82528768 0.16373909 0.80278509 0.59682682]\n",
      " [0.08112299 0.46600549 0.67246546 0.13758648 0.18061462]]\n"
     ]
    }
   ],
   "source": [
    "# Create 10 samples with 5 feature-sets each\n",
    "X = np.random.random((10, 5))\n",
    "\n",
    "# Shape of X\n",
    "print(\"shape:\", X.shape)\n",
    "print(\"\\nrandom array:\", X)"
   ]
  },
  {
   "cell_type": "markdown",
   "metadata": {},
   "source": [
    "[Sparse Matrix Representation in Python](https://www.kdnuggets.com/2020/05/sparse-matrix-representation-python.html)\n",
    "\n",
    "Then we need to zero out a majority of the matrix elements, making it sparse (\"simplified\"):"
   ]
  },
  {
   "cell_type": "code",
   "execution_count": 11,
   "metadata": {},
   "outputs": [
    {
     "data": {
      "text/plain": [
       "array([[0.73300596, 0.95212403, 0.9102191 , 0.95025522, 0.        ],\n",
       "       [0.        , 0.        , 0.75931578, 0.98142014, 0.9008036 ],\n",
       "       [0.        , 0.95367503, 0.84668171, 0.        , 0.        ],\n",
       "       [0.        , 0.        , 0.83727587, 0.        , 0.        ],\n",
       "       [0.78316128, 0.        , 0.        , 0.81410236, 0.8713395 ],\n",
       "       [0.        , 0.        , 0.        , 0.        , 0.79670351],\n",
       "       [0.82632631, 0.87254799, 0.        , 0.        , 0.        ],\n",
       "       [0.        , 0.72429084, 0.        , 0.        , 0.        ],\n",
       "       [0.        , 0.82528768, 0.        , 0.80278509, 0.        ],\n",
       "       [0.        , 0.        , 0.        , 0.        , 0.        ]])"
      ]
     },
     "execution_count": 11,
     "metadata": {},
     "output_type": "execute_result"
    }
   ],
   "source": [
    "X[X < 0.7] = 0\n",
    "X"
   ]
  },
  {
   "cell_type": "code",
   "execution_count": 13,
   "metadata": {},
   "outputs": [
    {
     "name": "stdout",
     "output_type": "stream",
     "text": [
      "shape: (10,)\n"
     ]
    },
    {
     "data": {
      "text/plain": [
       "array(['M', 'F', 'M', 'M', 'M', 'F', 'M', 'F', 'M', 'F'], dtype='<U1')"
      ]
     },
     "execution_count": 13,
     "metadata": {},
     "output_type": "execute_result"
    }
   ],
   "source": [
    "# Create corresponding labels(M, F)\n",
    "y = np.array(['M','F','M','M','M','F','M','F','M','F'])\n",
    "\n",
    "# Shape of y\n",
    "print(\"shape:\", y.shape)\n",
    "y"
   ]
  },
  {
   "cell_type": "markdown",
   "metadata": {},
   "source": [
    "### Split Data-Set into Train Set And Test Set\n",
    "\n",
    "In every ML or DL program we perform **split -> train** and **test** dataset for evolution of our model.\n",
    "\n",
    "What is **evolution**? Measurement of how our model does after training.\n",
    "\n",
    "So we...\n",
    "\n",
    "1. **Split** our data set\n",
    "2. Perform **training** with `training-data` set\n",
    "3. Check **accuracy** of our model using `testing-data` set\n",
    "\n",
    "For splitting, we have awesome module called `train_test_split()`."
   ]
  },
  {
   "cell_type": "code",
   "execution_count": 14,
   "metadata": {},
   "outputs": [],
   "source": [
    "from sklearn.model_selection import train_test_split"
   ]
  },
  {
   "cell_type": "code",
   "execution_count": 18,
   "metadata": {},
   "outputs": [
    {
     "name": "stdout",
     "output_type": "stream",
     "text": [
      "X_train: (7, 5)\n",
      "X_test: (3, 5)\n",
      "y_train: (7,)\n",
      "y_test: (3,)\n",
      "\n",
      "X_train: [[0.         0.         0.         0.         0.        ]\n",
      " [0.         0.         0.75931578 0.98142014 0.9008036 ]\n",
      " [0.82632631 0.87254799 0.         0.         0.        ]\n",
      " [0.         0.72429084 0.         0.         0.        ]\n",
      " [0.         0.         0.83727587 0.         0.        ]\n",
      " [0.73300596 0.95212403 0.9102191  0.95025522 0.        ]\n",
      " [0.         0.         0.         0.         0.79670351]]\n",
      "\n",
      "X_test: [[0.         0.95367503 0.84668171 0.         0.        ]\n",
      " [0.         0.82528768 0.         0.80278509 0.        ]\n",
      " [0.78316128 0.         0.         0.81410236 0.8713395 ]]\n",
      "\n",
      "y_train: ['F' 'F' 'M' 'F' 'M' 'M' 'F']\n",
      "\n",
      "y_test: ['M' 'M' 'M']\n"
     ]
    }
   ],
   "source": [
    "X_train, X_test, y_train, y_test = train_test_split(X, y, random_state=0)\n",
    "\n",
    "print(\"X_train:\", X_train.shape)\n",
    "print(\"X_test:\", X_test.shape)\n",
    "print(\"y_train:\", y_train.shape)\n",
    "print(\"y_test:\", y_test.shape)\n",
    "\n",
    "print(\"\\nX_train:\", X_train)\n",
    "print(\"\\nX_test:\", X_test)\n",
    "print(\"\\ny_train:\", y_train)\n",
    "print(\"\\ny_test:\", y_test)"
   ]
  },
  {
   "cell_type": "markdown",
   "metadata": {},
   "source": [
    "### Initialize Models"
   ]
  },
  {
   "cell_type": "code",
   "execution_count": 20,
   "metadata": {},
   "outputs": [],
   "source": [
    "# Support vector machines (svm)\n",
    "from sklearn.svm import SVC\n",
    "svc = SVC(kernel='linear')"
   ]
  },
  {
   "cell_type": "code",
   "execution_count": 21,
   "metadata": {},
   "outputs": [],
   "source": [
    "# KNN\n",
    "from sklearn import neighbors\n",
    "knn = neighbors.KNeighborsClassifier(n_neighbors=4)"
   ]
  },
  {
   "cell_type": "code",
   "execution_count": 22,
   "metadata": {},
   "outputs": [],
   "source": [
    "# Naive Bayes \n",
    "from sklearn.naive_bayes import GaussianNB\n",
    "gnb = GaussianNB()"
   ]
  },
  {
   "cell_type": "code",
   "execution_count": 23,
   "metadata": {},
   "outputs": [],
   "source": [
    "# Principal Component Analysis (PCA) \n",
    "from sklearn.decomposition import PCA\n",
    "pca = PCA(n_components=0.95)"
   ]
  },
  {
   "cell_type": "code",
   "execution_count": 24,
   "metadata": {},
   "outputs": [],
   "source": [
    "# K-Means \n",
    "from sklearn.cluster import KMeans\n",
    "k_means = KMeans(n_clusters=4, random_state=0)"
   ]
  },
  {
   "cell_type": "markdown",
   "metadata": {},
   "source": [
    "### Fit Data Into Models\n",
    "\n",
    "Test 'em!  Test these different algorithms."
   ]
  },
  {
   "cell_type": "code",
   "execution_count": 25,
   "metadata": {},
   "outputs": [
    {
     "data": {
      "text/plain": [
       "SVC(kernel='linear')"
      ]
     },
     "execution_count": 25,
     "metadata": {},
     "output_type": "execute_result"
    }
   ],
   "source": [
    "svc.fit(X_train, y_train)"
   ]
  },
  {
   "cell_type": "code",
   "execution_count": 26,
   "metadata": {},
   "outputs": [
    {
     "data": {
      "text/plain": [
       "KNeighborsClassifier(n_neighbors=4)"
      ]
     },
     "execution_count": 26,
     "metadata": {},
     "output_type": "execute_result"
    }
   ],
   "source": [
    "knn.fit(X_train, y_train)"
   ]
  },
  {
   "cell_type": "code",
   "execution_count": 27,
   "metadata": {},
   "outputs": [
    {
     "data": {
      "text/plain": [
       "GaussianNB()"
      ]
     },
     "execution_count": 27,
     "metadata": {},
     "output_type": "execute_result"
    }
   ],
   "source": [
    "gnb.fit(X_train, y_train)"
   ]
  },
  {
   "cell_type": "code",
   "execution_count": 28,
   "metadata": {},
   "outputs": [
    {
     "data": {
      "text/plain": [
       "KMeans(n_clusters=4, random_state=0)"
      ]
     },
     "execution_count": 28,
     "metadata": {},
     "output_type": "execute_result"
    }
   ],
   "source": [
    "k_means.fit(X_train)\n"
   ]
  },
  {
   "cell_type": "code",
   "execution_count": 29,
   "metadata": {},
   "outputs": [],
   "source": [
    "pca_model = pca.fit_transform(X_train)\n"
   ]
  },
  {
   "cell_type": "markdown",
   "metadata": {},
   "source": [
    "### Prediction"
   ]
  },
  {
   "cell_type": "code",
   "execution_count": 30,
   "metadata": {},
   "outputs": [
    {
     "name": "stdout",
     "output_type": "stream",
     "text": [
      "['M' 'F' 'F']\n"
     ]
    }
   ],
   "source": [
    "pred = svc.predict(X_test)\n",
    "print(pred)"
   ]
  },
  {
   "cell_type": "code",
   "execution_count": 34,
   "metadata": {},
   "outputs": [
    {
     "name": "stdout",
     "output_type": "stream",
     "text": [
      "['M' 'F' 'F']\n"
     ]
    }
   ],
   "source": [
    "from warnings import simplefilter\n",
    "simplefilter(action='ignore', category=FutureWarning)\n",
    "\n",
    "pred = knn.predict(X_test)\n",
    "print(pred)"
   ]
  },
  {
   "cell_type": "code",
   "execution_count": 32,
   "metadata": {},
   "outputs": [
    {
     "name": "stdout",
     "output_type": "stream",
     "text": [
      "['M' 'M' 'F']\n"
     ]
    }
   ],
   "source": [
    "pred = gnb.predict(X_test)\n",
    "print(pred)"
   ]
  },
  {
   "cell_type": "code",
   "execution_count": 35,
   "metadata": {},
   "outputs": [
    {
     "name": "stdout",
     "output_type": "stream",
     "text": [
      "[1 1 0]\n"
     ]
    }
   ],
   "source": [
    "pred = k_means.predict(X_test)\n",
    "print(pred)"
   ]
  },
  {
   "cell_type": "markdown",
   "metadata": {},
   "source": [
    "# Dog vs cat classification\n",
    "\n",
    "* 3 images of dogs\n",
    "* 3 images of cats\n",
    "* 2 pixel values (x, y)\n",
    "\n",
    "See: Hello_World.py"
   ]
  },
  {
   "cell_type": "code",
   "execution_count": null,
   "metadata": {},
   "outputs": [],
   "source": []
  }
 ],
 "metadata": {
  "kernelspec": {
   "display_name": "Python 3 (ipykernel)",
   "language": "python",
   "name": "python3"
  },
  "language_info": {
   "codemirror_mode": {
    "name": "ipython",
    "version": 3
   },
   "file_extension": ".py",
   "mimetype": "text/x-python",
   "name": "python",
   "nbconvert_exporter": "python",
   "pygments_lexer": "ipython3",
   "version": "3.9.13"
  }
 },
 "nbformat": 4,
 "nbformat_minor": 2
}
