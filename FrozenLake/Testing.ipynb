{
 "cells": [
  {
   "cell_type": "markdown",
   "id": "0ad587e4",
   "metadata": {
    "button": false,
    "new_sheet": false,
    "run_control": {
     "read_only": false
    }
   },
   "source": [
    "# CartPole, Cliff, LunarLander"
   ]
  },
  {
   "cell_type": "code",
   "execution_count": 6,
   "id": "4d41bd02",
   "metadata": {
    "button": false,
    "new_sheet": false,
    "run_control": {
     "read_only": false
    }
   },
   "outputs": [],
   "source": [
    "import sys\n",
    "import numpy as np\n",
    "import gymgrid\n",
    "import gym\n",
    "from gym import wrappers\n",
    "from gym.utils.env_checker import check_env"
   ]
  },
  {
   "cell_type": "code",
   "execution_count": 2,
   "id": "df8cf7c5",
   "metadata": {
    "button": false,
    "new_sheet": false,
    "run_control": {
     "read_only": false
    }
   },
   "outputs": [
    {
     "name": "stderr",
     "output_type": "stream",
     "text": [
      "/usr/local/anaconda3/lib/python3.9/site-packages/gym/envs/registration.py:555: UserWarning: \u001b[33mWARN: The environment CartPole-v0 is out of date. You should consider upgrading to version `v1`.\u001b[0m\n",
      "  logger.warn(\n"
     ]
    }
   ],
   "source": [
    "# https://github.com/openai/gym/issues/762\n",
    "\n",
    "LR = 1e-3\n",
    "env = gym.make(\"CartPole-v0\", render_mode=\"human\")\n",
    "# gym(\"CartPole-v0\", render_mode=\"rgb_array\")\n",
    "\n",
    "env.reset()\n",
    "goal_steps = 500\n",
    "score_requirement = 50\n",
    "initial_games = 10000\n",
    "\n",
    "def some_random_games_first():\n",
    "    # Each of these is its own game.\n",
    "    for episode in range(5):\n",
    "        env.reset()\n",
    "        # this is each frame, up to 200... but we wont make it that far.\n",
    "        for t in range(200):\n",
    "            # This will display the environment\n",
    "            # Only display if you really want to see it.\n",
    "            # Takes much longer to display it.\n",
    "            env.render()\n",
    "\n",
    "            # This will just create a sample action in any environment.\n",
    "            # In this environment, the action can be 0 or 1, which is left or right\n",
    "            action = env.action_space.sample()\n",
    "\n",
    "            # this executes the environment with an action,\n",
    "            # and returns the observation of the environment,\n",
    "            # the reward, if the env is over, and other info.\n",
    "            # observation, reward, done, info = env.step(action)\n",
    "            observation, reward, done, truncated, info = env.step(action)\n",
    "            if done:\n",
    "                break\n",
    "\n",
    "\n",
    "some_random_games_first()\n",
    "\n",
    "env.close()"
   ]
  },
  {
   "cell_type": "code",
   "execution_count": 2,
   "id": "ca248dbe",
   "metadata": {
    "button": false,
    "new_sheet": false,
    "run_control": {
     "read_only": false
    }
   },
   "outputs": [],
   "source": [
    "# LOL this spins in a circle and exits stage right\n",
    "env1 = gym.make('CartPole-v1', render_mode=\"human\")\n",
    "env1.reset()\n",
    "\n",
    "for i in range(1000):\n",
    "    env1.render()\n",
    "\n",
    "    observation, reward, done, truncated, info = env1.step(env1.action_space.sample())\n",
    "    if done:\n",
    "        break\n",
    "\n",
    "env1.close()\n"
   ]
  },
  {
   "cell_type": "code",
   "execution_count": 2,
   "id": "fd67dfce",
   "metadata": {
    "button": false,
    "new_sheet": false,
    "run_control": {
     "read_only": false
    }
   },
   "outputs": [
    {
     "name": "stdout",
     "output_type": "stream",
     "text": [
      "(400, 600, 3)\n"
     ]
    }
   ],
   "source": [
    "env3 = gym.make(\"CartPole-v1\", render_mode='rgb_array')\n",
    "observation = env3.reset()\n",
    "# print(\"\\nObservation:\", observation)\n",
    "\n",
    "screen = env3.render()\n",
    "# print(\"\\nScreen:\", screen)\n",
    "\n",
    "print(screen.shape)  # should output (400, 600, 3)\n",
    "\n",
    "env3.close()"
   ]
  },
  {
   "cell_type": "code",
   "execution_count": 5,
   "id": "21209b20",
   "metadata": {
    "button": false,
    "new_sheet": false,
    "run_control": {
     "read_only": false
    }
   },
   "outputs": [
    {
     "name": "stderr",
     "output_type": "stream",
     "text": [
      "/usr/local/anaconda3/lib/python3.9/site-packages/gym/wrappers/record_video.py:75: UserWarning: \u001b[33mWARN: Overwriting existing videos at /Users/tdiprima/Documents/trabajo/kraddy/FrozenLake/video folder (try specifying a different `video_folder` for the `RecordVideo` wrapper if this is not desired)\u001b[0m\n",
      "  logger.warn(\n"
     ]
    },
    {
     "name": "stdout",
     "output_type": "stream",
     "text": [
      "Moviepy - Building video /Users/tdiprima/Documents/trabajo/kraddy/FrozenLake/video/rl-video-episode-0.mp4.\n",
      "Moviepy - Writing video /Users/tdiprima/Documents/trabajo/kraddy/FrozenLake/video/rl-video-episode-0.mp4\n",
      "\n"
     ]
    },
    {
     "name": "stderr",
     "output_type": "stream",
     "text": [
      "                                                                                                                             "
     ]
    },
    {
     "name": "stdout",
     "output_type": "stream",
     "text": [
      "Moviepy - Done !\n",
      "Moviepy - video ready /Users/tdiprima/Documents/trabajo/kraddy/FrozenLake/video/rl-video-episode-0.mp4\n"
     ]
    },
    {
     "name": "stderr",
     "output_type": "stream",
     "text": [
      "\r"
     ]
    }
   ],
   "source": [
    "# pip install moviepy\n",
    "from gym.wrappers.record_video import RecordVideo\n",
    "\n",
    "env2 = gym.make('CartPole-v1', render_mode=\"rgb_array\")\n",
    "env2 = RecordVideo(env2, './video',  episode_trigger = lambda episode_number: True)\n",
    "\n",
    "env2.reset()\n",
    "env2.close()"
   ]
  },
  {
   "cell_type": "markdown",
   "id": "3aa9f7cd",
   "metadata": {
    "button": false,
    "new_sheet": false,
    "run_control": {
     "read_only": false
    }
   },
   "source": [
    "## Lunar Lander - box2d\n",
    "\n",
    "`pip install box2d` fails\n",
    "\n",
    "`pip install box2d pygame` fails\n",
    "\n",
    "`pip install gym[box2d]`\n",
    "\n",
    "zsh: no matches found: gym[box2d]\n",
    "\n",
    "OK, so switch to bash\n",
    "\n",
    "`pip install gym[box2d] pygame`\n",
    "\n",
    "At least it finished, but with warnings and stuff.\n",
    "\n",
    "Still couldn't get the darn thing to work, even running python from bash.\n",
    "\n",
    "## Solution\n",
    "\n",
    "Simply don't `import box2d`.  I'm leaving it there for now, because closing the game window is a problem."
   ]
  },
  {
   "cell_type": "code",
   "execution_count": 8,
   "id": "27213e57",
   "metadata": {
    "button": false,
    "new_sheet": false,
    "run_control": {
     "read_only": false
    }
   },
   "outputs": [],
   "source": [
    "# https://stackoverflow.com/questions/71973392/importerror-cannot-import-rendering-from-gym-envs-classic-control\n",
    "# https://www.gymlibrary.dev/content/basic_usage/\n",
    "# https://github.com/openai/gym/issues/2795\n",
    "import gym\n",
    "\n",
    "env4 = gym.make(\"LunarLander-v2\", render_mode=\"human\")\n",
    "env4.action_space.seed(42)\n",
    "\n",
    "observation, info = env4.reset(seed=42)\n",
    "\n",
    "for _ in range(1000):\n",
    "    observation, reward, terminated, truncated, info = env4.step(env4.action_space.sample())\n",
    "\n",
    "    if terminated or truncated:\n",
    "        observation, info = env4.reset()\n",
    "\n",
    "env4.close()\n"
   ]
  },
  {
   "cell_type": "code",
   "execution_count": 7,
   "id": "b80a7f73",
   "metadata": {
    "button": false,
    "new_sheet": false,
    "run_control": {
     "read_only": false
    }
   },
   "outputs": [
    {
     "data": {
      "text/plain": [
       "<OrderEnforcing<PassiveEnvChecker<Cliff<cliff-v0>>>>"
      ]
     },
     "execution_count": 7,
     "metadata": {},
     "output_type": "execute_result"
    }
   ],
   "source": [
    "# https://github.com/openai/gym/issues/2779\n",
    "\n",
    "env5 = gym.make('cliff-v0')\n",
    "\n",
    "env5"
   ]
  },
  {
   "cell_type": "markdown",
   "id": "a93425b2",
   "metadata": {
    "button": false,
    "new_sheet": false,
    "run_control": {
     "read_only": false
    }
   },
   "source": [
    "## Close pygame window"
   ]
  },
  {
   "cell_type": "code",
   "execution_count": null,
   "id": "1fbc29cc",
   "metadata": {
    "button": false,
    "new_sheet": false,
    "run_control": {
     "read_only": false
    }
   },
   "outputs": [],
   "source": [
    "# A video thing has to be running first.\n",
    "# This worked before.  Crap.  TODO: Read.\n",
    "\n",
    "# https://stackoverflow.com/questions/19882415/closing-pygame-window\n",
    "\n",
    "# import pygame\n",
    "# import time\n",
    "\n",
    "# running = True\n",
    "# while running:\n",
    "#     for event in pygame.event.get():\n",
    "#         if event.type == pygame.QUIT:\n",
    "#             running = False\n",
    "\n",
    "# pygame.display.quit()\n",
    "# pygame.quit()\n",
    "# exit()"
   ]
  },
  {
   "cell_type": "code",
   "execution_count": null,
   "id": "ad1963fe",
   "metadata": {
    "button": false,
    "new_sheet": false,
    "run_control": {
     "read_only": false
    }
   },
   "outputs": [],
   "source": []
  }
 ],
 "metadata": {
  "kernelspec": {
   "display_name": "Python 3 (ipykernel)",
   "language": "python",
   "name": "python3"
  },
  "language_info": {
   "codemirror_mode": {
    "name": "ipython",
    "version": 3
   },
   "file_extension": ".py",
   "mimetype": "text/x-python",
   "name": "python",
   "nbconvert_exporter": "python",
   "pygments_lexer": "ipython3",
   "version": "3.9.13"
  }
 },
 "nbformat": 4,
 "nbformat_minor": 5
}
