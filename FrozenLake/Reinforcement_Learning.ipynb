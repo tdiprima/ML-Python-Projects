{
 "cells": [
  {
   "cell_type": "markdown",
   "id": "546e939f",
   "metadata": {},
   "source": [
    "# Reinforcement Learning\n",
    "\n",
    "The next and final topic in this course covers *Reinforcement Learning*.\n",
    "\n",
    "<mark>Don't get too excited, things have changed, and need to be figured out.</mark>\n",
    "\n",
    "## Q-Learning Example\n",
    "\n",
    "For this example we will use the Q-Learning algorithm to train an agent to navigate a popular environment from the [Open AI Gym](https://gym.openai.com/)."
   ]
  },
  {
   "cell_type": "code",
   "execution_count": 1,
   "id": "34712382",
   "metadata": {},
   "outputs": [
    {
     "name": "stdout",
     "output_type": "stream",
     "text": [
      "16\n",
      "4\n"
     ]
    }
   ],
   "source": [
    "import gym  # all you have to do to import and use open ai gym!\n",
    "\n",
    "# 'FrozenLake-v0' is deprecated, BTW\n",
    "env = gym.make('FrozenLake-v1')  # we are going to use the FrozenLake environment\n",
    "\n",
    "print(env.observation_space.n)  # get number of states\n",
    "print(env.action_space.n)  # get number of actions"
   ]
  },
  {
   "cell_type": "code",
   "execution_count": 2,
   "id": "86b7a083",
   "metadata": {},
   "outputs": [
    {
     "name": "stderr",
     "output_type": "stream",
     "text": [
      "/usr/local/anaconda3/lib/python3.9/site-packages/gym/envs/toy_text/frozen_lake.py:271: UserWarning: \u001b[33mWARN: You are calling render method without specifying any render mode. You can specify the render_mode at initialization, e.g. gym(\"FrozenLake-v1\", render_mode=\"rgb_array\")\u001b[0m\n",
      "  logger.warn(\n"
     ]
    }
   ],
   "source": [
    "env.reset()  # reset environment to default state\n",
    "\n",
    "action = env.action_space.sample()  # get a random action \n",
    "\n",
    "# new_state, reward, done, info = env.step(action)  # take action, notice it returns information about the action\n",
    "next_state, reward, done, truncated, info = env.step(action)\n",
    "\n",
    "env.render()  # render the GUI for the environment\n"
   ]
  },
  {
   "cell_type": "markdown",
   "id": "f77272ad",
   "metadata": {},
   "source": [
    "## Frozen Lake Environment\n",
    "\n",
    "The goal of the agent is to navigate a frozen lake and find the Goal without falling through the ice (render the environment above to see an example).\n",
    "\n",
    "There are:\n",
    "\n",
    "    16 states (one for each square)\n",
    "    4 possible actions (LEFT, RIGHT, DOWN, UP)\n",
    "    4 different types of blocks (F: frozen, H: hole, S: start, G: goal)\n",
    "\n",
    "## Building the Q-Table\n",
    "\n",
    "The first thing we need to do is build an empty Q-Table that we can use to store and update our values.\n"
   ]
  },
  {
   "cell_type": "code",
   "execution_count": 3,
   "id": "6773c65d",
   "metadata": {},
   "outputs": [],
   "source": [
    "import gym\n",
    "import numpy as np\n",
    "\n",
    "env = gym.make('FrozenLake-v1')\n",
    "STATES = env.observation_space.n\n",
    "ACTIONS = env.action_space.n\n",
    "\n",
    "Q = np.zeros((STATES, ACTIONS))  # create a matrix with all 0 values\n",
    "\n",
    "EPISODES = 2000  # how many times to run the environment from the beginning\n",
    "MAX_STEPS = 100  # max number of steps allowed for each run of environment\n",
    "\n",
    "LEARNING_RATE = 0.81  # learning rate\n",
    "GAMMA = 0.96\n",
    "\n",
    "RENDER = False  # if you want to see training set to true\n",
    "\n",
    "epsilon = 0.9\n"
   ]
  },
  {
   "cell_type": "code",
   "execution_count": 4,
   "id": "1a7d8d2f",
   "metadata": {},
   "outputs": [
    {
     "name": "stdout",
     "output_type": "stream",
     "text": [
      "\n",
      "Line: 18\n",
      "\n",
      "Type: <class 'IndexError'>\n",
      "\n",
      "Message: only integers, slices (`:`), ellipsis (`...`), numpy.newaxis (`None`) and integer or boolean arrays are valid indices\n"
     ]
    }
   ],
   "source": [
    "import sys\n",
    "\n",
    "rewards = []\n",
    "\n",
    "try:\n",
    "\n",
    "    for episode in range(EPISODES):\n",
    "\n",
    "        state = env.reset()\n",
    "        for _ in range(MAX_STEPS):\n",
    "\n",
    "            if RENDER:\n",
    "                env.render()\n",
    "\n",
    "            if np.random.uniform(0, 1) < epsilon:\n",
    "                action = env.action_space.sample()\n",
    "            else:\n",
    "                action = np.argmax(Q[state, :])  # Nope!\n",
    "\n",
    "            # next_state, reward, done, _ = env.step(action)  # Nope!\n",
    "            next_state, reward, done, truncated, info = env.step(action)\n",
    "\n",
    "            Q[state, action] = Q[state, action] + LEARNING_RATE * (\n",
    "                reward + GAMMA * np.max(Q[next_state, :]) - Q[state, action])\n",
    "\n",
    "            state = next_state\n",
    "\n",
    "            if done:\n",
    "                rewards.append(reward)\n",
    "                epsilon -= 0.001\n",
    "                break  # reached goal\n",
    "\n",
    "    print(Q)\n",
    "    print(f\"Average reward: {sum(rewards) / len(rewards)}:\")\n",
    "    # and now we can see our Q values                \n",
    "except Exception as ex:\n",
    "    exc_type, exc_obj, exc_tb = sys.exc_info()\n",
    "    print(f\"\\nLine: {exc_tb.tb_lineno}\")\n",
    "    print(f\"\\nType: {exc_type}\")\n",
    "    print(f\"\\nMessage: {exc_obj}\")\n"
   ]
  },
  {
   "cell_type": "code",
   "execution_count": 5,
   "id": "ecbc5f01",
   "metadata": {},
   "outputs": [
    {
     "data": {
      "image/png": "[encoded data removed]",
      "text/plain": [
       "<Figure size 640x480 with 1 Axes>"
      ]
     },
     "metadata": {},
     "output_type": "display_data"
    }
   ],
   "source": [
    "# we can plot the training progress and see how the agent improved\n",
    "import matplotlib.pyplot as plt\n",
    "\n",
    "\n",
    "def get_average(values):\n",
    "    return sum(values) / len(values)\n",
    "\n",
    "\n",
    "avg_rewards = []\n",
    "for i in range(0, len(rewards), 100):\n",
    "    avg_rewards.append(get_average(rewards[i:i + 100]))\n",
    "\n",
    "plt.plot(avg_rewards)\n",
    "plt.ylabel('average reward')\n",
    "plt.xlabel('episodes (100\\'s)')\n",
    "plt.show()\n"
   ]
  },
  {
   "cell_type": "markdown",
   "id": "bfd22059",
   "metadata": {},
   "source": [
    "## Sources\n",
    "1. Violante, Andre. “Simple Reinforcement Learning: Q-Learning.” Medium, Towards Data Science, 1 July 2019, https://towardsdatascience.com/simple-reinforcement-learning-q-learning-fcddc4b6fe56.\n",
    "\n",
    "2. Openai. “Openai/Gym.” GitHub, https://github.com/openai/gym/wiki/FrozenLake-v0."
   ]
  },
  {
   "cell_type": "code",
   "execution_count": null,
   "id": "8c66154e",
   "metadata": {},
   "outputs": [],
   "source": []
  }
 ],
 "metadata": {
  "kernelspec": {
   "display_name": "Python 3 (ipykernel)",
   "language": "python",
   "name": "python3"
  },
  "language_info": {
   "codemirror_mode": {
    "name": "ipython",
    "version": 3
   },
   "file_extension": ".py",
   "mimetype": "text/x-python",
   "name": "python",
   "nbconvert_exporter": "python",
   "pygments_lexer": "ipython3",
   "version": "3.9.13"
  }
 },
 "nbformat": 4,
 "nbformat_minor": 5
}
