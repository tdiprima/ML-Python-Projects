{
 "cells": [
  {
   "cell_type": "markdown",
   "id": "10451939",
   "metadata": {},
   "source": [
    "# Q-learning algorithm\n",
    "\n",
    "[Train an AI to solve the Frozen Lake environment](https://mlabonne.github.io/blog/reinforcement%20learning/q-learning/frozen%20lake/gym/tutorial/2022/02/13/Q_learning.html)\n"
   ]
  },
  {
   "cell_type": "code",
   "execution_count": 1,
   "id": "9a1742f1",
   "metadata": {},
   "outputs": [
    {
     "data": {
      "text/plain": [
       "'0.26.2'"
      ]
     },
     "execution_count": 1,
     "metadata": {},
     "output_type": "execute_result"
    }
   ],
   "source": [
    "import gymgrid # pip install gymgrid\n",
    "import numpy as np\n",
    "import gym\n",
    "\n",
    "gym.__version__"
   ]
  },
  {
   "cell_type": "code",
   "execution_count": 2,
   "id": "203667f2",
   "metadata": {},
   "outputs": [
    {
     "name": "stderr",
     "output_type": "stream",
     "text": [
      "/usr/local/anaconda3/lib/python3.9/site-packages/gym/envs/toy_text/frozen_lake.py:271: UserWarning: \u001b[33mWARN: You are calling render method without specifying any render mode. You can specify the render_mode at initialization, e.g. gym(\"FrozenLake-v1\", render_mode=\"rgb_array\")\u001b[0m\n",
      "  logger.warn(\n"
     ]
    }
   ],
   "source": [
    "environment = gym.make(\"FrozenLake-v1\", is_slippery=False)\n",
    "environment.reset()  # (0, {'prob': 1})\n",
    "environment.render()  # warning: \"render mode\"\n",
    "\n",
    "# You can specify the render_mode at initialization, e.g. gym(\"FrozenLake-v1\", render_mode=\"rgb_array\")\n",
    "\n",
    "# So I do what it says, and I get an error #:(\n",
    "# gym(\"FrozenLake-v1\", render_mode=\"rgb_array\")  # Error: \"module object is not callable\"\n"
   ]
  },
  {
   "cell_type": "markdown",
   "id": "49696bfd",
   "metadata": {},
   "source": [
    "## Reinforcement Learning"
   ]
  },
  {
   "cell_type": "code",
   "execution_count": 3,
   "id": "66046d15",
   "metadata": {},
   "outputs": [
    {
     "data": {
      "text/plain": [
       "array([[0., 0., 0., 0.],\n",
       "       [0., 0., 0., 0.],\n",
       "       [0., 0., 0., 0.],\n",
       "       [0., 0., 0., 0.],\n",
       "       [0., 0., 0., 0.],\n",
       "       [0., 0., 0., 0.],\n",
       "       [0., 0., 0., 0.],\n",
       "       [0., 0., 0., 0.],\n",
       "       [0., 0., 0., 0.],\n",
       "       [0., 0., 0., 0.],\n",
       "       [0., 0., 0., 0.],\n",
       "       [0., 0., 0., 0.],\n",
       "       [0., 0., 0., 0.],\n",
       "       [0., 0., 0., 0.],\n",
       "       [0., 0., 0., 0.],\n",
       "       [0., 0., 0., 0.]])"
      ]
     },
     "execution_count": 3,
     "metadata": {},
     "output_type": "execute_result"
    }
   ],
   "source": [
    "# 16 positions, states.\n",
    "# 4 actions; left, right, up, down.\n",
    "# Our table has the following dimensions:\n",
    "# (rows x columns) = (states x actions) = (16 x 4)\n",
    "qtable = np.zeros((16, 4))\n",
    "\n",
    "# Alternatively, the gym library can also directly g\n",
    "# give us the number of states and actions using \n",
    "# \"env.observation_space.n\" and \"env.action_space.n\"\n",
    "nb_states = environment.observation_space.n  # = 16\n",
    "nb_actions = environment.action_space.n      # = 4\n",
    "qtable = np.zeros((nb_states, nb_actions))\n",
    "\n",
    "# Let's see how it looks\n",
    "qtable"
   ]
  },
  {
   "cell_type": "code",
   "execution_count": 4,
   "id": "1a244753",
   "metadata": {},
   "outputs": [
    {
     "data": {
      "text/plain": [
       "(16, 4)"
      ]
     },
     "execution_count": 4,
     "metadata": {},
     "output_type": "execute_result"
    }
   ],
   "source": [
    "qtable.shape"
   ]
  },
  {
   "cell_type": "code",
   "execution_count": 12,
   "id": "73f04e74",
   "metadata": {},
   "outputs": [
    {
     "data": {
      "text/plain": [
       "3"
      ]
     },
     "execution_count": 12,
     "metadata": {},
     "output_type": "execute_result"
    }
   ],
   "source": [
    "# Randomly choose an action\n",
    "environment.action_space.sample()"
   ]
  },
  {
   "cell_type": "markdown",
   "id": "333dd0d0",
   "metadata": {},
   "source": [
    "◀️ LEFT = 0\n",
    "\n",
    "🔽 DOWN = 1\n",
    "\n",
    "▶️ RIGHT = 2\n",
    "\n",
    "🔼 UP = 3"
   ]
  },
  {
   "cell_type": "code",
   "execution_count": 6,
   "id": "c9c7739d",
   "metadata": {},
   "outputs": [],
   "source": [
    "# Move 2 to the right\n",
    "environment.step(2)\n",
    "\n",
    "# Check if the agent moved\n",
    "environment.render()\n"
   ]
  },
  {
   "cell_type": "code",
   "execution_count": 8,
   "id": "a3e2b2c7",
   "metadata": {},
   "outputs": [
    {
     "name": "stdout",
     "output_type": "stream",
     "text": [
      "Reward = 0.0\n"
     ]
    }
   ],
   "source": [
    "action = environment.action_space.sample()\n",
    "\n",
    "# 2. Implement this action and move the agent in the desired direction\n",
    "new_state, reward, done, _, info = environment.step(action)\n",
    "\n",
    "# Display the results (reward and map)\n",
    "environment.render()\n",
    "\n",
    "print(f'Reward = {reward}')"
   ]
  },
  {
   "cell_type": "code",
   "execution_count": 9,
   "id": "88dd2155",
   "metadata": {},
   "outputs": [],
   "source": [
    "environment.render()  # WHY IS IT NOT RENDERING?"
   ]
  },
  {
   "cell_type": "code",
   "execution_count": null,
   "id": "9b4407b8",
   "metadata": {},
   "outputs": [],
   "source": []
  }
 ],
 "metadata": {
  "kernelspec": {
   "display_name": "Python 3 (ipykernel)",
   "language": "python",
   "name": "python3"
  },
  "language_info": {
   "codemirror_mode": {
    "name": "ipython",
    "version": 3
   },
   "file_extension": ".py",
   "mimetype": "text/x-python",
   "name": "python",
   "nbconvert_exporter": "python",
   "pygments_lexer": "ipython3",
   "version": "3.9.13"
  }
 },
 "nbformat": 4,
 "nbformat_minor": 5
}
