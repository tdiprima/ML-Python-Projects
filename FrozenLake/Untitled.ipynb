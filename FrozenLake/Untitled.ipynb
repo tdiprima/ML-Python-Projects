{
 "cells": [
  {
   "cell_type": "code",
   "execution_count": 1,
   "id": "a144f1bb",
   "metadata": {},
   "outputs": [
    {
     "name": "stderr",
     "output_type": "stream",
     "text": [
      "/usr/local/anaconda3/lib/python3.9/site-packages/gym/envs/registration.py:555: UserWarning: \u001b[33mWARN: The environment CartPole-v0 is out of date. You should consider upgrading to version `v1`.\u001b[0m\n",
      "  logger.warn(\n",
      "/usr/local/anaconda3/lib/python3.9/site-packages/gym/envs/classic_control/cartpole.py:211: UserWarning: \u001b[33mWARN: You are calling render method without specifying any render mode. You can specify the render_mode at initialization, e.g. gym(\"CartPole-v0\", render_mode=\"rgb_array\")\u001b[0m\n",
      "  gym.logger.warn(\n"
     ]
    }
   ],
   "source": [
    "# https://github.com/openai/gym/issues/762\n",
    "\n",
    "import gym\n",
    "\n",
    "LR = 1e-3\n",
    "env = gym.make(\"CartPole-v0\")\n",
    "# gym(\"CartPole-v0\", render_mode=\"rgb_array\")\n",
    "\n",
    "env.reset()\n",
    "goal_steps = 500\n",
    "score_requirement = 50\n",
    "initial_games = 10000\n",
    "\n",
    "def some_random_games_first():\n",
    "    # Each of these is its own game.\n",
    "    for episode in range(5):\n",
    "        env.reset()\n",
    "        # this is each frame, up to 200...but we wont make it that far.\n",
    "        for t in range(200):\n",
    "            # This will display the environment\n",
    "            # Only display if you really want to see it.\n",
    "            # Takes much longer to display it.\n",
    "            env.render()\n",
    "\n",
    "            # This will just create a sample action in any environment.\n",
    "            # In this environment, the action can be 0 or 1, which is left or right\n",
    "            action = env.action_space.sample()\n",
    "\n",
    "            # this executes the environment with an action,\n",
    "            # and returns the observation of the environment,\n",
    "            # the reward, if the env is over, and other info.\n",
    "            # observation, reward, done, info = env.step(action)\n",
    "            observation, reward, done, truncated, info = env.step(action)\n",
    "            if done:\n",
    "                break\n",
    "\n",
    "\n",
    "some_random_games_first()\n"
   ]
  },
  {
   "cell_type": "code",
   "execution_count": 2,
   "id": "6e4c961a",
   "metadata": {},
   "outputs": [
    {
     "name": "stderr",
     "output_type": "stream",
     "text": [
      "/usr/local/anaconda3/lib/python3.9/site-packages/gym/envs/classic_control/cartpole.py:211: UserWarning: \u001b[33mWARN: You are calling render method without specifying any render mode. You can specify the render_mode at initialization, e.g. gym(\"CartPole-v1\", render_mode=\"rgb_array\")\u001b[0m\n",
      "  gym.logger.warn(\n",
      "/usr/local/anaconda3/lib/python3.9/site-packages/gym/envs/classic_control/cartpole.py:177: UserWarning: \u001b[33mWARN: You are calling 'step()' even though this environment has already returned terminated = True. You should always call 'reset()' once you receive 'terminated = True' -- any further steps are undefined behavior.\u001b[0m\n",
      "  logger.warn(\n"
     ]
    }
   ],
   "source": [
    "import gym\n",
    "\n",
    "env1 = gym.make('CartPole-v1')\n",
    "env1.reset()\n",
    "\n",
    "for i in range(1000):\n",
    "    env1.step(env1.action_space.sample())\n",
    "    env1.render()\n"
   ]
  },
  {
   "cell_type": "code",
   "execution_count": 6,
   "id": "19a5c729",
   "metadata": {},
   "outputs": [
    {
     "name": "stdout",
     "output_type": "stream",
     "text": [
      "<class 'TypeError'>\n",
      "__init__() got an unexpected keyword argument 'mode'\n",
      "Line: 6\n"
     ]
    }
   ],
   "source": [
    "import sys\n",
    "\n",
    "import gym\n",
    "\n",
    "try:\n",
    "    env2 = gym.make(\"CartPole-v0\", mode=\"rgb_array\")\n",
    "    observation = env2.reset()\n",
    "    rendered = env2.render()\n",
    "except Exception as e:\n",
    "    exc_type, exc_obj, exc_tb = sys.exc_info()\n",
    "    print(exc_type)\n",
    "    print(exc_obj)\n",
    "    print(\"Line:\", exc_tb.tb_lineno)\n"
   ]
  },
  {
   "cell_type": "code",
   "execution_count": 12,
   "id": "c9318c81",
   "metadata": {},
   "outputs": [
    {
     "name": "stdout",
     "output_type": "stream",
     "text": [
      "None\n"
     ]
    }
   ],
   "source": [
    "import gym\n",
    "\n",
    "env3 = gym.make(\"CartPole-v0\")\n",
    "observation = env3.reset()\n",
    "# screen = env3.render(mode='rgb_array')\n",
    "screen = env3.render()\n",
    "\n",
    "print(screen)\n",
    "\n",
    "if screen != None:\n",
    "    print(screen.shape)  # should output (400, 600, 3)\n"
   ]
  },
  {
   "cell_type": "code",
   "execution_count": 15,
   "id": "3450d4e7",
   "metadata": {},
   "outputs": [
    {
     "name": "stdout",
     "output_type": "stream",
     "text": [
      "<class 'AttributeError'>\n",
      "module 'gym.wrappers' has no attribute 'Monitor'\n",
      "Line: 6\n"
     ]
    }
   ],
   "source": [
    "import gym\n",
    "from gym import wrappers\n",
    "\n",
    "try:\n",
    "    env4 = gym.make(\"CartPole-v0\")\n",
    "    env4 = wrappers.Monitor(env4, \"./gym-results\", force=True)\n",
    "    observation = env4.reset()\n",
    "\n",
    "    # Render the environment and get an RGB array\n",
    "    viewer = env4.render(mode='rgb_array')\n",
    "    screen = viewer.get_array()\n",
    "\n",
    "    print(screen.shape)  # should output (400, 600, 3)\n",
    "\n",
    "except Exception as e:\n",
    "    exc_type, exc_obj, exc_tb = sys.exc_info()\n",
    "    print(exc_type)\n",
    "    print(exc_obj)\n",
    "    print(\"Line:\", exc_tb.tb_lineno)\n"
   ]
  },
  {
   "cell_type": "code",
   "execution_count": 18,
   "id": "e54d6ba0",
   "metadata": {},
   "outputs": [
    {
     "name": "stdout",
     "output_type": "stream",
     "text": [
      "<class 'ImportError'>\n",
      "cannot import name 'Monitor' from 'gym.wrappers' (/usr/local/anaconda3/lib/python3.9/site-packages/gym/wrappers/__init__.py)\n",
      "Line: 4\n"
     ]
    }
   ],
   "source": [
    "import gym\n",
    "\n",
    "try:\n",
    "    from gym.wrappers import Monitor\n",
    "    from gym.wrappers.monitoring.video_recorder import VideoRecorder\n",
    "\n",
    "    env5 = gym.make(\"CartPole-v0\")\n",
    "    video_path = \"./gym-results/video.mp4\"\n",
    "\n",
    "    # Wrap the env5ironment to record a video of the episode\n",
    "    env5 = Monitor(env5, video_path, force=True, video_callable=lambda episode: True)\n",
    "    env5.reset()\n",
    "\n",
    "    # Render the environment and record the video\n",
    "    recorder = VideoRecorder(env5, path=video_path)\n",
    "    recorder.capture_frame()\n",
    "    recorder.close()\n",
    "except Exception as e:\n",
    "    exc_type, exc_obj, exc_tb = sys.exc_info()\n",
    "    print(exc_type)\n",
    "    print(exc_obj)\n",
    "    print(\"Line:\", exc_tb.tb_lineno)"
   ]
  },
  {
   "cell_type": "code",
   "execution_count": 20,
   "id": "d4a7b012",
   "metadata": {},
   "outputs": [
    {
     "data": {
      "text/plain": [
       "(array([ 0.02440079,  0.00865965,  0.00215178, -0.04304148], dtype=float32),\n",
       " {})"
      ]
     },
     "execution_count": 20,
     "metadata": {},
     "output_type": "execute_result"
    }
   ],
   "source": [
    "# pip install moviepy\n",
    "from gym.wrappers.record_video import RecordVideo\n",
    "\n",
    "env6 = gym.make('CartPole-v1', render_mode=\"rgb_array\")\n",
    "env6 = RecordVideo(env6, './video',  episode_trigger = lambda episode_number: True)\n",
    "env6.reset()\n"
   ]
  },
  {
   "cell_type": "code",
   "execution_count": 22,
   "id": "15fa6c61",
   "metadata": {},
   "outputs": [
    {
     "name": "stdout",
     "output_type": "stream",
     "text": [
      "<class 'ImportError'>\n",
      "cannot import name 'rendering' from 'gym.envs.classic_control' (/usr/local/anaconda3/lib/python3.9/site-packages/gym/envs/classic_control/__init__.py)\n",
      "Line: 6\n"
     ]
    }
   ],
   "source": [
    "import gymgrid\n",
    "import gym\n",
    "import numpy as np\n",
    "\n",
    "try:\n",
    "    from gym.envs.classic_control import rendering\n",
    "\n",
    "    env7 = gym.make(\"CartPole-v0\")\n",
    "    observation = env7.reset()\n",
    "\n",
    "    # Create a rendering window and set it as the active context\n",
    "    viewer = rendering.SimpleImageViewer()\n",
    "    viewer.window.set_as_current()\n",
    "\n",
    "    # Render the environment and get an RGB array\n",
    "    env7.render()\n",
    "    screen = viewer.get_image()\n",
    "\n",
    "    print(screen.shape)  # should output (400, 600, 3)\n",
    "\n",
    "    # Close the rendering window\n",
    "    viewer.close()\n",
    "except Exception as e:\n",
    "    exc_type, exc_obj, exc_tb = sys.exc_info()\n",
    "    print(exc_type)\n",
    "    print(exc_obj)\n",
    "    print(\"Line:\", exc_tb.tb_lineno)"
   ]
  },
  {
   "cell_type": "code",
   "execution_count": 24,
   "id": "8c1a3daf",
   "metadata": {},
   "outputs": [
    {
     "name": "stdout",
     "output_type": "stream",
     "text": [
      "<class 'ModuleNotFoundError'>\n",
      "No module named 'box2d'\n",
      "Line: 7\n"
     ]
    }
   ],
   "source": [
    "# https://stackoverflow.com/questions/71973392/importerror-cannot-import-rendering-from-gym-envs-classic-control\n",
    "\n",
    "# https://www.gymlibrary.dev/content/basic_usage/\n",
    "import gym\n",
    "\n",
    "try:\n",
    "    import box2d\n",
    "\n",
    "    env8 = gym.make(\"LunarLander-v2\", render_mode=\"human\")\n",
    "    env8.action_space.seed(42)\n",
    "\n",
    "    observation, info = env8.reset(seed=42)\n",
    "\n",
    "    for _ in range(1000):\n",
    "        observation, reward, terminated, truncated, info = env8.step(env8.action_space.sample())\n",
    "\n",
    "        if terminated or truncated:\n",
    "            observation, info = env8.reset()\n",
    "\n",
    "    env8.close()\n",
    "\n",
    "except Exception as e:\n",
    "    exc_type, exc_obj, exc_tb = sys.exc_info()\n",
    "    print(exc_type)\n",
    "    print(exc_obj)\n",
    "    print(\"Line:\", exc_tb.tb_lineno)"
   ]
  },
  {
   "cell_type": "markdown",
   "id": "1a430ebf",
   "metadata": {},
   "source": [
    "pip install gym[box2d]\n",
    "\n",
    "zsh: no matches found: gym[box2d]\n",
    "\n",
    "pip install box2d     \n",
    "\n",
    "Collecting box2d\n",
    "  Downloading Box2D-2.3.2.tar.gz\n",
    "\n",
    "Running setup.py install for box2d did not run successfully.\n",
    "\n",
    "error: command 'swig' failed: No such file or directory"
   ]
  },
  {
   "cell_type": "code",
   "execution_count": 27,
   "id": "a28bafdc",
   "metadata": {},
   "outputs": [
    {
     "name": "stderr",
     "output_type": "stream",
     "text": [
      "/usr/local/anaconda3/lib/python3.9/site-packages/gym/utils/env_checker.py:277: UserWarning: \u001b[33mWARN: The environment (<TimeLimit<OrderEnforcing<PassiveEnvChecker<CartPoleEnv<CartPole-v1>>>>>) is different from the unwrapped version (<CartPoleEnv<CartPole-v1>>). This could effect the environment checker as the environment most likely has a wrapper applied to it. We recommend using the raw environment for `check_env` using `env.unwrapped`.\u001b[0m\n",
      "  logger.warn(\n"
     ]
    }
   ],
   "source": [
    "# SOMETHING FINALLY RENDERED!!!!!\n",
    "\n",
    "from gym.utils.env_checker import check_env\n",
    "import gym\n",
    "\n",
    "env9 = gym.make(\"CartPole-v1\", render_mode=\"human\")\n",
    "\n",
    "check_env(env9)"
   ]
  },
  {
   "cell_type": "code",
   "execution_count": 26,
   "id": "681c97a2",
   "metadata": {},
   "outputs": [
    {
     "data": {
      "text/plain": [
       "<OrderEnforcing<PassiveEnvChecker<Cliff<cliff-v0>>>>"
      ]
     },
     "execution_count": 26,
     "metadata": {},
     "output_type": "execute_result"
    }
   ],
   "source": [
    "# https://github.com/openai/gym/issues/2779\n",
    "\n",
    "import gymgrid\n",
    "import numpy as np\n",
    "import gym\n",
    "\n",
    "env10 = gym.make('cliff-v0')\n",
    "\n",
    "env10"
   ]
  },
  {
   "cell_type": "code",
   "execution_count": null,
   "id": "fc4fd015",
   "metadata": {},
   "outputs": [],
   "source": []
  }
 ],
 "metadata": {
  "kernelspec": {
   "display_name": "Python 3 (ipykernel)",
   "language": "python",
   "name": "python3"
  },
  "language_info": {
   "codemirror_mode": {
    "name": "ipython",
    "version": 3
   },
   "file_extension": ".py",
   "mimetype": "text/x-python",
   "name": "python",
   "nbconvert_exporter": "python",
   "pygments_lexer": "ipython3",
   "version": "3.9.13"
  }
 },
 "nbformat": 4,
 "nbformat_minor": 5
}
