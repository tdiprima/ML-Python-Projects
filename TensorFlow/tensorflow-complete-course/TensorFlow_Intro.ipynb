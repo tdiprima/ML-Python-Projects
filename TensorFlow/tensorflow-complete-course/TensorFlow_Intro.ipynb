{
 "cells": [
  {
   "cell_type": "markdown",
   "metadata": {
    "button": false,
    "id": "F7ThfbiQl96l",
    "new_sheet": false,
    "run_control": {
     "read_only": false
    }
   },
   "source": [
    "# TensorFlow\n",
    "\n",
    "```sh\n",
    "# Install\n",
    "pip install tensorflow\n",
    "```"
   ]
  },
  {
   "cell_type": "markdown",
   "metadata": {
    "button": false,
    "id": "JYQWyAJ2mez6",
    "new_sheet": false,
    "run_control": {
     "read_only": false
    }
   },
   "source": [
    "If you have a CUDA enabled GPU, you can install the GPU version of TensorFlow.\n",
    "\n",
    "[And maybe some other stuff](https://www.tensorflow.org/install/gpu) \n",
    "\n",
    "```sh\n",
    "pip install tensorflow-gpu\n",
    "```"
   ]
  },
  {
   "cell_type": "markdown",
   "metadata": {
    "button": false,
    "id": "JJjNMaSClWhg",
    "new_sheet": false,
    "run_control": {
     "read_only": false
    }
   },
   "source": [
    "## Importing TensorFlow"
   ]
  },
  {
   "cell_type": "code",
   "execution_count": 1,
   "metadata": {
    "button": false,
    "id": "4N7XbNDVY8P3",
    "new_sheet": false,
    "run_control": {
     "read_only": false
    }
   },
   "outputs": [
    {
     "name": "stderr",
     "output_type": "stream",
     "text": [
      "2023-02-17 12:13:47.127912: I tensorflow/core/platform/cpu_feature_guard.cc:193] This TensorFlow binary is optimized with oneAPI Deep Neural Network Library (oneDNN) to use the following CPU instructions in performance-critical operations:  AVX2 FMA\n",
      "To enable them in other operations, rebuild TensorFlow with the appropriate compiler flags.\n"
     ]
    },
    {
     "name": "stdout",
     "output_type": "stream",
     "text": [
      "2.11.0\n"
     ]
    }
   ],
   "source": [
    "import tensorflow as tf\n",
    "# print(tf.__version__)\n",
    "print(tf.version.VERSION)"
   ]
  },
  {
   "cell_type": "markdown",
   "metadata": {
    "button": false,
    "id": "duDj86TfWFof",
    "new_sheet": false,
    "run_control": {
     "read_only": false
    }
   },
   "source": [
    "## Tensors \n",
    "\n",
    "Are vectors and matrices. (https://www.tensorflow.org/guide/tensor)\n",
    "\n",
    "Each tensor represents a partialy defined computation that will eventually produce a value.\n",
    "\n",
    "TensorFlow programs work by building a graph of Tensor objects that details how tensors are related.\n",
    "\n",
    "### Each tensor has a data type and a shape.\n",
    "\n",
    "**Data Types Include**: `float32, int32, string` and others.\n",
    "\n",
    "**Shape**: Represents the dimension of data."
   ]
  },
  {
   "cell_type": "markdown",
   "metadata": {
    "button": false,
    "id": "TAk6QhGUwQRt",
    "new_sheet": false,
    "run_control": {
     "read_only": false
    }
   },
   "source": [
    "## Creating Tensors\n",
    "\n",
    "Define the value of the **tensor** and the **datatype**, and you're good to go!\n",
    "\n",
    "[full list of datatypes](https://www.tensorflow.org/api_docs/python/tf/dtypes/DType?version=stable)"
   ]
  },
  {
   "cell_type": "code",
   "execution_count": 2,
   "metadata": {
    "button": false,
    "id": "epGskXdjZHzu",
    "new_sheet": false,
    "run_control": {
     "read_only": false
    }
   },
   "outputs": [
    {
     "name": "stdout",
     "output_type": "stream",
     "text": [
      "<tf.Variable 'Variable:0' shape=() dtype=string, numpy=b'this is a string'>\n",
      "<tf.Variable 'Variable:0' shape=() dtype=int32, numpy=324>\n",
      "<tf.Variable 'Variable:0' shape=() dtype=float32, numpy=3.567>\n"
     ]
    },
    {
     "name": "stderr",
     "output_type": "stream",
     "text": [
      "2023-02-17 12:14:00.613127: I tensorflow/core/platform/cpu_feature_guard.cc:193] This TensorFlow binary is optimized with oneAPI Deep Neural Network Library (oneDNN) to use the following CPU instructions in performance-critical operations:  AVX2 FMA\n",
      "To enable them in other operations, rebuild TensorFlow with the appropriate compiler flags.\n"
     ]
    }
   ],
   "source": [
    "string = tf.Variable(\"this is a string\", tf.string) \n",
    "number = tf.Variable(324, tf.int16)\n",
    "floating = tf.Variable(3.567, tf.float64)\n",
    "\n",
    "# These tensors have a shape of 1, which means they're a \"scalar\" - one value.  Versus vector value & matrices.\n",
    "print(string)\n",
    "print(number)\n",
    "print(floating)"
   ]
  },
  {
   "cell_type": "markdown",
   "metadata": {
    "button": false,
    "id": "D0_H71HMaE-5",
    "new_sheet": false,
    "run_control": {
     "read_only": false
    }
   },
   "source": [
    "## Rank [Degree] of Tensors\n",
    "\n",
    "The number of dimensions involved in the tensor. What we created above is a *tensor of rank 0*, also known as a scalar.\n",
    "\n",
    "0 dimensionality; one value.  Versus an array."
   ]
  },
  {
   "cell_type": "code",
   "execution_count": 3,
   "metadata": {
    "button": false,
    "id": "hX_Cc5IfjQ6-",
    "new_sheet": false,
    "run_control": {
     "read_only": false
    }
   },
   "outputs": [
    {
     "name": "stdout",
     "output_type": "stream",
     "text": [
      "One list, one array, one dimension; a vector:\n",
      " <tf.Variable 'Variable:0' shape=(1,) dtype=string, numpy=array([b'Test'], dtype=object)>\n",
      "\n",
      "Lists inside of a list, a matrix:\n",
      " <tf.Variable 'Variable:0' shape=(2, 2) dtype=string, numpy=\n",
      "array([[b'test', b'ok'],\n",
      "       [b'test', b'yes']], dtype=object)>\n"
     ]
    }
   ],
   "source": [
    "rank1_tensor = tf.Variable([\"Test\"], tf.string)\n",
    "rank2_tensor = tf.Variable([[\"test\", \"ok\"], [\"test\", \"yes\"]], tf.string)\n",
    "\n",
    "print(\"One list, one array, one dimension; a vector:\\n\", rank1_tensor)\n",
    "print(\"\\nLists inside of a list, a matrix:\\n\", rank2_tensor)\n",
    "# Deepest level of a nested list is the rank"
   ]
  },
  {
   "cell_type": "markdown",
   "metadata": {
    "button": false,
    "id": "55zuGMc7nHjC",
    "new_sheet": false,
    "run_control": {
     "read_only": false
    }
   },
   "source": [
    "**To determine the rank** of a tensor we can call the following method."
   ]
  },
  {
   "cell_type": "code",
   "execution_count": 4,
   "metadata": {
    "button": false,
    "colab": {
     "base_uri": "https://localhost:8080/",
     "height": 34
    },
    "id": "Zrj0rAWLnMNv",
    "new_sheet": false,
    "outputId": "b8b34a8c-fc6e-40c6-9fd6-294d1253631e",
    "run_control": {
     "read_only": false
    }
   },
   "outputs": [
    {
     "data": {
      "text/plain": [
       "<tf.Tensor: shape=(), dtype=int32, numpy=2>"
      ]
     },
     "execution_count": 4,
     "metadata": {},
     "output_type": "execute_result"
    }
   ],
   "source": [
    "tf.rank(rank2_tensor)"
   ]
  },
  {
   "cell_type": "code",
   "execution_count": 5,
   "metadata": {
    "button": false,
    "id": "hTv4Gz67pQbx",
    "new_sheet": false,
    "run_control": {
     "read_only": false
    }
   },
   "outputs": [
    {
     "data": {
      "text/plain": [
       "<tf.Tensor: shape=(), dtype=int32, numpy=1>"
      ]
     },
     "execution_count": 5,
     "metadata": {},
     "output_type": "execute_result"
    }
   ],
   "source": [
    "tf.rank(rank1_tensor)"
   ]
  },
  {
   "cell_type": "markdown",
   "metadata": {
    "run_control": {}
   },
   "source": [
    "### Tip!\n",
    "\n",
    "If it says: `Can't convert non-rectangular Python sequence to tensor`, it means you screwed up the number of elements somewhere."
   ]
  },
  {
   "cell_type": "code",
   "execution_count": 6,
   "metadata": {
    "run_control": {}
   },
   "outputs": [
    {
     "data": {
      "text/plain": [
       "<tf.Tensor: shape=(), dtype=int32, numpy=0>"
      ]
     },
     "execution_count": 6,
     "metadata": {},
     "output_type": "execute_result"
    }
   ],
   "source": [
    "tf.rank(number)"
   ]
  },
  {
   "cell_type": "markdown",
   "metadata": {
    "button": false,
    "id": "RaVrANK8q21q",
    "new_sheet": false,
    "run_control": {
     "read_only": false
    }
   },
   "source": [
    "## Shape of Tensors\n",
    "\n",
    "How many items we have in each dimension.\n",
    "\n",
    "2 elements in the 1st dimension, 2 elements in the 2nd dimension:"
   ]
  },
  {
   "cell_type": "code",
   "execution_count": 7,
   "metadata": {
    "button": false,
    "id": "L_NRXsFOraYa",
    "new_sheet": false,
    "run_control": {
     "read_only": false
    }
   },
   "outputs": [
    {
     "data": {
      "text/plain": [
       "TensorShape([2, 2])"
      ]
     },
     "execution_count": 7,
     "metadata": {},
     "output_type": "execute_result"
    }
   ],
   "source": [
    "rank2_tensor.shape"
   ]
  },
  {
   "cell_type": "code",
   "execution_count": 8,
   "metadata": {},
   "outputs": [
    {
     "data": {
      "text/plain": [
       "TensorShape([1])"
      ]
     },
     "execution_count": 8,
     "metadata": {},
     "output_type": "execute_result"
    }
   ],
   "source": [
    "rank1_tensor.shape # Because it's a rank 1, we only get 1 number"
   ]
  },
  {
   "cell_type": "markdown",
   "metadata": {
    "button": false,
    "id": "wVDmLJeFs086",
    "new_sheet": false,
    "run_control": {
     "read_only": false
    }
   },
   "source": [
    "## Changing Shape\n",
    "\n",
    "The number of elements of a tensor is the product of the sizes of all its shapes. There are often many shapes that have the same number of elements, making it convient to be able to change the shape of a tensor.\n",
    "\n",
    "The example below shows how to change the shape of a tensor."
   ]
  },
  {
   "cell_type": "code",
   "execution_count": 9,
   "metadata": {
    "button": false,
    "id": "dZ8Rbs2xtNqj",
    "new_sheet": false,
    "run_control": {
     "read_only": false
    }
   },
   "outputs": [
    {
     "name": "stdout",
     "output_type": "stream",
     "text": [
      "tensor1: tf.Tensor(\n",
      "[[[1. 1. 1.]\n",
      "  [1. 1. 1.]]], shape=(1, 2, 3), dtype=float32)\n",
      "\n",
      "tensor2: tf.Tensor(\n",
      "[[[1.]\n",
      "  [1.]\n",
      "  [1.]]\n",
      "\n",
      " [[1.]\n",
      "  [1.]\n",
      "  [1.]]], shape=(2, 3, 1), dtype=float32)\n",
      "\n",
      "tensor3: tf.Tensor(\n",
      "[[1. 1.]\n",
      " [1. 1.]\n",
      " [1. 1.]], shape=(3, 2), dtype=float32)\n"
     ]
    }
   ],
   "source": [
    "tensor1 = tf.ones([1,2,3])  # tf.ones() creates a shape [1,2,3] tensor full of ones\n",
    "tensor2 = tf.reshape(tensor1, [2,3,1])  # reshape existing data to shape [2,3,1]\n",
    "tensor3 = tf.reshape(tensor2, [3, -1])  # -1 tells the tensor to calculate the size of the dimension in that place\n",
    "                                        # this will reshape the tensor to [3,2]\n",
    "                                                                             \n",
    "# The number of elements in the reshaped tensor MUST match the number in the original\n",
    "\n",
    "print(\"tensor1:\", tensor1)\n",
    "print(\"\\ntensor2:\", tensor2)\n",
    "print(\"\\ntensor3:\", tensor3)\n",
    "# Notice the changes in shape"
   ]
  },
  {
   "cell_type": "markdown",
   "metadata": {
    "run_control": {}
   },
   "source": [
    "`tensor1` (1, 2, 3) has 1 interior list, and 2 lists inside of that list, and 3 elements in each of those lists.\n",
    "\n",
    "```json\n",
    "[\n",
    "  [\n",
    "    [1, 1, 1],\n",
    "    [1, 1, 1]\n",
    "  ]\n",
    "]\n",
    "```"
   ]
  },
  {
   "cell_type": "markdown",
   "metadata": {
    "run_control": {}
   },
   "source": [
    "`tensor2` (2, 3, 1) we have 2 lists, inside of those we have 3 lists, and 1 element inside each of those lists.\n",
    "\n",
    "```json\n",
    "[\n",
    "  [\n",
    "    [1], [1], [1]\n",
    "  ],\n",
    "  [\n",
    "    [1], [1], [1]\n",
    "  ]\n",
    "]\n",
    "```"
   ]
  },
  {
   "cell_type": "markdown",
   "metadata": {
    "run_control": {}
   },
   "source": [
    "`tensor3` with the `-1` means: *you* figure it out!\n",
    "\n",
    "3 * 2 = 6\n",
    "\n",
    "(3, 2) means we have 3 lists in there, with 2 things in each list.\n",
    "\n",
    "```json\n",
    "[\n",
    "  [1, 1],\n",
    "  [1, 1],\n",
    "  [1, 1]\n",
    "]\n",
    "```"
   ]
  },
  {
   "cell_type": "markdown",
   "metadata": {
    "button": false,
    "id": "q88pJucBolsp",
    "new_sheet": false,
    "run_control": {
     "read_only": false
    }
   },
   "source": [
    "### <span style=\"color:blue\">Slicing Tensors</span>\n",
    "\n",
    "<span style=\"color:blue\">The slice operator can be used on tensors to select specific axes or elements.\n",
    "\n",
    "<span style=\"color:blue\">Example:</span>\n",
    "\n",
    "```py\n",
    "tensor[dim1, dim2, dim3]\n",
    "```\n"
   ]
  },
  {
   "cell_type": "code",
   "execution_count": 10,
   "metadata": {
    "button": false,
    "id": "b0YrD-hRqD-W",
    "new_sheet": false,
    "run_control": {
     "read_only": false
    }
   },
   "outputs": [
    {
     "name": "stdout",
     "output_type": "stream",
     "text": [
      "rank: tf.Tensor(2, shape=(), dtype=int32)\n",
      "\n",
      "shape: (4, 5)\n"
     ]
    }
   ],
   "source": [
    "# Creating a 2D tensor\n",
    "matrix = [\n",
    "  [1, 2, 3, 4, 5],\n",
    "  [6, 7, 8, 9, 10],\n",
    "  [11, 12, 13, 14, 15],\n",
    "  [16, 17, 18, 19, 20]\n",
    "]\n",
    "\n",
    "tensor = tf.Variable(matrix, dtype=tf.int32) \n",
    "print(\"rank:\", tf.rank(tensor))\n",
    "print(\"\\nshape:\", tensor.shape)"
   ]
  },
  {
   "cell_type": "code",
   "execution_count": 14,
   "metadata": {
    "button": false,
    "id": "Wd85uGI7qyfC",
    "new_sheet": false,
    "run_control": {
     "read_only": false
    }
   },
   "outputs": [
    {
     "name": "stdout",
     "output_type": "stream",
     "text": [
      "\n",
      "3rd element: tf.Tensor(3, shape=(), dtype=int32)\n",
      "\n",
      "1st row: tf.Tensor([1 2 3 4 5], shape=(5,), dtype=int32)\n",
      "\n",
      "1st column: tf.Tensor([ 1  6 11 16], shape=(4,), dtype=int32)\n",
      "\n",
      "rows 2 and 4: tf.Tensor(\n",
      "[[ 6  7  8  9 10]\n",
      " [16 17 18 19 20]], shape=(2, 5), dtype=int32)\n",
      "\n",
      "1st column, rows 2 and 3: tf.Tensor([ 6 11], shape=(2,), dtype=int32)\n"
     ]
    }
   ],
   "source": [
    "# Now let's select some different rows and columns from our tensor\n",
    "\n",
    "three = tensor[0, 2]      # selects the 3rd element from the 1st row\n",
    "print(\"\\n3rd element:\", three)  # -> 3\n",
    "\n",
    "row1 = tensor[0]          # selects the first row\n",
    "print(\"\\n1st row:\", row1)\n",
    "\n",
    "column1 = tensor[:, 0]    # selects the first column\n",
    "print(\"\\n1st column:\", column1)\n",
    "\n",
    "row_2_and_4 = tensor[1::2]  # selects second and fourth row\n",
    "print(\"\\nrows 2 and 4:\", row_2_and_4)\n",
    "\n",
    "column_1_in_row_2_and_3 = tensor[1:3, 0]\n",
    "print(\"\\n1st column, rows 2 and 3:\", column_1_in_row_2_and_3)"
   ]
  },
  {
   "cell_type": "markdown",
   "metadata": {
    "button": false,
    "id": "UU4MMhB_rxvz",
    "new_sheet": false,
    "run_control": {
     "read_only": false
    }
   },
   "source": [
    "## Types of Tensors\n",
    "\n",
    "- Variable\n",
    "- Constant\n",
    "- Placeholder\n",
    "- SparseTensor\n",
    "\n",
    "With the execption of ```Variable``` all these tensors are immutable.\n",
    "\n",
    "We use the Variable tensor when we want to change the value of our tensor."
   ]
  },
  {
   "cell_type": "markdown",
   "metadata": {
    "run_control": {}
   },
   "source": [
    "## Evaluating tensors\n",
    "\n",
    "```py\n",
    "with tf.session() as sess:  # Creates session, uses default graph\n",
    "    tensor.eval()           # \"tensor\" is the name of your tensor\n",
    "```"
   ]
  },
  {
   "cell_type": "markdown",
   "metadata": {
    "button": false,
    "id": "F2OoXbe7aSVl",
    "new_sheet": false,
    "run_control": {
     "read_only": false
    }
   },
   "source": [
    "# Sources\n",
    "Most of the information is taken direclty from the TensorFlow website which can be found below.\n",
    "\n",
    "https://www.tensorflow.org/guide/tensor"
   ]
  },
  {
   "cell_type": "code",
   "execution_count": null,
   "metadata": {
    "run_control": {}
   },
   "outputs": [],
   "source": []
  }
 ],
 "metadata": {
  "colab": {
   "name": "TensorFlow-Introduction.ipynb",
   "provenance": []
  },
  "kernelspec": {
   "display_name": "Python 3 (ipykernel)",
   "language": "python",
   "name": "python3"
  },
  "language_info": {
   "codemirror_mode": {
    "name": "ipython",
    "version": 3
   },
   "file_extension": ".py",
   "mimetype": "text/x-python",
   "name": "python",
   "nbconvert_exporter": "python",
   "pygments_lexer": "ipython3",
   "version": "3.9.13"
  }
 },
 "nbformat": 4,
 "nbformat_minor": 1
}
