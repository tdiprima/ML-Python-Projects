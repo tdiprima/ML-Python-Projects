{
 "cells": [
  {
   "cell_type": "code",
   "execution_count": 1,
   "id": "dfa9891d",
   "metadata": {},
   "outputs": [],
   "source": [
    "# https://datagy.io/python-print-objects-attributes/\n",
    "import pprint"
   ]
  },
  {
   "cell_type": "code",
   "execution_count": 2,
   "id": "e26b5ca7",
   "metadata": {},
   "outputs": [],
   "source": [
    "class Dog:\n",
    "    def __init__(self, name, age, puppies):\n",
    "        self.name = name\n",
    "        self.age = age\n",
    "        self.puppies = puppies\n",
    "\n",
    "    def birthday(self):\n",
    "        self.age += 1\n",
    "\n",
    "    def have_puppies(self, number_puppies):\n",
    "        self.have_puppies += number_puppies"
   ]
  },
  {
   "cell_type": "code",
   "execution_count": 3,
   "id": "c2c1849c",
   "metadata": {},
   "outputs": [],
   "source": [
    "# Create instance\n",
    "teddy = Dog(name='Teddy', age=3, puppies=0)"
   ]
  },
  {
   "cell_type": "code",
   "execution_count": 4,
   "id": "9db7704d",
   "metadata": {},
   "outputs": [
    {
     "data": {
      "text/plain": [
       "3"
      ]
     },
     "execution_count": 4,
     "metadata": {},
     "output_type": "execute_result"
    }
   ],
   "source": [
    "# Teddy's age:\n",
    "teddy.age"
   ]
  },
  {
   "cell_type": "code",
   "execution_count": 5,
   "id": "c422a8a3",
   "metadata": {},
   "outputs": [
    {
     "data": {
      "text/plain": [
       "['__class__',\n",
       " '__delattr__',\n",
       " '__dict__',\n",
       " '__dir__',\n",
       " '__doc__',\n",
       " '__eq__',\n",
       " '__format__',\n",
       " '__ge__',\n",
       " '__getattribute__',\n",
       " '__gt__',\n",
       " '__hash__',\n",
       " '__init__',\n",
       " '__init_subclass__',\n",
       " '__le__',\n",
       " '__lt__',\n",
       " '__module__',\n",
       " '__ne__',\n",
       " '__new__',\n",
       " '__reduce__',\n",
       " '__reduce_ex__',\n",
       " '__repr__',\n",
       " '__setattr__',\n",
       " '__sizeof__',\n",
       " '__str__',\n",
       " '__subclasshook__',\n",
       " '__weakref__',\n",
       " 'age',\n",
       " 'birthday',\n",
       " 'have_puppies',\n",
       " 'name',\n",
       " 'puppies']"
      ]
     },
     "execution_count": 5,
     "metadata": {},
     "output_type": "execute_result"
    }
   ],
   "source": [
    "# Print object's attributes using \"dir\"\n",
    "attributes = dir(teddy)\n",
    "attributes"
   ]
  },
  {
   "cell_type": "code",
   "execution_count": 6,
   "id": "76a82aa3",
   "metadata": {},
   "outputs": [
    {
     "data": {
      "text/plain": [
       "{'name': 'Teddy', 'age': 3, 'puppies': 0}"
      ]
     },
     "execution_count": 6,
     "metadata": {},
     "output_type": "execute_result"
    }
   ],
   "source": [
    "# Print attributes using \"vars\"\n",
    "vars(teddy)"
   ]
  },
  {
   "cell_type": "code",
   "execution_count": 7,
   "id": "8367a97c",
   "metadata": {},
   "outputs": [
    {
     "data": {
      "text/plain": [
       "mappingproxy({'__module__': '__main__',\n",
       "              '__init__': <function __main__.Dog.__init__(self, name, age, puppies)>,\n",
       "              'birthday': <function __main__.Dog.birthday(self)>,\n",
       "              'have_puppies': <function __main__.Dog.have_puppies(self, number_puppies)>,\n",
       "              '__dict__': <attribute '__dict__' of 'Dog' objects>,\n",
       "              '__weakref__': <attribute '__weakref__' of 'Dog' objects>,\n",
       "              '__doc__': None})"
      ]
     },
     "execution_count": 7,
     "metadata": {},
     "output_type": "execute_result"
    }
   ],
   "source": [
    "# Do \"vars\" on the Class\n",
    "vars(Dog)"
   ]
  },
  {
   "cell_type": "code",
   "execution_count": 8,
   "id": "57522293",
   "metadata": {},
   "outputs": [
    {
     "name": "stdout",
     "output_type": "stream",
     "text": [
      "mappingproxy({'__dict__': <attribute '__dict__' of 'Dog' objects>,\n",
      "              '__doc__': None,\n",
      "              '__init__': <function Dog.__init__ at 0x7f7b60884280>,\n",
      "              '__module__': '__main__',\n",
      "              '__weakref__': <attribute '__weakref__' of 'Dog' objects>,\n",
      "              'birthday': <function Dog.birthday at 0x7f7b60884310>,\n",
      "              'have_puppies': <function Dog.have_puppies at 0x7f7b608843a0>})\n"
     ]
    }
   ],
   "source": [
    "# Pretty print\n",
    "pprint.pprint(vars(Dog))"
   ]
  },
  {
   "cell_type": "markdown",
   "id": "1706b8e6",
   "metadata": {},
   "source": [
    "<mark>Note!  It looks like it did nothing.  But... it did *a little* something.</mark>"
   ]
  },
  {
   "cell_type": "code",
   "execution_count": null,
   "id": "39f51413",
   "metadata": {},
   "outputs": [],
   "source": []
  }
 ],
 "metadata": {
  "kernelspec": {
   "display_name": "Python 3 (ipykernel)",
   "language": "python",
   "name": "python3"
  },
  "language_info": {
   "codemirror_mode": {
    "name": "ipython",
    "version": 3
   },
   "file_extension": ".py",
   "mimetype": "text/x-python",
   "name": "python",
   "nbconvert_exporter": "python",
   "pygments_lexer": "ipython3",
   "version": "3.9.13"
  }
 },
 "nbformat": 4,
 "nbformat_minor": 5
}
